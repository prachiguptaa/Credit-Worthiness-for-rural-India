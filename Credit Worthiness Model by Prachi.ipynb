{
 "cells": [
  {
   "cell_type": "code",
   "execution_count": 2,
   "metadata": {},
   "outputs": [],
   "source": [
    "import pandas as pd\n",
    "import numpy as np\n",
    "import matplotlib.pyplot as plt\n",
    "import seaborn as sns\n",
    "%matplotlib inline"
   ]
  },
  {
   "cell_type": "code",
   "execution_count": 3,
   "metadata": {},
   "outputs": [],
   "source": [
    "data1 = pd.read_csv(r'C:\\Users\\PRACHI\\Downloads\\Data Analysis Exercise_Machstatz (1)\\Data Analysis Exercise_Machstatz\\trainingData.csv')"
   ]
  },
  {
   "cell_type": "code",
   "execution_count": 4,
   "metadata": {},
   "outputs": [],
   "source": [
    "df = data1.copy()"
   ]
  },
  {
   "cell_type": "code",
   "execution_count": 5,
   "metadata": {},
   "outputs": [],
   "source": [
    "pd.options.display.max_columns = None"
   ]
  },
  {
   "cell_type": "code",
   "execution_count": 6,
   "metadata": {},
   "outputs": [
    {
     "data": {
      "text/html": [
       "<div>\n",
       "<style scoped>\n",
       "    .dataframe tbody tr th:only-of-type {\n",
       "        vertical-align: middle;\n",
       "    }\n",
       "\n",
       "    .dataframe tbody tr th {\n",
       "        vertical-align: top;\n",
       "    }\n",
       "\n",
       "    .dataframe thead th {\n",
       "        text-align: right;\n",
       "    }\n",
       "</style>\n",
       "<table border=\"1\" class=\"dataframe\">\n",
       "  <thead>\n",
       "    <tr style=\"text-align: right;\">\n",
       "      <th></th>\n",
       "      <th>Id</th>\n",
       "      <th>city</th>\n",
       "      <th>age</th>\n",
       "      <th>sex</th>\n",
       "      <th>social_class</th>\n",
       "      <th>primary_business</th>\n",
       "      <th>secondary_business</th>\n",
       "      <th>annual_income</th>\n",
       "      <th>monthly_expenses</th>\n",
       "      <th>old_dependents</th>\n",
       "      <th>young_dependents</th>\n",
       "      <th>home_ownership</th>\n",
       "      <th>type_of_house</th>\n",
       "      <th>occupants_count</th>\n",
       "      <th>house_area</th>\n",
       "      <th>sanitary_availability</th>\n",
       "      <th>water_availabity</th>\n",
       "      <th>loan_purpose</th>\n",
       "      <th>loan_tenure</th>\n",
       "      <th>loan_installments</th>\n",
       "      <th>loan_amount</th>\n",
       "    </tr>\n",
       "  </thead>\n",
       "  <tbody>\n",
       "    <tr>\n",
       "      <th>0</th>\n",
       "      <td>1</td>\n",
       "      <td>Dhanbad</td>\n",
       "      <td>22</td>\n",
       "      <td>F</td>\n",
       "      <td>Mochi</td>\n",
       "      <td>Tailoring</td>\n",
       "      <td>Others</td>\n",
       "      <td>36000.0</td>\n",
       "      <td>5000.0</td>\n",
       "      <td>0</td>\n",
       "      <td>2</td>\n",
       "      <td>1.0</td>\n",
       "      <td>R</td>\n",
       "      <td>4</td>\n",
       "      <td>70.0</td>\n",
       "      <td>1.0</td>\n",
       "      <td>0.5</td>\n",
       "      <td>Apparels</td>\n",
       "      <td>12</td>\n",
       "      <td>12</td>\n",
       "      <td>5000.0</td>\n",
       "    </tr>\n",
       "    <tr>\n",
       "      <th>1</th>\n",
       "      <td>2</td>\n",
       "      <td>Manjapra</td>\n",
       "      <td>21</td>\n",
       "      <td>F</td>\n",
       "      <td>OBC</td>\n",
       "      <td>Tailoring</td>\n",
       "      <td>none</td>\n",
       "      <td>94000.0</td>\n",
       "      <td>3600.0</td>\n",
       "      <td>1</td>\n",
       "      <td>1</td>\n",
       "      <td>1.0</td>\n",
       "      <td>T1</td>\n",
       "      <td>4</td>\n",
       "      <td>80.0</td>\n",
       "      <td>1.0</td>\n",
       "      <td>0.5</td>\n",
       "      <td>Apparels</td>\n",
       "      <td>12</td>\n",
       "      <td>50</td>\n",
       "      <td>7500.0</td>\n",
       "    </tr>\n",
       "    <tr>\n",
       "      <th>2</th>\n",
       "      <td>3</td>\n",
       "      <td>Dhanbad</td>\n",
       "      <td>24</td>\n",
       "      <td>M</td>\n",
       "      <td>Nai</td>\n",
       "      <td>Beauty salon</td>\n",
       "      <td>Others</td>\n",
       "      <td>48000.0</td>\n",
       "      <td>4000.0</td>\n",
       "      <td>0</td>\n",
       "      <td>2</td>\n",
       "      <td>1.0</td>\n",
       "      <td>T1</td>\n",
       "      <td>4</td>\n",
       "      <td>50.0</td>\n",
       "      <td>1.0</td>\n",
       "      <td>0.5</td>\n",
       "      <td>Beauty Salon</td>\n",
       "      <td>12</td>\n",
       "      <td>12</td>\n",
       "      <td>5000.0</td>\n",
       "    </tr>\n",
       "    <tr>\n",
       "      <th>3</th>\n",
       "      <td>4</td>\n",
       "      <td>NaN</td>\n",
       "      <td>26</td>\n",
       "      <td>F</td>\n",
       "      <td>OBC</td>\n",
       "      <td>Tailoring</td>\n",
       "      <td>none</td>\n",
       "      <td>7000.0</td>\n",
       "      <td>5000.0</td>\n",
       "      <td>0</td>\n",
       "      <td>2</td>\n",
       "      <td>1.0</td>\n",
       "      <td>T1</td>\n",
       "      <td>5</td>\n",
       "      <td>50.0</td>\n",
       "      <td>1.0</td>\n",
       "      <td>0.5</td>\n",
       "      <td>Apparels</td>\n",
       "      <td>12</td>\n",
       "      <td>50</td>\n",
       "      <td>7500.0</td>\n",
       "    </tr>\n",
       "    <tr>\n",
       "      <th>4</th>\n",
       "      <td>5</td>\n",
       "      <td>Nuapada</td>\n",
       "      <td>23</td>\n",
       "      <td>F</td>\n",
       "      <td>OBC</td>\n",
       "      <td>General store</td>\n",
       "      <td>Agriculture</td>\n",
       "      <td>36000.0</td>\n",
       "      <td>3500.0</td>\n",
       "      <td>0</td>\n",
       "      <td>0</td>\n",
       "      <td>1.0</td>\n",
       "      <td>T1</td>\n",
       "      <td>1</td>\n",
       "      <td>112.0</td>\n",
       "      <td>1.0</td>\n",
       "      <td>0.5</td>\n",
       "      <td>Retail Store</td>\n",
       "      <td>12</td>\n",
       "      <td>12</td>\n",
       "      <td>5000.0</td>\n",
       "    </tr>\n",
       "  </tbody>\n",
       "</table>\n",
       "</div>"
      ],
      "text/plain": [
       "   Id      city  age sex social_class primary_business secondary_business  \\\n",
       "0   1   Dhanbad   22   F        Mochi        Tailoring             Others   \n",
       "1   2  Manjapra   21   F          OBC        Tailoring               none   \n",
       "2   3   Dhanbad   24   M          Nai     Beauty salon             Others   \n",
       "3   4       NaN   26   F          OBC        Tailoring               none   \n",
       "4   5   Nuapada   23   F          OBC    General store        Agriculture   \n",
       "\n",
       "   annual_income  monthly_expenses  old_dependents  young_dependents  \\\n",
       "0        36000.0            5000.0               0                 2   \n",
       "1        94000.0            3600.0               1                 1   \n",
       "2        48000.0            4000.0               0                 2   \n",
       "3         7000.0            5000.0               0                 2   \n",
       "4        36000.0            3500.0               0                 0   \n",
       "\n",
       "   home_ownership type_of_house  occupants_count  house_area  \\\n",
       "0             1.0             R                4        70.0   \n",
       "1             1.0            T1                4        80.0   \n",
       "2             1.0            T1                4        50.0   \n",
       "3             1.0            T1                5        50.0   \n",
       "4             1.0            T1                1       112.0   \n",
       "\n",
       "   sanitary_availability  water_availabity  loan_purpose  loan_tenure  \\\n",
       "0                    1.0               0.5      Apparels           12   \n",
       "1                    1.0               0.5      Apparels           12   \n",
       "2                    1.0               0.5  Beauty Salon           12   \n",
       "3                    1.0               0.5      Apparels           12   \n",
       "4                    1.0               0.5  Retail Store           12   \n",
       "\n",
       "   loan_installments  loan_amount  \n",
       "0                 12       5000.0  \n",
       "1                 50       7500.0  \n",
       "2                 12       5000.0  \n",
       "3                 50       7500.0  \n",
       "4                 12       5000.0  "
      ]
     },
     "execution_count": 6,
     "metadata": {},
     "output_type": "execute_result"
    }
   ],
   "source": [
    "df.head()"
   ]
  },
  {
   "cell_type": "code",
   "execution_count": 7,
   "metadata": {},
   "outputs": [
    {
     "data": {
      "text/plain": [
       "(40000, 21)"
      ]
     },
     "execution_count": 7,
     "metadata": {},
     "output_type": "execute_result"
    }
   ],
   "source": [
    "df.shape"
   ]
  },
  {
   "cell_type": "code",
   "execution_count": 8,
   "metadata": {},
   "outputs": [
    {
     "name": "stdout",
     "output_type": "stream",
     "text": [
      "<class 'pandas.core.frame.DataFrame'>\n",
      "RangeIndex: 40000 entries, 0 to 39999\n",
      "Data columns (total 21 columns):\n",
      " #   Column                 Non-Null Count  Dtype  \n",
      "---  ------                 --------------  -----  \n",
      " 0   Id                     40000 non-null  int64  \n",
      " 1   city                   38136 non-null  object \n",
      " 2   age                    40000 non-null  int64  \n",
      " 3   sex                    40000 non-null  object \n",
      " 4   social_class           34745 non-null  object \n",
      " 5   primary_business       39974 non-null  object \n",
      " 6   secondary_business     34759 non-null  object \n",
      " 7   annual_income          40000 non-null  float64\n",
      " 8   monthly_expenses       39880 non-null  float64\n",
      " 9   old_dependents         40000 non-null  int64  \n",
      " 10  young_dependents       40000 non-null  int64  \n",
      " 11  home_ownership         39621 non-null  float64\n",
      " 12  type_of_house          39306 non-null  object \n",
      " 13  occupants_count        40000 non-null  int64  \n",
      " 14  house_area             40000 non-null  float64\n",
      " 15  sanitary_availability  39792 non-null  float64\n",
      " 16  water_availabity       34747 non-null  float64\n",
      " 17  loan_purpose           39974 non-null  object \n",
      " 18  loan_tenure            40000 non-null  int64  \n",
      " 19  loan_installments      40000 non-null  int64  \n",
      " 20  loan_amount            40000 non-null  float64\n",
      "dtypes: float64(7), int64(7), object(7)\n",
      "memory usage: 6.4+ MB\n"
     ]
    }
   ],
   "source": [
    "df.info()"
   ]
  },
  {
   "cell_type": "markdown",
   "metadata": {},
   "source": [
    "## HANDLING NULL VALUES"
   ]
  },
  {
   "cell_type": "code",
   "execution_count": 9,
   "metadata": {},
   "outputs": [
    {
     "data": {
      "text/plain": [
       "social_class             5255\n",
       "water_availabity         5253\n",
       "secondary_business       5241\n",
       "city                     1864\n",
       "type_of_house             694\n",
       "home_ownership            379\n",
       "sanitary_availability     208\n",
       "monthly_expenses          120\n",
       "loan_purpose               26\n",
       "primary_business           26\n",
       "loan_amount                 0\n",
       "age                         0\n",
       "sex                         0\n",
       "young_dependents            0\n",
       "annual_income               0\n",
       "old_dependents              0\n",
       "loan_installments           0\n",
       "occupants_count             0\n",
       "house_area                  0\n",
       "loan_tenure                 0\n",
       "Id                          0\n",
       "dtype: int64"
      ]
     },
     "execution_count": 9,
     "metadata": {},
     "output_type": "execute_result"
    }
   ],
   "source": [
    "df.isnull().sum().sort_values(ascending = False)"
   ]
  },
  {
   "cell_type": "code",
   "execution_count": 10,
   "metadata": {},
   "outputs": [
    {
     "data": {
      "text/plain": [
       "13.1375"
      ]
     },
     "execution_count": 10,
     "metadata": {},
     "output_type": "execute_result"
    }
   ],
   "source": [
    "(5255/40000)*100"
   ]
  },
  {
   "cell_type": "markdown",
   "metadata": {},
   "source": [
    "Thus, null values represent approx. 13% values of our dataset. Thus, it would not be vise to remove them.\n",
    "For categorical columns, we can use mode to fill NaN values.\n",
    "For continuous columns, we can use median/mean."
   ]
  },
  {
   "cell_type": "markdown",
   "metadata": {},
   "source": [
    "Let us first treat categorical columns."
   ]
  },
  {
   "cell_type": "code",
   "execution_count": 11,
   "metadata": {},
   "outputs": [],
   "source": [
    "df['social_class']=df['social_class'].fillna(df['social_class'].mode()[0])\n",
    "df['city']=df['city'].fillna(df['city'].mode()[0])\n",
    "df['primary_business']=df['primary_business'].fillna(df['primary_business'].mode()[0])\n",
    "df['secondary_business']=df['secondary_business'].fillna(df['secondary_business'].mode()[0])\n",
    "df['type_of_house']=df['type_of_house'].fillna(df['type_of_house'].mode()[0])\n",
    "df['sanitary_availability']=df['sanitary_availability'].fillna(df['sanitary_availability'].mode()[0])                                                      \n",
    "df['water_availabity']=df['water_availabity'].fillna(df['water_availabity'].mode()[0])\n",
    "df['loan_purpose']=df['loan_purpose'].fillna(df['loan_purpose'].mode()[0])\n",
    "df['home_ownership']=df['home_ownership'].fillna(df['home_ownership'].mode()[0])"
   ]
  },
  {
   "cell_type": "markdown",
   "metadata": {},
   "source": [
    "Now, let's treat continuous variable."
   ]
  },
  {
   "cell_type": "code",
   "execution_count": 12,
   "metadata": {},
   "outputs": [],
   "source": [
    "df['monthly_expenses']=df['monthly_expenses'].fillna(df['monthly_expenses'].mean())"
   ]
  },
  {
   "cell_type": "code",
   "execution_count": 13,
   "metadata": {},
   "outputs": [
    {
     "data": {
      "text/plain": [
       "Id                       0\n",
       "city                     0\n",
       "age                      0\n",
       "sex                      0\n",
       "social_class             0\n",
       "primary_business         0\n",
       "secondary_business       0\n",
       "annual_income            0\n",
       "monthly_expenses         0\n",
       "old_dependents           0\n",
       "young_dependents         0\n",
       "home_ownership           0\n",
       "type_of_house            0\n",
       "occupants_count          0\n",
       "house_area               0\n",
       "sanitary_availability    0\n",
       "water_availabity         0\n",
       "loan_purpose             0\n",
       "loan_tenure              0\n",
       "loan_installments        0\n",
       "loan_amount              0\n",
       "dtype: int64"
      ]
     },
     "execution_count": 13,
     "metadata": {},
     "output_type": "execute_result"
    }
   ],
   "source": [
    "df.isnull().sum()"
   ]
  },
  {
   "cell_type": "markdown",
   "metadata": {},
   "source": [
    "Thus, now we have 0 null value."
   ]
  },
  {
   "cell_type": "markdown",
   "metadata": {},
   "source": [
    "## Removing Outliers"
   ]
  },
  {
   "cell_type": "code",
   "execution_count": 14,
   "metadata": {},
   "outputs": [
    {
     "data": {
      "text/plain": [
       "Index(['Id', 'age', 'annual_income', 'monthly_expenses', 'old_dependents',\n",
       "       'young_dependents', 'home_ownership', 'occupants_count', 'house_area',\n",
       "       'sanitary_availability', 'water_availabity', 'loan_tenure',\n",
       "       'loan_installments'],\n",
       "      dtype='object')"
      ]
     },
     "execution_count": 14,
     "metadata": {},
     "output_type": "execute_result"
    }
   ],
   "source": [
    "non_categorical_columns = df.select_dtypes(exclude = ['object']).drop(['loan_amount'], axis=1).columns\n",
    "non_categorical_columns"
   ]
  },
  {
   "cell_type": "code",
   "execution_count": 15,
   "metadata": {},
   "outputs": [],
   "source": [
    "def remove_outliers(data2, features):\n",
    "    for c in features :\n",
    "        Q1 = np.percentile(df[c], 25)\n",
    "        Q3 = np.percentile(df[c], 75)\n",
    "        IQR = Q3-Q1\n",
    "        data1 = data2[(data2[c]<Q3+1.5*IQR)&(data2[c]>Q1-1.5*IQR)]\n",
    "    return data1"
   ]
  },
  {
   "cell_type": "code",
   "execution_count": 16,
   "metadata": {},
   "outputs": [],
   "source": [
    "df = remove_outliers(df, non_categorical_columns)"
   ]
  },
  {
   "cell_type": "code",
   "execution_count": 17,
   "metadata": {},
   "outputs": [
    {
     "data": {
      "text/plain": [
       "(40000, 21)"
      ]
     },
     "execution_count": 17,
     "metadata": {},
     "output_type": "execute_result"
    }
   ],
   "source": [
    "df.shape"
   ]
  },
  {
   "cell_type": "code",
   "execution_count": 18,
   "metadata": {},
   "outputs": [
    {
     "data": {
      "text/plain": [
       "array([    22,     21,     24,     26,     23,     28,     38,     25,\n",
       "           34,     37,     50,     54,     57,     48,     32,     35,\n",
       "           43,     51,     39,     41,     46,     45,     44,     47,\n",
       "           40,     42,     33,     53,     30,     29,     36,     19,\n",
       "           27,     20,     55,     49,     31,     52,     58,     56,\n",
       "           18,     59,     60,     61,     63,     64,     62,     65,\n",
       "           67,     70,    205, 766105,     74,      2,    288,     69,\n",
       "           66,     72,     68,     82,     88,     75], dtype=int64)"
      ]
     },
     "execution_count": 18,
     "metadata": {},
     "output_type": "execute_result"
    }
   ],
   "source": [
    "df.age.unique()"
   ]
  },
  {
   "cell_type": "markdown",
   "metadata": {},
   "source": [
    "205, 766105,2,288 are insignifacnt"
   ]
  },
  {
   "cell_type": "code",
   "execution_count": 19,
   "metadata": {},
   "outputs": [],
   "source": [
    "m = df[(df['age'] ==205)].index\n",
    "df = df.drop(m)"
   ]
  },
  {
   "cell_type": "code",
   "execution_count": 20,
   "metadata": {},
   "outputs": [],
   "source": [
    "k = df[(df['age'] ==766105)].index\n",
    "df = df.drop(k)"
   ]
  },
  {
   "cell_type": "code",
   "execution_count": 21,
   "metadata": {},
   "outputs": [],
   "source": [
    "p = df[(df['age'] ==2)].index\n",
    "df = df.drop(p)"
   ]
  },
  {
   "cell_type": "code",
   "execution_count": 22,
   "metadata": {},
   "outputs": [],
   "source": [
    "k = df[(df['age'] ==288)].index\n",
    "df = df.drop(k)"
   ]
  },
  {
   "cell_type": "markdown",
   "metadata": {},
   "source": [
    "## CORRELATION MATRIX"
   ]
  },
  {
   "cell_type": "code",
   "execution_count": 23,
   "metadata": {},
   "outputs": [
    {
     "data": {
      "text/html": [
       "<div>\n",
       "<style scoped>\n",
       "    .dataframe tbody tr th:only-of-type {\n",
       "        vertical-align: middle;\n",
       "    }\n",
       "\n",
       "    .dataframe tbody tr th {\n",
       "        vertical-align: top;\n",
       "    }\n",
       "\n",
       "    .dataframe thead th {\n",
       "        text-align: right;\n",
       "    }\n",
       "</style>\n",
       "<table border=\"1\" class=\"dataframe\">\n",
       "  <thead>\n",
       "    <tr style=\"text-align: right;\">\n",
       "      <th></th>\n",
       "      <th>Id</th>\n",
       "      <th>age</th>\n",
       "      <th>annual_income</th>\n",
       "      <th>monthly_expenses</th>\n",
       "      <th>old_dependents</th>\n",
       "      <th>young_dependents</th>\n",
       "      <th>home_ownership</th>\n",
       "      <th>occupants_count</th>\n",
       "      <th>house_area</th>\n",
       "      <th>sanitary_availability</th>\n",
       "      <th>water_availabity</th>\n",
       "      <th>loan_tenure</th>\n",
       "      <th>loan_installments</th>\n",
       "      <th>loan_amount</th>\n",
       "    </tr>\n",
       "  </thead>\n",
       "  <tbody>\n",
       "    <tr>\n",
       "      <th>Id</th>\n",
       "      <td>1.000000</td>\n",
       "      <td>0.049552</td>\n",
       "      <td>0.472388</td>\n",
       "      <td>-0.021391</td>\n",
       "      <td>0.044035</td>\n",
       "      <td>0.109432</td>\n",
       "      <td>0.093362</td>\n",
       "      <td>0.007439</td>\n",
       "      <td>0.037255</td>\n",
       "      <td>-0.000277</td>\n",
       "      <td>0.276630</td>\n",
       "      <td>-0.062601</td>\n",
       "      <td>-0.225170</td>\n",
       "      <td>0.141231</td>\n",
       "    </tr>\n",
       "    <tr>\n",
       "      <th>age</th>\n",
       "      <td>0.049552</td>\n",
       "      <td>1.000000</td>\n",
       "      <td>0.058966</td>\n",
       "      <td>-0.015621</td>\n",
       "      <td>0.137694</td>\n",
       "      <td>-0.231902</td>\n",
       "      <td>0.038760</td>\n",
       "      <td>-0.001110</td>\n",
       "      <td>0.006819</td>\n",
       "      <td>-0.029948</td>\n",
       "      <td>-0.009746</td>\n",
       "      <td>-0.049430</td>\n",
       "      <td>-0.050045</td>\n",
       "      <td>0.009409</td>\n",
       "    </tr>\n",
       "    <tr>\n",
       "      <th>annual_income</th>\n",
       "      <td>0.472388</td>\n",
       "      <td>0.058966</td>\n",
       "      <td>1.000000</td>\n",
       "      <td>0.112206</td>\n",
       "      <td>0.062189</td>\n",
       "      <td>0.239734</td>\n",
       "      <td>0.009520</td>\n",
       "      <td>0.003999</td>\n",
       "      <td>0.033886</td>\n",
       "      <td>0.235343</td>\n",
       "      <td>0.059999</td>\n",
       "      <td>-0.027625</td>\n",
       "      <td>-0.119906</td>\n",
       "      <td>0.085601</td>\n",
       "    </tr>\n",
       "    <tr>\n",
       "      <th>monthly_expenses</th>\n",
       "      <td>-0.021391</td>\n",
       "      <td>-0.015621</td>\n",
       "      <td>0.112206</td>\n",
       "      <td>1.000000</td>\n",
       "      <td>-0.003524</td>\n",
       "      <td>0.028695</td>\n",
       "      <td>-0.047004</td>\n",
       "      <td>0.001320</td>\n",
       "      <td>-0.008271</td>\n",
       "      <td>0.059534</td>\n",
       "      <td>0.063374</td>\n",
       "      <td>-0.013020</td>\n",
       "      <td>0.113805</td>\n",
       "      <td>0.019563</td>\n",
       "    </tr>\n",
       "    <tr>\n",
       "      <th>old_dependents</th>\n",
       "      <td>0.044035</td>\n",
       "      <td>0.137694</td>\n",
       "      <td>0.062189</td>\n",
       "      <td>-0.003524</td>\n",
       "      <td>1.000000</td>\n",
       "      <td>-0.093812</td>\n",
       "      <td>0.008236</td>\n",
       "      <td>-0.000987</td>\n",
       "      <td>0.010849</td>\n",
       "      <td>0.028244</td>\n",
       "      <td>-0.042847</td>\n",
       "      <td>-0.022390</td>\n",
       "      <td>-0.033916</td>\n",
       "      <td>0.006991</td>\n",
       "    </tr>\n",
       "    <tr>\n",
       "      <th>young_dependents</th>\n",
       "      <td>0.109432</td>\n",
       "      <td>-0.231902</td>\n",
       "      <td>0.239734</td>\n",
       "      <td>0.028695</td>\n",
       "      <td>-0.093812</td>\n",
       "      <td>1.000000</td>\n",
       "      <td>0.023243</td>\n",
       "      <td>0.004191</td>\n",
       "      <td>0.017863</td>\n",
       "      <td>0.222632</td>\n",
       "      <td>-0.158101</td>\n",
       "      <td>-0.015782</td>\n",
       "      <td>-0.064750</td>\n",
       "      <td>0.006168</td>\n",
       "    </tr>\n",
       "    <tr>\n",
       "      <th>home_ownership</th>\n",
       "      <td>0.093362</td>\n",
       "      <td>0.038760</td>\n",
       "      <td>0.009520</td>\n",
       "      <td>-0.047004</td>\n",
       "      <td>0.008236</td>\n",
       "      <td>0.023243</td>\n",
       "      <td>1.000000</td>\n",
       "      <td>0.000858</td>\n",
       "      <td>0.009342</td>\n",
       "      <td>0.039234</td>\n",
       "      <td>-0.009434</td>\n",
       "      <td>-0.097613</td>\n",
       "      <td>0.020962</td>\n",
       "      <td>0.001616</td>\n",
       "    </tr>\n",
       "    <tr>\n",
       "      <th>occupants_count</th>\n",
       "      <td>0.007439</td>\n",
       "      <td>-0.001110</td>\n",
       "      <td>0.003999</td>\n",
       "      <td>0.001320</td>\n",
       "      <td>-0.000987</td>\n",
       "      <td>0.004191</td>\n",
       "      <td>0.000858</td>\n",
       "      <td>1.000000</td>\n",
       "      <td>-0.000263</td>\n",
       "      <td>0.003526</td>\n",
       "      <td>0.004192</td>\n",
       "      <td>-0.000133</td>\n",
       "      <td>-0.002887</td>\n",
       "      <td>-0.000125</td>\n",
       "    </tr>\n",
       "    <tr>\n",
       "      <th>house_area</th>\n",
       "      <td>0.037255</td>\n",
       "      <td>0.006819</td>\n",
       "      <td>0.033886</td>\n",
       "      <td>-0.008271</td>\n",
       "      <td>0.010849</td>\n",
       "      <td>0.017863</td>\n",
       "      <td>0.009342</td>\n",
       "      <td>-0.000263</td>\n",
       "      <td>1.000000</td>\n",
       "      <td>0.040266</td>\n",
       "      <td>-0.013911</td>\n",
       "      <td>0.001176</td>\n",
       "      <td>-0.027504</td>\n",
       "      <td>0.002871</td>\n",
       "    </tr>\n",
       "    <tr>\n",
       "      <th>sanitary_availability</th>\n",
       "      <td>-0.000277</td>\n",
       "      <td>-0.029948</td>\n",
       "      <td>0.235343</td>\n",
       "      <td>0.059534</td>\n",
       "      <td>0.028244</td>\n",
       "      <td>0.222632</td>\n",
       "      <td>0.039234</td>\n",
       "      <td>0.003526</td>\n",
       "      <td>0.040266</td>\n",
       "      <td>1.000000</td>\n",
       "      <td>-0.069160</td>\n",
       "      <td>0.007579</td>\n",
       "      <td>0.173811</td>\n",
       "      <td>0.041532</td>\n",
       "    </tr>\n",
       "    <tr>\n",
       "      <th>water_availabity</th>\n",
       "      <td>0.276630</td>\n",
       "      <td>-0.009746</td>\n",
       "      <td>0.059999</td>\n",
       "      <td>0.063374</td>\n",
       "      <td>-0.042847</td>\n",
       "      <td>-0.158101</td>\n",
       "      <td>-0.009434</td>\n",
       "      <td>0.004192</td>\n",
       "      <td>-0.013911</td>\n",
       "      <td>-0.069160</td>\n",
       "      <td>1.000000</td>\n",
       "      <td>0.043640</td>\n",
       "      <td>-0.055691</td>\n",
       "      <td>0.045865</td>\n",
       "    </tr>\n",
       "    <tr>\n",
       "      <th>loan_tenure</th>\n",
       "      <td>-0.062601</td>\n",
       "      <td>-0.049430</td>\n",
       "      <td>-0.027625</td>\n",
       "      <td>-0.013020</td>\n",
       "      <td>-0.022390</td>\n",
       "      <td>-0.015782</td>\n",
       "      <td>-0.097613</td>\n",
       "      <td>-0.000133</td>\n",
       "      <td>0.001176</td>\n",
       "      <td>0.007579</td>\n",
       "      <td>0.043640</td>\n",
       "      <td>1.000000</td>\n",
       "      <td>0.067607</td>\n",
       "      <td>0.082230</td>\n",
       "    </tr>\n",
       "    <tr>\n",
       "      <th>loan_installments</th>\n",
       "      <td>-0.225170</td>\n",
       "      <td>-0.050045</td>\n",
       "      <td>-0.119906</td>\n",
       "      <td>0.113805</td>\n",
       "      <td>-0.033916</td>\n",
       "      <td>-0.064750</td>\n",
       "      <td>0.020962</td>\n",
       "      <td>-0.002887</td>\n",
       "      <td>-0.027504</td>\n",
       "      <td>0.173811</td>\n",
       "      <td>-0.055691</td>\n",
       "      <td>0.067607</td>\n",
       "      <td>1.000000</td>\n",
       "      <td>0.015983</td>\n",
       "    </tr>\n",
       "    <tr>\n",
       "      <th>loan_amount</th>\n",
       "      <td>0.141231</td>\n",
       "      <td>0.009409</td>\n",
       "      <td>0.085601</td>\n",
       "      <td>0.019563</td>\n",
       "      <td>0.006991</td>\n",
       "      <td>0.006168</td>\n",
       "      <td>0.001616</td>\n",
       "      <td>-0.000125</td>\n",
       "      <td>0.002871</td>\n",
       "      <td>0.041532</td>\n",
       "      <td>0.045865</td>\n",
       "      <td>0.082230</td>\n",
       "      <td>0.015983</td>\n",
       "      <td>1.000000</td>\n",
       "    </tr>\n",
       "  </tbody>\n",
       "</table>\n",
       "</div>"
      ],
      "text/plain": [
       "                             Id       age  annual_income  monthly_expenses  \\\n",
       "Id                     1.000000  0.049552       0.472388         -0.021391   \n",
       "age                    0.049552  1.000000       0.058966         -0.015621   \n",
       "annual_income          0.472388  0.058966       1.000000          0.112206   \n",
       "monthly_expenses      -0.021391 -0.015621       0.112206          1.000000   \n",
       "old_dependents         0.044035  0.137694       0.062189         -0.003524   \n",
       "young_dependents       0.109432 -0.231902       0.239734          0.028695   \n",
       "home_ownership         0.093362  0.038760       0.009520         -0.047004   \n",
       "occupants_count        0.007439 -0.001110       0.003999          0.001320   \n",
       "house_area             0.037255  0.006819       0.033886         -0.008271   \n",
       "sanitary_availability -0.000277 -0.029948       0.235343          0.059534   \n",
       "water_availabity       0.276630 -0.009746       0.059999          0.063374   \n",
       "loan_tenure           -0.062601 -0.049430      -0.027625         -0.013020   \n",
       "loan_installments     -0.225170 -0.050045      -0.119906          0.113805   \n",
       "loan_amount            0.141231  0.009409       0.085601          0.019563   \n",
       "\n",
       "                       old_dependents  young_dependents  home_ownership  \\\n",
       "Id                           0.044035          0.109432        0.093362   \n",
       "age                          0.137694         -0.231902        0.038760   \n",
       "annual_income                0.062189          0.239734        0.009520   \n",
       "monthly_expenses            -0.003524          0.028695       -0.047004   \n",
       "old_dependents               1.000000         -0.093812        0.008236   \n",
       "young_dependents            -0.093812          1.000000        0.023243   \n",
       "home_ownership               0.008236          0.023243        1.000000   \n",
       "occupants_count             -0.000987          0.004191        0.000858   \n",
       "house_area                   0.010849          0.017863        0.009342   \n",
       "sanitary_availability        0.028244          0.222632        0.039234   \n",
       "water_availabity            -0.042847         -0.158101       -0.009434   \n",
       "loan_tenure                 -0.022390         -0.015782       -0.097613   \n",
       "loan_installments           -0.033916         -0.064750        0.020962   \n",
       "loan_amount                  0.006991          0.006168        0.001616   \n",
       "\n",
       "                       occupants_count  house_area  sanitary_availability  \\\n",
       "Id                            0.007439    0.037255              -0.000277   \n",
       "age                          -0.001110    0.006819              -0.029948   \n",
       "annual_income                 0.003999    0.033886               0.235343   \n",
       "monthly_expenses              0.001320   -0.008271               0.059534   \n",
       "old_dependents               -0.000987    0.010849               0.028244   \n",
       "young_dependents              0.004191    0.017863               0.222632   \n",
       "home_ownership                0.000858    0.009342               0.039234   \n",
       "occupants_count               1.000000   -0.000263               0.003526   \n",
       "house_area                   -0.000263    1.000000               0.040266   \n",
       "sanitary_availability         0.003526    0.040266               1.000000   \n",
       "water_availabity              0.004192   -0.013911              -0.069160   \n",
       "loan_tenure                  -0.000133    0.001176               0.007579   \n",
       "loan_installments            -0.002887   -0.027504               0.173811   \n",
       "loan_amount                  -0.000125    0.002871               0.041532   \n",
       "\n",
       "                       water_availabity  loan_tenure  loan_installments  \\\n",
       "Id                             0.276630    -0.062601          -0.225170   \n",
       "age                           -0.009746    -0.049430          -0.050045   \n",
       "annual_income                  0.059999    -0.027625          -0.119906   \n",
       "monthly_expenses               0.063374    -0.013020           0.113805   \n",
       "old_dependents                -0.042847    -0.022390          -0.033916   \n",
       "young_dependents              -0.158101    -0.015782          -0.064750   \n",
       "home_ownership                -0.009434    -0.097613           0.020962   \n",
       "occupants_count                0.004192    -0.000133          -0.002887   \n",
       "house_area                    -0.013911     0.001176          -0.027504   \n",
       "sanitary_availability         -0.069160     0.007579           0.173811   \n",
       "water_availabity               1.000000     0.043640          -0.055691   \n",
       "loan_tenure                    0.043640     1.000000           0.067607   \n",
       "loan_installments             -0.055691     0.067607           1.000000   \n",
       "loan_amount                    0.045865     0.082230           0.015983   \n",
       "\n",
       "                       loan_amount  \n",
       "Id                        0.141231  \n",
       "age                       0.009409  \n",
       "annual_income             0.085601  \n",
       "monthly_expenses          0.019563  \n",
       "old_dependents            0.006991  \n",
       "young_dependents          0.006168  \n",
       "home_ownership            0.001616  \n",
       "occupants_count          -0.000125  \n",
       "house_area                0.002871  \n",
       "sanitary_availability     0.041532  \n",
       "water_availabity          0.045865  \n",
       "loan_tenure               0.082230  \n",
       "loan_installments         0.015983  \n",
       "loan_amount               1.000000  "
      ]
     },
     "execution_count": 23,
     "metadata": {},
     "output_type": "execute_result"
    }
   ],
   "source": [
    "correlation_matrix = df.corr()\n",
    "correlation_matrix"
   ]
  },
  {
   "cell_type": "code",
   "execution_count": 24,
   "metadata": {},
   "outputs": [
    {
     "data": {
      "text/plain": [
       "<AxesSubplot:title={'center':'Correlation Matrix'}>"
      ]
     },
     "execution_count": 24,
     "metadata": {},
     "output_type": "execute_result"
    },
    {
     "data": {
      "image/png": "[encoded data removed]",
      "text/plain": [
       "<Figure size 1440x720 with 2 Axes>"
      ]
     },
     "metadata": {
      "needs_background": "light"
     },
     "output_type": "display_data"
    }
   ],
   "source": [
    "plt.figure(figsize = (20, 10))\n",
    "plt.title('Correlation Matrix')\n",
    "sns.heatmap(correlation_matrix, annot = True, cmap=\"Blues\")"
   ]
  },
  {
   "cell_type": "markdown",
   "metadata": {},
   "source": [
    "# 1.Personal features like age, sex, city, social_class, Id"
   ]
  },
  {
   "cell_type": "code",
   "execution_count": 25,
   "metadata": {},
   "outputs": [
    {
     "data": {
      "text/html": [
       "<div>\n",
       "<style scoped>\n",
       "    .dataframe tbody tr th:only-of-type {\n",
       "        vertical-align: middle;\n",
       "    }\n",
       "\n",
       "    .dataframe tbody tr th {\n",
       "        vertical-align: top;\n",
       "    }\n",
       "\n",
       "    .dataframe thead th {\n",
       "        text-align: right;\n",
       "    }\n",
       "</style>\n",
       "<table border=\"1\" class=\"dataframe\">\n",
       "  <thead>\n",
       "    <tr style=\"text-align: right;\">\n",
       "      <th></th>\n",
       "      <th>Id</th>\n",
       "      <th>city</th>\n",
       "      <th>age</th>\n",
       "      <th>sex</th>\n",
       "    </tr>\n",
       "  </thead>\n",
       "  <tbody>\n",
       "    <tr>\n",
       "      <th>0</th>\n",
       "      <td>1</td>\n",
       "      <td>Dhanbad</td>\n",
       "      <td>22</td>\n",
       "      <td>F</td>\n",
       "    </tr>\n",
       "    <tr>\n",
       "      <th>1</th>\n",
       "      <td>2</td>\n",
       "      <td>Manjapra</td>\n",
       "      <td>21</td>\n",
       "      <td>F</td>\n",
       "    </tr>\n",
       "    <tr>\n",
       "      <th>2</th>\n",
       "      <td>3</td>\n",
       "      <td>Dhanbad</td>\n",
       "      <td>24</td>\n",
       "      <td>M</td>\n",
       "    </tr>\n",
       "    <tr>\n",
       "      <th>3</th>\n",
       "      <td>4</td>\n",
       "      <td>Pusad</td>\n",
       "      <td>26</td>\n",
       "      <td>F</td>\n",
       "    </tr>\n",
       "    <tr>\n",
       "      <th>4</th>\n",
       "      <td>5</td>\n",
       "      <td>Nuapada</td>\n",
       "      <td>23</td>\n",
       "      <td>F</td>\n",
       "    </tr>\n",
       "    <tr>\n",
       "      <th>...</th>\n",
       "      <td>...</td>\n",
       "      <td>...</td>\n",
       "      <td>...</td>\n",
       "      <td>...</td>\n",
       "    </tr>\n",
       "    <tr>\n",
       "      <th>39995</th>\n",
       "      <td>39996</td>\n",
       "      <td>Pusad</td>\n",
       "      <td>45</td>\n",
       "      <td>F</td>\n",
       "    </tr>\n",
       "    <tr>\n",
       "      <th>39996</th>\n",
       "      <td>39997</td>\n",
       "      <td>Pusad</td>\n",
       "      <td>35</td>\n",
       "      <td>F</td>\n",
       "    </tr>\n",
       "    <tr>\n",
       "      <th>39997</th>\n",
       "      <td>39998</td>\n",
       "      <td>Pusad</td>\n",
       "      <td>35</td>\n",
       "      <td>F</td>\n",
       "    </tr>\n",
       "    <tr>\n",
       "      <th>39998</th>\n",
       "      <td>39999</td>\n",
       "      <td>Pusad</td>\n",
       "      <td>28</td>\n",
       "      <td>F</td>\n",
       "    </tr>\n",
       "    <tr>\n",
       "      <th>39999</th>\n",
       "      <td>40000</td>\n",
       "      <td>Pusad</td>\n",
       "      <td>32</td>\n",
       "      <td>F</td>\n",
       "    </tr>\n",
       "  </tbody>\n",
       "</table>\n",
       "<p>39995 rows × 4 columns</p>\n",
       "</div>"
      ],
      "text/plain": [
       "          Id      city  age sex\n",
       "0          1   Dhanbad   22   F\n",
       "1          2  Manjapra   21   F\n",
       "2          3   Dhanbad   24   M\n",
       "3          4     Pusad   26   F\n",
       "4          5   Nuapada   23   F\n",
       "...      ...       ...  ...  ..\n",
       "39995  39996     Pusad   45   F\n",
       "39996  39997     Pusad   35   F\n",
       "39997  39998     Pusad   35   F\n",
       "39998  39999     Pusad   28   F\n",
       "39999  40000     Pusad   32   F\n",
       "\n",
       "[39995 rows x 4 columns]"
      ]
     },
     "execution_count": 25,
     "metadata": {},
     "output_type": "execute_result"
    }
   ],
   "source": [
    "X_personal = pd.DataFrame(df, columns = {'Id', 'city', 'age', 'sex'})\n",
    "X_personal"
   ]
  },
  {
   "cell_type": "code",
   "execution_count": 26,
   "metadata": {},
   "outputs": [
    {
     "data": {
      "text/plain": [
       "sex\n",
       "F     37617\n",
       "M      2371\n",
       "TG        7\n",
       "Name: sex, dtype: int64"
      ]
     },
     "execution_count": 26,
     "metadata": {},
     "output_type": "execute_result"
    }
   ],
   "source": [
    "df.groupby('sex')['sex'].count()"
   ]
  },
  {
   "cell_type": "code",
   "execution_count": 27,
   "metadata": {},
   "outputs": [
    {
     "data": {
      "text/plain": [
       "<AxesSubplot:xlabel='sex', ylabel='count'>"
      ]
     },
     "execution_count": 27,
     "metadata": {},
     "output_type": "execute_result"
    },
    {
     "data": {
      "image/png": "[encoded data removed]",
      "text/plain": [
       "<Figure size 432x288 with 1 Axes>"
      ]
     },
     "metadata": {
      "needs_background": "light"
     },
     "output_type": "display_data"
    }
   ],
   "source": [
    "sns.countplot(x = 'sex', data = X_personal)"
   ]
  },
  {
   "cell_type": "code",
   "execution_count": 28,
   "metadata": {},
   "outputs": [
    {
     "data": {
      "text/html": [
       "<div>\n",
       "<style scoped>\n",
       "    .dataframe tbody tr th:only-of-type {\n",
       "        vertical-align: middle;\n",
       "    }\n",
       "\n",
       "    .dataframe tbody tr th {\n",
       "        vertical-align: top;\n",
       "    }\n",
       "\n",
       "    .dataframe thead th {\n",
       "        text-align: right;\n",
       "    }\n",
       "</style>\n",
       "<table border=\"1\" class=\"dataframe\">\n",
       "  <thead>\n",
       "    <tr style=\"text-align: right;\">\n",
       "      <th></th>\n",
       "      <th>sex_M</th>\n",
       "      <th>sex_TG</th>\n",
       "    </tr>\n",
       "  </thead>\n",
       "  <tbody>\n",
       "    <tr>\n",
       "      <th>0</th>\n",
       "      <td>0</td>\n",
       "      <td>0</td>\n",
       "    </tr>\n",
       "    <tr>\n",
       "      <th>1</th>\n",
       "      <td>0</td>\n",
       "      <td>0</td>\n",
       "    </tr>\n",
       "    <tr>\n",
       "      <th>2</th>\n",
       "      <td>1</td>\n",
       "      <td>0</td>\n",
       "    </tr>\n",
       "    <tr>\n",
       "      <th>3</th>\n",
       "      <td>0</td>\n",
       "      <td>0</td>\n",
       "    </tr>\n",
       "    <tr>\n",
       "      <th>4</th>\n",
       "      <td>0</td>\n",
       "      <td>0</td>\n",
       "    </tr>\n",
       "    <tr>\n",
       "      <th>...</th>\n",
       "      <td>...</td>\n",
       "      <td>...</td>\n",
       "    </tr>\n",
       "    <tr>\n",
       "      <th>39995</th>\n",
       "      <td>0</td>\n",
       "      <td>0</td>\n",
       "    </tr>\n",
       "    <tr>\n",
       "      <th>39996</th>\n",
       "      <td>0</td>\n",
       "      <td>0</td>\n",
       "    </tr>\n",
       "    <tr>\n",
       "      <th>39997</th>\n",
       "      <td>0</td>\n",
       "      <td>0</td>\n",
       "    </tr>\n",
       "    <tr>\n",
       "      <th>39998</th>\n",
       "      <td>0</td>\n",
       "      <td>0</td>\n",
       "    </tr>\n",
       "    <tr>\n",
       "      <th>39999</th>\n",
       "      <td>0</td>\n",
       "      <td>0</td>\n",
       "    </tr>\n",
       "  </tbody>\n",
       "</table>\n",
       "<p>39995 rows × 2 columns</p>\n",
       "</div>"
      ],
      "text/plain": [
       "       sex_M  sex_TG\n",
       "0          0       0\n",
       "1          0       0\n",
       "2          1       0\n",
       "3          0       0\n",
       "4          0       0\n",
       "...      ...     ...\n",
       "39995      0       0\n",
       "39996      0       0\n",
       "39997      0       0\n",
       "39998      0       0\n",
       "39999      0       0\n",
       "\n",
       "[39995 rows x 2 columns]"
      ]
     },
     "execution_count": 28,
     "metadata": {},
     "output_type": "execute_result"
    }
   ],
   "source": [
    "X_Sex = pd.get_dummies(X_personal['sex'], prefix = 'sex', drop_first = True)\n",
    "X_Sex"
   ]
  },
  {
   "cell_type": "markdown",
   "metadata": {},
   "source": [
    "# 2. Financial details like primary_business, secondary_business, annual_income, monthly_expenses, old_dependents, young_dependents"
   ]
  },
  {
   "cell_type": "code",
   "execution_count": 29,
   "metadata": {},
   "outputs": [
    {
     "data": {
      "text/html": [
       "<div>\n",
       "<style scoped>\n",
       "    .dataframe tbody tr th:only-of-type {\n",
       "        vertical-align: middle;\n",
       "    }\n",
       "\n",
       "    .dataframe tbody tr th {\n",
       "        vertical-align: top;\n",
       "    }\n",
       "\n",
       "    .dataframe thead th {\n",
       "        text-align: right;\n",
       "    }\n",
       "</style>\n",
       "<table border=\"1\" class=\"dataframe\">\n",
       "  <thead>\n",
       "    <tr style=\"text-align: right;\">\n",
       "      <th></th>\n",
       "      <th>old_dependents</th>\n",
       "      <th>annual_income</th>\n",
       "      <th>young_dependents</th>\n",
       "      <th>primary_business</th>\n",
       "      <th>monthly_expenses</th>\n",
       "      <th>secondary_business</th>\n",
       "    </tr>\n",
       "  </thead>\n",
       "  <tbody>\n",
       "    <tr>\n",
       "      <th>0</th>\n",
       "      <td>0</td>\n",
       "      <td>36000.0</td>\n",
       "      <td>2</td>\n",
       "      <td>Tailoring</td>\n",
       "      <td>5000.0</td>\n",
       "      <td>Others</td>\n",
       "    </tr>\n",
       "    <tr>\n",
       "      <th>1</th>\n",
       "      <td>1</td>\n",
       "      <td>94000.0</td>\n",
       "      <td>1</td>\n",
       "      <td>Tailoring</td>\n",
       "      <td>3600.0</td>\n",
       "      <td>none</td>\n",
       "    </tr>\n",
       "    <tr>\n",
       "      <th>2</th>\n",
       "      <td>0</td>\n",
       "      <td>48000.0</td>\n",
       "      <td>2</td>\n",
       "      <td>Beauty salon</td>\n",
       "      <td>4000.0</td>\n",
       "      <td>Others</td>\n",
       "    </tr>\n",
       "    <tr>\n",
       "      <th>3</th>\n",
       "      <td>0</td>\n",
       "      <td>7000.0</td>\n",
       "      <td>2</td>\n",
       "      <td>Tailoring</td>\n",
       "      <td>5000.0</td>\n",
       "      <td>none</td>\n",
       "    </tr>\n",
       "    <tr>\n",
       "      <th>4</th>\n",
       "      <td>0</td>\n",
       "      <td>36000.0</td>\n",
       "      <td>0</td>\n",
       "      <td>General store</td>\n",
       "      <td>3500.0</td>\n",
       "      <td>Agriculture</td>\n",
       "    </tr>\n",
       "    <tr>\n",
       "      <th>...</th>\n",
       "      <td>...</td>\n",
       "      <td>...</td>\n",
       "      <td>...</td>\n",
       "      <td>...</td>\n",
       "      <td>...</td>\n",
       "      <td>...</td>\n",
       "    </tr>\n",
       "    <tr>\n",
       "      <th>39995</th>\n",
       "      <td>0</td>\n",
       "      <td>78000.0</td>\n",
       "      <td>0</td>\n",
       "      <td>Buffalo rearing</td>\n",
       "      <td>4000.0</td>\n",
       "      <td>none</td>\n",
       "    </tr>\n",
       "    <tr>\n",
       "      <th>39996</th>\n",
       "      <td>0</td>\n",
       "      <td>48000.0</td>\n",
       "      <td>3</td>\n",
       "      <td>Tailoring</td>\n",
       "      <td>4000.0</td>\n",
       "      <td>none</td>\n",
       "    </tr>\n",
       "    <tr>\n",
       "      <th>39997</th>\n",
       "      <td>0</td>\n",
       "      <td>48000.0</td>\n",
       "      <td>2</td>\n",
       "      <td>Goat rearing</td>\n",
       "      <td>3500.0</td>\n",
       "      <td>none</td>\n",
       "    </tr>\n",
       "    <tr>\n",
       "      <th>39998</th>\n",
       "      <td>0</td>\n",
       "      <td>48000.0</td>\n",
       "      <td>3</td>\n",
       "      <td>Goat rearing</td>\n",
       "      <td>4000.0</td>\n",
       "      <td>none</td>\n",
       "    </tr>\n",
       "    <tr>\n",
       "      <th>39999</th>\n",
       "      <td>0</td>\n",
       "      <td>72000.0</td>\n",
       "      <td>2</td>\n",
       "      <td>Goat rearing</td>\n",
       "      <td>4500.0</td>\n",
       "      <td>none</td>\n",
       "    </tr>\n",
       "  </tbody>\n",
       "</table>\n",
       "<p>39995 rows × 6 columns</p>\n",
       "</div>"
      ],
      "text/plain": [
       "       old_dependents  annual_income  young_dependents primary_business  \\\n",
       "0                   0        36000.0                 2        Tailoring   \n",
       "1                   1        94000.0                 1        Tailoring   \n",
       "2                   0        48000.0                 2     Beauty salon   \n",
       "3                   0         7000.0                 2        Tailoring   \n",
       "4                   0        36000.0                 0    General store   \n",
       "...               ...            ...               ...              ...   \n",
       "39995               0        78000.0                 0  Buffalo rearing   \n",
       "39996               0        48000.0                 3        Tailoring   \n",
       "39997               0        48000.0                 2     Goat rearing   \n",
       "39998               0        48000.0                 3     Goat rearing   \n",
       "39999               0        72000.0                 2     Goat rearing   \n",
       "\n",
       "       monthly_expenses secondary_business  \n",
       "0                5000.0             Others  \n",
       "1                3600.0               none  \n",
       "2                4000.0             Others  \n",
       "3                5000.0               none  \n",
       "4                3500.0        Agriculture  \n",
       "...                 ...                ...  \n",
       "39995            4000.0               none  \n",
       "39996            4000.0               none  \n",
       "39997            3500.0               none  \n",
       "39998            4000.0               none  \n",
       "39999            4500.0               none  \n",
       "\n",
       "[39995 rows x 6 columns]"
      ]
     },
     "execution_count": 29,
     "metadata": {},
     "output_type": "execute_result"
    }
   ],
   "source": [
    "X_financial = pd.DataFrame(df, columns = {'primary_business', 'secondary_business', 'annual_income', 'monthly_expenses', \n",
    "                                          'old_dependents', 'young_dependents'})\n",
    "X_financial"
   ]
  },
  {
   "cell_type": "code",
   "execution_count": 30,
   "metadata": {},
   "outputs": [
    {
     "data": {
      "text/plain": [
       "array([2, 1, 0, 3, 4, 5, 6, 7], dtype=int64)"
      ]
     },
     "execution_count": 30,
     "metadata": {},
     "output_type": "execute_result"
    }
   ],
   "source": [
    "X_financial['young_dependents'].unique()"
   ]
  },
  {
   "cell_type": "code",
   "execution_count": 31,
   "metadata": {},
   "outputs": [
    {
     "data": {
      "text/plain": [
       "array([0, 1, 2, 3], dtype=int64)"
      ]
     },
     "execution_count": 31,
     "metadata": {},
     "output_type": "execute_result"
    }
   ],
   "source": [
    "X_financial['old_dependents'].unique()"
   ]
  },
  {
   "cell_type": "code",
   "execution_count": 32,
   "metadata": {},
   "outputs": [
    {
     "data": {
      "text/plain": [
       "array(['Others', 'none', 'Agriculture', 'Daily wage labourer',\n",
       "       'Livestock rearing'], dtype=object)"
      ]
     },
     "execution_count": 32,
     "metadata": {},
     "output_type": "execute_result"
    }
   ],
   "source": [
    "X_financial['secondary_business'].unique()"
   ]
  },
  {
   "cell_type": "code",
   "execution_count": 33,
   "metadata": {},
   "outputs": [
    {
     "data": {
      "text/plain": [
       "<AxesSubplot:xlabel='secondary_business', ylabel='count'>"
      ]
     },
     "execution_count": 33,
     "metadata": {},
     "output_type": "execute_result"
    },
    {
     "data": {
      "image/png": "[encoded data removed]",
      "text/plain": [
       "<Figure size 1080x360 with 1 Axes>"
      ]
     },
     "metadata": {
      "needs_background": "light"
     },
     "output_type": "display_data"
    }
   ],
   "source": [
    "plt.figure(figsize = (15,5))\n",
    "sns.countplot(x = 'secondary_business', data =X_financial )"
   ]
  },
  {
   "cell_type": "code",
   "execution_count": 34,
   "metadata": {},
   "outputs": [
    {
     "data": {
      "text/plain": [
       "0        YES\n",
       "1         NO\n",
       "2        YES\n",
       "3         NO\n",
       "4        YES\n",
       "        ... \n",
       "39995     NO\n",
       "39996     NO\n",
       "39997     NO\n",
       "39998     NO\n",
       "39999     NO\n",
       "Name: sec_business, Length: 39995, dtype: object"
      ]
     },
     "execution_count": 34,
     "metadata": {},
     "output_type": "execute_result"
    }
   ],
   "source": [
    "X_financial['sec_business'] = X_financial['secondary_business'].apply(lambda x : 'NO' if (x =='none') else 'YES')\n",
    "X_financial['sec_business']"
   ]
  },
  {
   "cell_type": "code",
   "execution_count": 35,
   "metadata": {},
   "outputs": [
    {
     "data": {
      "text/html": [
       "<div>\n",
       "<style scoped>\n",
       "    .dataframe tbody tr th:only-of-type {\n",
       "        vertical-align: middle;\n",
       "    }\n",
       "\n",
       "    .dataframe tbody tr th {\n",
       "        vertical-align: top;\n",
       "    }\n",
       "\n",
       "    .dataframe thead th {\n",
       "        text-align: right;\n",
       "    }\n",
       "</style>\n",
       "<table border=\"1\" class=\"dataframe\">\n",
       "  <thead>\n",
       "    <tr style=\"text-align: right;\">\n",
       "      <th></th>\n",
       "      <th>secondary_business_YES</th>\n",
       "    </tr>\n",
       "  </thead>\n",
       "  <tbody>\n",
       "    <tr>\n",
       "      <th>0</th>\n",
       "      <td>1</td>\n",
       "    </tr>\n",
       "    <tr>\n",
       "      <th>1</th>\n",
       "      <td>0</td>\n",
       "    </tr>\n",
       "    <tr>\n",
       "      <th>2</th>\n",
       "      <td>1</td>\n",
       "    </tr>\n",
       "    <tr>\n",
       "      <th>3</th>\n",
       "      <td>0</td>\n",
       "    </tr>\n",
       "    <tr>\n",
       "      <th>4</th>\n",
       "      <td>1</td>\n",
       "    </tr>\n",
       "    <tr>\n",
       "      <th>...</th>\n",
       "      <td>...</td>\n",
       "    </tr>\n",
       "    <tr>\n",
       "      <th>39995</th>\n",
       "      <td>0</td>\n",
       "    </tr>\n",
       "    <tr>\n",
       "      <th>39996</th>\n",
       "      <td>0</td>\n",
       "    </tr>\n",
       "    <tr>\n",
       "      <th>39997</th>\n",
       "      <td>0</td>\n",
       "    </tr>\n",
       "    <tr>\n",
       "      <th>39998</th>\n",
       "      <td>0</td>\n",
       "    </tr>\n",
       "    <tr>\n",
       "      <th>39999</th>\n",
       "      <td>0</td>\n",
       "    </tr>\n",
       "  </tbody>\n",
       "</table>\n",
       "<p>39995 rows × 1 columns</p>\n",
       "</div>"
      ],
      "text/plain": [
       "       secondary_business_YES\n",
       "0                           1\n",
       "1                           0\n",
       "2                           1\n",
       "3                           0\n",
       "4                           1\n",
       "...                       ...\n",
       "39995                       0\n",
       "39996                       0\n",
       "39997                       0\n",
       "39998                       0\n",
       "39999                       0\n",
       "\n",
       "[39995 rows x 1 columns]"
      ]
     },
     "execution_count": 35,
     "metadata": {},
     "output_type": "execute_result"
    }
   ],
   "source": [
    "X_secondary_business = pd.get_dummies(X_financial['sec_business'], prefix = 'secondary_business', drop_first = True)\n",
    "X_secondary_business"
   ]
  },
  {
   "cell_type": "markdown",
   "metadata": {},
   "source": [
    "# 3. HOUSE DETAILS (home_ownership, type_of_house, occupants_count, house_area, sanitary_availability,water_availability)"
   ]
  },
  {
   "cell_type": "code",
   "execution_count": 36,
   "metadata": {},
   "outputs": [
    {
     "data": {
      "text/html": [
       "<div>\n",
       "<style scoped>\n",
       "    .dataframe tbody tr th:only-of-type {\n",
       "        vertical-align: middle;\n",
       "    }\n",
       "\n",
       "    .dataframe tbody tr th {\n",
       "        vertical-align: top;\n",
       "    }\n",
       "\n",
       "    .dataframe thead th {\n",
       "        text-align: right;\n",
       "    }\n",
       "</style>\n",
       "<table border=\"1\" class=\"dataframe\">\n",
       "  <thead>\n",
       "    <tr style=\"text-align: right;\">\n",
       "      <th></th>\n",
       "      <th>occupants_count</th>\n",
       "      <th>sanitary_availability</th>\n",
       "      <th>type_of_house</th>\n",
       "      <th>house_area</th>\n",
       "      <th>home_ownership</th>\n",
       "      <th>water_availabity</th>\n",
       "    </tr>\n",
       "  </thead>\n",
       "  <tbody>\n",
       "    <tr>\n",
       "      <th>0</th>\n",
       "      <td>4</td>\n",
       "      <td>1.0</td>\n",
       "      <td>R</td>\n",
       "      <td>70.0</td>\n",
       "      <td>1.0</td>\n",
       "      <td>0.5</td>\n",
       "    </tr>\n",
       "    <tr>\n",
       "      <th>1</th>\n",
       "      <td>4</td>\n",
       "      <td>1.0</td>\n",
       "      <td>T1</td>\n",
       "      <td>80.0</td>\n",
       "      <td>1.0</td>\n",
       "      <td>0.5</td>\n",
       "    </tr>\n",
       "    <tr>\n",
       "      <th>2</th>\n",
       "      <td>4</td>\n",
       "      <td>1.0</td>\n",
       "      <td>T1</td>\n",
       "      <td>50.0</td>\n",
       "      <td>1.0</td>\n",
       "      <td>0.5</td>\n",
       "    </tr>\n",
       "    <tr>\n",
       "      <th>3</th>\n",
       "      <td>5</td>\n",
       "      <td>1.0</td>\n",
       "      <td>T1</td>\n",
       "      <td>50.0</td>\n",
       "      <td>1.0</td>\n",
       "      <td>0.5</td>\n",
       "    </tr>\n",
       "    <tr>\n",
       "      <th>4</th>\n",
       "      <td>1</td>\n",
       "      <td>1.0</td>\n",
       "      <td>T1</td>\n",
       "      <td>112.0</td>\n",
       "      <td>1.0</td>\n",
       "      <td>0.5</td>\n",
       "    </tr>\n",
       "  </tbody>\n",
       "</table>\n",
       "</div>"
      ],
      "text/plain": [
       "   occupants_count  sanitary_availability type_of_house  house_area  \\\n",
       "0                4                    1.0             R        70.0   \n",
       "1                4                    1.0            T1        80.0   \n",
       "2                4                    1.0            T1        50.0   \n",
       "3                5                    1.0            T1        50.0   \n",
       "4                1                    1.0            T1       112.0   \n",
       "\n",
       "   home_ownership  water_availabity  \n",
       "0             1.0               0.5  \n",
       "1             1.0               0.5  \n",
       "2             1.0               0.5  \n",
       "3             1.0               0.5  \n",
       "4             1.0               0.5  "
      ]
     },
     "execution_count": 36,
     "metadata": {},
     "output_type": "execute_result"
    }
   ],
   "source": [
    "X_house_details=pd.DataFrame(df,columns={\"home_ownership\",\"type_of_house\",\"occupants_count\",\n",
    "                                             \"house_area\",\"sanitary_availability\",\"water_availabity\"})\n",
    "X_house_details.head()"
   ]
  },
  {
   "cell_type": "code",
   "execution_count": 37,
   "metadata": {},
   "outputs": [
    {
     "data": {
      "text/plain": [
       "<AxesSubplot:xlabel='type_of_house', ylabel='count'>"
      ]
     },
     "execution_count": 37,
     "metadata": {},
     "output_type": "execute_result"
    },
    {
     "data": {
      "image/png": "[encoded data removed]",
      "text/plain": [
       "<Figure size 432x288 with 1 Axes>"
      ]
     },
     "metadata": {
      "needs_background": "light"
     },
     "output_type": "display_data"
    }
   ],
   "source": [
    "sns.countplot(x = 'type_of_house', data = X_house_details)"
   ]
  },
  {
   "cell_type": "code",
   "execution_count": 38,
   "metadata": {},
   "outputs": [
    {
     "data": {
      "text/html": [
       "<div>\n",
       "<style scoped>\n",
       "    .dataframe tbody tr th:only-of-type {\n",
       "        vertical-align: middle;\n",
       "    }\n",
       "\n",
       "    .dataframe tbody tr th {\n",
       "        vertical-align: top;\n",
       "    }\n",
       "\n",
       "    .dataframe thead th {\n",
       "        text-align: right;\n",
       "    }\n",
       "</style>\n",
       "<table border=\"1\" class=\"dataframe\">\n",
       "  <thead>\n",
       "    <tr style=\"text-align: right;\">\n",
       "      <th></th>\n",
       "      <th>type_of_house_T1</th>\n",
       "      <th>type_of_house_T2</th>\n",
       "    </tr>\n",
       "  </thead>\n",
       "  <tbody>\n",
       "    <tr>\n",
       "      <th>0</th>\n",
       "      <td>0</td>\n",
       "      <td>0</td>\n",
       "    </tr>\n",
       "    <tr>\n",
       "      <th>1</th>\n",
       "      <td>1</td>\n",
       "      <td>0</td>\n",
       "    </tr>\n",
       "    <tr>\n",
       "      <th>2</th>\n",
       "      <td>1</td>\n",
       "      <td>0</td>\n",
       "    </tr>\n",
       "    <tr>\n",
       "      <th>3</th>\n",
       "      <td>1</td>\n",
       "      <td>0</td>\n",
       "    </tr>\n",
       "    <tr>\n",
       "      <th>4</th>\n",
       "      <td>1</td>\n",
       "      <td>0</td>\n",
       "    </tr>\n",
       "    <tr>\n",
       "      <th>...</th>\n",
       "      <td>...</td>\n",
       "      <td>...</td>\n",
       "    </tr>\n",
       "    <tr>\n",
       "      <th>39995</th>\n",
       "      <td>0</td>\n",
       "      <td>1</td>\n",
       "    </tr>\n",
       "    <tr>\n",
       "      <th>39996</th>\n",
       "      <td>0</td>\n",
       "      <td>1</td>\n",
       "    </tr>\n",
       "    <tr>\n",
       "      <th>39997</th>\n",
       "      <td>0</td>\n",
       "      <td>1</td>\n",
       "    </tr>\n",
       "    <tr>\n",
       "      <th>39998</th>\n",
       "      <td>0</td>\n",
       "      <td>1</td>\n",
       "    </tr>\n",
       "    <tr>\n",
       "      <th>39999</th>\n",
       "      <td>0</td>\n",
       "      <td>1</td>\n",
       "    </tr>\n",
       "  </tbody>\n",
       "</table>\n",
       "<p>39995 rows × 2 columns</p>\n",
       "</div>"
      ],
      "text/plain": [
       "       type_of_house_T1  type_of_house_T2\n",
       "0                     0                 0\n",
       "1                     1                 0\n",
       "2                     1                 0\n",
       "3                     1                 0\n",
       "4                     1                 0\n",
       "...                 ...               ...\n",
       "39995                 0                 1\n",
       "39996                 0                 1\n",
       "39997                 0                 1\n",
       "39998                 0                 1\n",
       "39999                 0                 1\n",
       "\n",
       "[39995 rows x 2 columns]"
      ]
     },
     "execution_count": 38,
     "metadata": {},
     "output_type": "execute_result"
    }
   ],
   "source": [
    "X_type_house = pd.get_dummies(X_house_details['type_of_house'], prefix = 'type_of_house', drop_first=True)\n",
    "X_type_house"
   ]
  },
  {
   "cell_type": "markdown",
   "metadata": {},
   "source": [
    "# 4. LOAN DETAILS\n",
    "\n",
    "loan_purpose, loan_tenure, loan_installments, loan_amount \n",
    "(these contain loan details of loans that have been previously given, and which have been repaid)"
   ]
  },
  {
   "cell_type": "code",
   "execution_count": 39,
   "metadata": {},
   "outputs": [
    {
     "data": {
      "text/html": [
       "<div>\n",
       "<style scoped>\n",
       "    .dataframe tbody tr th:only-of-type {\n",
       "        vertical-align: middle;\n",
       "    }\n",
       "\n",
       "    .dataframe tbody tr th {\n",
       "        vertical-align: top;\n",
       "    }\n",
       "\n",
       "    .dataframe thead th {\n",
       "        text-align: right;\n",
       "    }\n",
       "</style>\n",
       "<table border=\"1\" class=\"dataframe\">\n",
       "  <thead>\n",
       "    <tr style=\"text-align: right;\">\n",
       "      <th></th>\n",
       "      <th>loan_amount</th>\n",
       "      <th>loan_installments</th>\n",
       "      <th>loan_purpose</th>\n",
       "      <th>loan_tenure</th>\n",
       "    </tr>\n",
       "  </thead>\n",
       "  <tbody>\n",
       "    <tr>\n",
       "      <th>0</th>\n",
       "      <td>5000.0</td>\n",
       "      <td>12</td>\n",
       "      <td>Apparels</td>\n",
       "      <td>12</td>\n",
       "    </tr>\n",
       "    <tr>\n",
       "      <th>1</th>\n",
       "      <td>7500.0</td>\n",
       "      <td>50</td>\n",
       "      <td>Apparels</td>\n",
       "      <td>12</td>\n",
       "    </tr>\n",
       "    <tr>\n",
       "      <th>2</th>\n",
       "      <td>5000.0</td>\n",
       "      <td>12</td>\n",
       "      <td>Beauty Salon</td>\n",
       "      <td>12</td>\n",
       "    </tr>\n",
       "    <tr>\n",
       "      <th>3</th>\n",
       "      <td>7500.0</td>\n",
       "      <td>50</td>\n",
       "      <td>Apparels</td>\n",
       "      <td>12</td>\n",
       "    </tr>\n",
       "    <tr>\n",
       "      <th>4</th>\n",
       "      <td>5000.0</td>\n",
       "      <td>12</td>\n",
       "      <td>Retail Store</td>\n",
       "      <td>12</td>\n",
       "    </tr>\n",
       "  </tbody>\n",
       "</table>\n",
       "</div>"
      ],
      "text/plain": [
       "   loan_amount  loan_installments  loan_purpose  loan_tenure\n",
       "0       5000.0                 12      Apparels           12\n",
       "1       7500.0                 50      Apparels           12\n",
       "2       5000.0                 12  Beauty Salon           12\n",
       "3       7500.0                 50      Apparels           12\n",
       "4       5000.0                 12  Retail Store           12"
      ]
     },
     "execution_count": 39,
     "metadata": {},
     "output_type": "execute_result"
    }
   ],
   "source": [
    "X_loan_details = pd.DataFrame(df,columns={\"loan_purpose\",\"loan_tenure\",\"loan_installments\",\"loan_amount\"})\n",
    "X_loan_details.head()"
   ]
  },
  {
   "cell_type": "code",
   "execution_count": 40,
   "metadata": {},
   "outputs": [
    {
     "data": {
      "text/plain": [
       "<AxesSubplot:xlabel='loan_tenure', ylabel='count'>"
      ]
     },
     "execution_count": 40,
     "metadata": {},
     "output_type": "execute_result"
    },
    {
     "data": {
      "image/png": "[encoded data removed]",
      "text/plain": [
       "<Figure size 432x288 with 1 Axes>"
      ]
     },
     "metadata": {
      "needs_background": "light"
     },
     "output_type": "display_data"
    }
   ],
   "source": [
    "sns.countplot(x = 'loan_tenure', data = X_loan_details )"
   ]
  },
  {
   "cell_type": "code",
   "execution_count": 41,
   "metadata": {},
   "outputs": [
    {
     "data": {
      "text/plain": [
       "<AxesSubplot:xlabel='loan_installments', ylabel='count'>"
      ]
     },
     "execution_count": 41,
     "metadata": {},
     "output_type": "execute_result"
    },
    {
     "data": {
      "image/png": "[encoded data removed]",
      "text/plain": [
       "<Figure size 432x288 with 1 Axes>"
      ]
     },
     "metadata": {
      "needs_background": "light"
     },
     "output_type": "display_data"
    }
   ],
   "source": [
    "sns.countplot(x = 'loan_installments', data = X_loan_details)"
   ]
  },
  {
   "cell_type": "markdown",
   "metadata": {},
   "source": [
    "# MODELLING"
   ]
  },
  {
   "cell_type": "code",
   "execution_count": 42,
   "metadata": {},
   "outputs": [],
   "source": [
    "X1 = pd.concat([X_type_house,X_Sex, X_secondary_business ], axis=1)"
   ]
  },
  {
   "cell_type": "code",
   "execution_count": 43,
   "metadata": {},
   "outputs": [
    {
     "data": {
      "text/html": [
       "<div>\n",
       "<style scoped>\n",
       "    .dataframe tbody tr th:only-of-type {\n",
       "        vertical-align: middle;\n",
       "    }\n",
       "\n",
       "    .dataframe tbody tr th {\n",
       "        vertical-align: top;\n",
       "    }\n",
       "\n",
       "    .dataframe thead th {\n",
       "        text-align: right;\n",
       "    }\n",
       "</style>\n",
       "<table border=\"1\" class=\"dataframe\">\n",
       "  <thead>\n",
       "    <tr style=\"text-align: right;\">\n",
       "      <th></th>\n",
       "      <th>type_of_house_T1</th>\n",
       "      <th>type_of_house_T2</th>\n",
       "      <th>sex_M</th>\n",
       "      <th>sex_TG</th>\n",
       "      <th>secondary_business_YES</th>\n",
       "    </tr>\n",
       "  </thead>\n",
       "  <tbody>\n",
       "    <tr>\n",
       "      <th>0</th>\n",
       "      <td>0</td>\n",
       "      <td>0</td>\n",
       "      <td>0</td>\n",
       "      <td>0</td>\n",
       "      <td>1</td>\n",
       "    </tr>\n",
       "    <tr>\n",
       "      <th>1</th>\n",
       "      <td>1</td>\n",
       "      <td>0</td>\n",
       "      <td>0</td>\n",
       "      <td>0</td>\n",
       "      <td>0</td>\n",
       "    </tr>\n",
       "    <tr>\n",
       "      <th>2</th>\n",
       "      <td>1</td>\n",
       "      <td>0</td>\n",
       "      <td>1</td>\n",
       "      <td>0</td>\n",
       "      <td>1</td>\n",
       "    </tr>\n",
       "    <tr>\n",
       "      <th>3</th>\n",
       "      <td>1</td>\n",
       "      <td>0</td>\n",
       "      <td>0</td>\n",
       "      <td>0</td>\n",
       "      <td>0</td>\n",
       "    </tr>\n",
       "    <tr>\n",
       "      <th>4</th>\n",
       "      <td>1</td>\n",
       "      <td>0</td>\n",
       "      <td>0</td>\n",
       "      <td>0</td>\n",
       "      <td>1</td>\n",
       "    </tr>\n",
       "  </tbody>\n",
       "</table>\n",
       "</div>"
      ],
      "text/plain": [
       "   type_of_house_T1  type_of_house_T2  sex_M  sex_TG  secondary_business_YES\n",
       "0                 0                 0      0       0                       1\n",
       "1                 1                 0      0       0                       0\n",
       "2                 1                 0      1       0                       1\n",
       "3                 1                 0      0       0                       0\n",
       "4                 1                 0      0       0                       1"
      ]
     },
     "execution_count": 43,
     "metadata": {},
     "output_type": "execute_result"
    }
   ],
   "source": [
    "X1.head()"
   ]
  },
  {
   "cell_type": "code",
   "execution_count": 44,
   "metadata": {},
   "outputs": [],
   "source": [
    "X2 = pd.DataFrame(df, columns = {'old_dependents', 'loan_installments', 'loan_tenure', 'home_ownership', 'young_dependents', \n",
    "                                 'monthly_expenses', 'annual_income', 'age', 'house_area', 'Id', 'occupants_count'})"
   ]
  },
  {
   "cell_type": "code",
   "execution_count": 45,
   "metadata": {},
   "outputs": [],
   "source": [
    "X0 = pd.concat([X1, X2], axis=1)"
   ]
  },
  {
   "cell_type": "code",
   "execution_count": 46,
   "metadata": {},
   "outputs": [
    {
     "data": {
      "text/html": [
       "<div>\n",
       "<style scoped>\n",
       "    .dataframe tbody tr th:only-of-type {\n",
       "        vertical-align: middle;\n",
       "    }\n",
       "\n",
       "    .dataframe tbody tr th {\n",
       "        vertical-align: top;\n",
       "    }\n",
       "\n",
       "    .dataframe thead th {\n",
       "        text-align: right;\n",
       "    }\n",
       "</style>\n",
       "<table border=\"1\" class=\"dataframe\">\n",
       "  <thead>\n",
       "    <tr style=\"text-align: right;\">\n",
       "      <th></th>\n",
       "      <th>type_of_house_T1</th>\n",
       "      <th>type_of_house_T2</th>\n",
       "      <th>sex_M</th>\n",
       "      <th>sex_TG</th>\n",
       "      <th>secondary_business_YES</th>\n",
       "      <th>old_dependents</th>\n",
       "      <th>loan_tenure</th>\n",
       "      <th>young_dependents</th>\n",
       "      <th>annual_income</th>\n",
       "      <th>age</th>\n",
       "      <th>loan_installments</th>\n",
       "      <th>occupants_count</th>\n",
       "      <th>house_area</th>\n",
       "      <th>Id</th>\n",
       "      <th>home_ownership</th>\n",
       "      <th>monthly_expenses</th>\n",
       "    </tr>\n",
       "  </thead>\n",
       "  <tbody>\n",
       "    <tr>\n",
       "      <th>0</th>\n",
       "      <td>0</td>\n",
       "      <td>0</td>\n",
       "      <td>0</td>\n",
       "      <td>0</td>\n",
       "      <td>1</td>\n",
       "      <td>0</td>\n",
       "      <td>12</td>\n",
       "      <td>2</td>\n",
       "      <td>36000.0</td>\n",
       "      <td>22</td>\n",
       "      <td>12</td>\n",
       "      <td>4</td>\n",
       "      <td>70.0</td>\n",
       "      <td>1</td>\n",
       "      <td>1.0</td>\n",
       "      <td>5000.0</td>\n",
       "    </tr>\n",
       "    <tr>\n",
       "      <th>1</th>\n",
       "      <td>1</td>\n",
       "      <td>0</td>\n",
       "      <td>0</td>\n",
       "      <td>0</td>\n",
       "      <td>0</td>\n",
       "      <td>1</td>\n",
       "      <td>12</td>\n",
       "      <td>1</td>\n",
       "      <td>94000.0</td>\n",
       "      <td>21</td>\n",
       "      <td>50</td>\n",
       "      <td>4</td>\n",
       "      <td>80.0</td>\n",
       "      <td>2</td>\n",
       "      <td>1.0</td>\n",
       "      <td>3600.0</td>\n",
       "    </tr>\n",
       "    <tr>\n",
       "      <th>2</th>\n",
       "      <td>1</td>\n",
       "      <td>0</td>\n",
       "      <td>1</td>\n",
       "      <td>0</td>\n",
       "      <td>1</td>\n",
       "      <td>0</td>\n",
       "      <td>12</td>\n",
       "      <td>2</td>\n",
       "      <td>48000.0</td>\n",
       "      <td>24</td>\n",
       "      <td>12</td>\n",
       "      <td>4</td>\n",
       "      <td>50.0</td>\n",
       "      <td>3</td>\n",
       "      <td>1.0</td>\n",
       "      <td>4000.0</td>\n",
       "    </tr>\n",
       "    <tr>\n",
       "      <th>3</th>\n",
       "      <td>1</td>\n",
       "      <td>0</td>\n",
       "      <td>0</td>\n",
       "      <td>0</td>\n",
       "      <td>0</td>\n",
       "      <td>0</td>\n",
       "      <td>12</td>\n",
       "      <td>2</td>\n",
       "      <td>7000.0</td>\n",
       "      <td>26</td>\n",
       "      <td>50</td>\n",
       "      <td>5</td>\n",
       "      <td>50.0</td>\n",
       "      <td>4</td>\n",
       "      <td>1.0</td>\n",
       "      <td>5000.0</td>\n",
       "    </tr>\n",
       "    <tr>\n",
       "      <th>4</th>\n",
       "      <td>1</td>\n",
       "      <td>0</td>\n",
       "      <td>0</td>\n",
       "      <td>0</td>\n",
       "      <td>1</td>\n",
       "      <td>0</td>\n",
       "      <td>12</td>\n",
       "      <td>0</td>\n",
       "      <td>36000.0</td>\n",
       "      <td>23</td>\n",
       "      <td>12</td>\n",
       "      <td>1</td>\n",
       "      <td>112.0</td>\n",
       "      <td>5</td>\n",
       "      <td>1.0</td>\n",
       "      <td>3500.0</td>\n",
       "    </tr>\n",
       "  </tbody>\n",
       "</table>\n",
       "</div>"
      ],
      "text/plain": [
       "   type_of_house_T1  type_of_house_T2  sex_M  sex_TG  secondary_business_YES  \\\n",
       "0                 0                 0      0       0                       1   \n",
       "1                 1                 0      0       0                       0   \n",
       "2                 1                 0      1       0                       1   \n",
       "3                 1                 0      0       0                       0   \n",
       "4                 1                 0      0       0                       1   \n",
       "\n",
       "   old_dependents  loan_tenure  young_dependents  annual_income  age  \\\n",
       "0               0           12                 2        36000.0   22   \n",
       "1               1           12                 1        94000.0   21   \n",
       "2               0           12                 2        48000.0   24   \n",
       "3               0           12                 2         7000.0   26   \n",
       "4               0           12                 0        36000.0   23   \n",
       "\n",
       "   loan_installments  occupants_count  house_area  Id  home_ownership  \\\n",
       "0                 12                4        70.0   1             1.0   \n",
       "1                 50                4        80.0   2             1.0   \n",
       "2                 12                4        50.0   3             1.0   \n",
       "3                 50                5        50.0   4             1.0   \n",
       "4                 12                1       112.0   5             1.0   \n",
       "\n",
       "   monthly_expenses  \n",
       "0            5000.0  \n",
       "1            3600.0  \n",
       "2            4000.0  \n",
       "3            5000.0  \n",
       "4            3500.0  "
      ]
     },
     "execution_count": 46,
     "metadata": {},
     "output_type": "execute_result"
    }
   ],
   "source": [
    "X0.head()"
   ]
  },
  {
   "cell_type": "code",
   "execution_count": 47,
   "metadata": {},
   "outputs": [],
   "source": [
    "y = df['loan_amount']"
   ]
  },
  {
   "cell_type": "code",
   "execution_count": 48,
   "metadata": {},
   "outputs": [
    {
     "data": {
      "text/plain": [
       "ExtraTreesRegressor()"
      ]
     },
     "execution_count": 48,
     "metadata": {},
     "output_type": "execute_result"
    }
   ],
   "source": [
    "from sklearn.ensemble import ExtraTreesRegressor\n",
    "model=ExtraTreesRegressor()\n",
    "model.fit(X0,y)"
   ]
  },
  {
   "cell_type": "code",
   "execution_count": 49,
   "metadata": {},
   "outputs": [
    {
     "data": {
      "image/png": "[encoded data removed]",
      "text/plain": [
       "<Figure size 432x288 with 1 Axes>"
      ]
     },
     "metadata": {
      "needs_background": "light"
     },
     "output_type": "display_data"
    }
   ],
   "source": [
    "importance = pd.Series(model.feature_importances_, index=X0.columns)\n",
    "importance.nlargest(16).plot(kind='barh')\n",
    "plt.show()"
   ]
  },
  {
   "cell_type": "markdown",
   "metadata": {},
   "source": [
    "We can drop sex_TG"
   ]
  },
  {
   "cell_type": "code",
   "execution_count": 50,
   "metadata": {},
   "outputs": [
    {
     "data": {
      "text/html": [
       "<div>\n",
       "<style scoped>\n",
       "    .dataframe tbody tr th:only-of-type {\n",
       "        vertical-align: middle;\n",
       "    }\n",
       "\n",
       "    .dataframe tbody tr th {\n",
       "        vertical-align: top;\n",
       "    }\n",
       "\n",
       "    .dataframe thead th {\n",
       "        text-align: right;\n",
       "    }\n",
       "</style>\n",
       "<table border=\"1\" class=\"dataframe\">\n",
       "  <thead>\n",
       "    <tr style=\"text-align: right;\">\n",
       "      <th></th>\n",
       "      <th>type_of_house_T1</th>\n",
       "      <th>type_of_house_T2</th>\n",
       "      <th>sex_M</th>\n",
       "      <th>secondary_business_YES</th>\n",
       "      <th>old_dependents</th>\n",
       "      <th>loan_tenure</th>\n",
       "      <th>young_dependents</th>\n",
       "      <th>annual_income</th>\n",
       "      <th>age</th>\n",
       "      <th>loan_installments</th>\n",
       "      <th>occupants_count</th>\n",
       "      <th>house_area</th>\n",
       "      <th>Id</th>\n",
       "      <th>home_ownership</th>\n",
       "      <th>monthly_expenses</th>\n",
       "    </tr>\n",
       "  </thead>\n",
       "  <tbody>\n",
       "    <tr>\n",
       "      <th>0</th>\n",
       "      <td>0</td>\n",
       "      <td>0</td>\n",
       "      <td>0</td>\n",
       "      <td>1</td>\n",
       "      <td>0</td>\n",
       "      <td>12</td>\n",
       "      <td>2</td>\n",
       "      <td>36000.0</td>\n",
       "      <td>22</td>\n",
       "      <td>12</td>\n",
       "      <td>4</td>\n",
       "      <td>70.0</td>\n",
       "      <td>1</td>\n",
       "      <td>1.0</td>\n",
       "      <td>5000.0</td>\n",
       "    </tr>\n",
       "    <tr>\n",
       "      <th>1</th>\n",
       "      <td>1</td>\n",
       "      <td>0</td>\n",
       "      <td>0</td>\n",
       "      <td>0</td>\n",
       "      <td>1</td>\n",
       "      <td>12</td>\n",
       "      <td>1</td>\n",
       "      <td>94000.0</td>\n",
       "      <td>21</td>\n",
       "      <td>50</td>\n",
       "      <td>4</td>\n",
       "      <td>80.0</td>\n",
       "      <td>2</td>\n",
       "      <td>1.0</td>\n",
       "      <td>3600.0</td>\n",
       "    </tr>\n",
       "    <tr>\n",
       "      <th>2</th>\n",
       "      <td>1</td>\n",
       "      <td>0</td>\n",
       "      <td>1</td>\n",
       "      <td>1</td>\n",
       "      <td>0</td>\n",
       "      <td>12</td>\n",
       "      <td>2</td>\n",
       "      <td>48000.0</td>\n",
       "      <td>24</td>\n",
       "      <td>12</td>\n",
       "      <td>4</td>\n",
       "      <td>50.0</td>\n",
       "      <td>3</td>\n",
       "      <td>1.0</td>\n",
       "      <td>4000.0</td>\n",
       "    </tr>\n",
       "    <tr>\n",
       "      <th>3</th>\n",
       "      <td>1</td>\n",
       "      <td>0</td>\n",
       "      <td>0</td>\n",
       "      <td>0</td>\n",
       "      <td>0</td>\n",
       "      <td>12</td>\n",
       "      <td>2</td>\n",
       "      <td>7000.0</td>\n",
       "      <td>26</td>\n",
       "      <td>50</td>\n",
       "      <td>5</td>\n",
       "      <td>50.0</td>\n",
       "      <td>4</td>\n",
       "      <td>1.0</td>\n",
       "      <td>5000.0</td>\n",
       "    </tr>\n",
       "    <tr>\n",
       "      <th>4</th>\n",
       "      <td>1</td>\n",
       "      <td>0</td>\n",
       "      <td>0</td>\n",
       "      <td>1</td>\n",
       "      <td>0</td>\n",
       "      <td>12</td>\n",
       "      <td>0</td>\n",
       "      <td>36000.0</td>\n",
       "      <td>23</td>\n",
       "      <td>12</td>\n",
       "      <td>1</td>\n",
       "      <td>112.0</td>\n",
       "      <td>5</td>\n",
       "      <td>1.0</td>\n",
       "      <td>3500.0</td>\n",
       "    </tr>\n",
       "  </tbody>\n",
       "</table>\n",
       "</div>"
      ],
      "text/plain": [
       "   type_of_house_T1  type_of_house_T2  sex_M  secondary_business_YES  \\\n",
       "0                 0                 0      0                       1   \n",
       "1                 1                 0      0                       0   \n",
       "2                 1                 0      1                       1   \n",
       "3                 1                 0      0                       0   \n",
       "4                 1                 0      0                       1   \n",
       "\n",
       "   old_dependents  loan_tenure  young_dependents  annual_income  age  \\\n",
       "0               0           12                 2        36000.0   22   \n",
       "1               1           12                 1        94000.0   21   \n",
       "2               0           12                 2        48000.0   24   \n",
       "3               0           12                 2         7000.0   26   \n",
       "4               0           12                 0        36000.0   23   \n",
       "\n",
       "   loan_installments  occupants_count  house_area  Id  home_ownership  \\\n",
       "0                 12                4        70.0   1             1.0   \n",
       "1                 50                4        80.0   2             1.0   \n",
       "2                 12                4        50.0   3             1.0   \n",
       "3                 50                5        50.0   4             1.0   \n",
       "4                 12                1       112.0   5             1.0   \n",
       "\n",
       "   monthly_expenses  \n",
       "0            5000.0  \n",
       "1            3600.0  \n",
       "2            4000.0  \n",
       "3            5000.0  \n",
       "4            3500.0  "
      ]
     },
     "execution_count": 50,
     "metadata": {},
     "output_type": "execute_result"
    }
   ],
   "source": [
    "X = X0.drop(['sex_TG'], axis=1)\n",
    "X.head()"
   ]
  },
  {
   "cell_type": "code",
   "execution_count": 196,
   "metadata": {},
   "outputs": [
    {
     "data": {
      "text/plain": [
       "Index(['type_of_house_T1', 'type_of_house_T2', 'sex_M',\n",
       "       'secondary_business_YES', 'old_dependents', 'loan_tenure',\n",
       "       'young_dependents', 'annual_income', 'age', 'loan_installments',\n",
       "       'occupants_count', 'house_area', 'Id', 'home_ownership',\n",
       "       'monthly_expenses'],\n",
       "      dtype='object')"
      ]
     },
     "execution_count": 196,
     "metadata": {},
     "output_type": "execute_result"
    }
   ],
   "source": [
    "X.columns"
   ]
  },
  {
   "cell_type": "code",
   "execution_count": 51,
   "metadata": {},
   "outputs": [
    {
     "data": {
      "text/plain": [
       "(39995, 15)"
      ]
     },
     "execution_count": 51,
     "metadata": {},
     "output_type": "execute_result"
    }
   ],
   "source": [
    "X.shape"
   ]
  },
  {
   "cell_type": "code",
   "execution_count": 52,
   "metadata": {},
   "outputs": [],
   "source": [
    "from sklearn.model_selection import train_test_split\n",
    "SEED = 1\n",
    "X_train, X_test, y_train, y_test = train_test_split(X, y, test_size=0.3, random_state= SEED)"
   ]
  },
  {
   "cell_type": "code",
   "execution_count": 53,
   "metadata": {},
   "outputs": [],
   "source": [
    "from sklearn.metrics import mean_absolute_error as MAE\n",
    "from sklearn.metrics import mean_squared_error as MSE\n",
    "from sklearn.metrics import r2_score\n"
   ]
  },
  {
   "cell_type": "markdown",
   "metadata": {},
   "source": [
    "# LINEAR REGRESSION"
   ]
  },
  {
   "cell_type": "code",
   "execution_count": 54,
   "metadata": {},
   "outputs": [],
   "source": [
    "from sklearn.linear_model import LinearRegression"
   ]
  },
  {
   "cell_type": "code",
   "execution_count": 55,
   "metadata": {},
   "outputs": [
    {
     "data": {
      "text/plain": [
       "LinearRegression()"
      ]
     },
     "execution_count": 55,
     "metadata": {},
     "output_type": "execute_result"
    }
   ],
   "source": [
    "lm=LinearRegression()\n",
    "lm.fit(X_train,y_train)"
   ]
  },
  {
   "cell_type": "code",
   "execution_count": 56,
   "metadata": {},
   "outputs": [],
   "source": [
    "y_pred_lm=lm.predict(X_test)"
   ]
  },
  {
   "cell_type": "code",
   "execution_count": 57,
   "metadata": {},
   "outputs": [
    {
     "data": {
      "text/html": [
       "<div>\n",
       "<style scoped>\n",
       "    .dataframe tbody tr th:only-of-type {\n",
       "        vertical-align: middle;\n",
       "    }\n",
       "\n",
       "    .dataframe tbody tr th {\n",
       "        vertical-align: top;\n",
       "    }\n",
       "\n",
       "    .dataframe thead th {\n",
       "        text-align: right;\n",
       "    }\n",
       "</style>\n",
       "<table border=\"1\" class=\"dataframe\">\n",
       "  <thead>\n",
       "    <tr style=\"text-align: right;\">\n",
       "      <th></th>\n",
       "      <th>Predicted_loan_amount</th>\n",
       "    </tr>\n",
       "  </thead>\n",
       "  <tbody>\n",
       "    <tr>\n",
       "      <th>0</th>\n",
       "      <td>8996.264570</td>\n",
       "    </tr>\n",
       "    <tr>\n",
       "      <th>1</th>\n",
       "      <td>4536.489691</td>\n",
       "    </tr>\n",
       "    <tr>\n",
       "      <th>2</th>\n",
       "      <td>6518.222102</td>\n",
       "    </tr>\n",
       "    <tr>\n",
       "      <th>3</th>\n",
       "      <td>11701.428046</td>\n",
       "    </tr>\n",
       "    <tr>\n",
       "      <th>4</th>\n",
       "      <td>6241.658728</td>\n",
       "    </tr>\n",
       "  </tbody>\n",
       "</table>\n",
       "</div>"
      ],
      "text/plain": [
       "   Predicted_loan_amount\n",
       "0            8996.264570\n",
       "1            4536.489691\n",
       "2            6518.222102\n",
       "3           11701.428046\n",
       "4            6241.658728"
      ]
     },
     "execution_count": 57,
     "metadata": {},
     "output_type": "execute_result"
    }
   ],
   "source": [
    "y_pred_lm = pd.DataFrame(y_pred_lm ,columns={\"Predicted_loan_amount\"})\n",
    "y_pred_lm.head()"
   ]
  },
  {
   "cell_type": "code",
   "execution_count": 58,
   "metadata": {},
   "outputs": [],
   "source": [
    "y_test1=y_test.copy()"
   ]
  },
  {
   "cell_type": "code",
   "execution_count": 59,
   "metadata": {},
   "outputs": [
    {
     "data": {
      "text/html": [
       "<div>\n",
       "<style scoped>\n",
       "    .dataframe tbody tr th:only-of-type {\n",
       "        vertical-align: middle;\n",
       "    }\n",
       "\n",
       "    .dataframe tbody tr th {\n",
       "        vertical-align: top;\n",
       "    }\n",
       "\n",
       "    .dataframe thead th {\n",
       "        text-align: right;\n",
       "    }\n",
       "</style>\n",
       "<table border=\"1\" class=\"dataframe\">\n",
       "  <thead>\n",
       "    <tr style=\"text-align: right;\">\n",
       "      <th></th>\n",
       "      <th>loan_amount</th>\n",
       "    </tr>\n",
       "  </thead>\n",
       "  <tbody>\n",
       "    <tr>\n",
       "      <th>0</th>\n",
       "      <td>15000.0</td>\n",
       "    </tr>\n",
       "    <tr>\n",
       "      <th>1</th>\n",
       "      <td>5000.0</td>\n",
       "    </tr>\n",
       "    <tr>\n",
       "      <th>2</th>\n",
       "      <td>5000.0</td>\n",
       "    </tr>\n",
       "    <tr>\n",
       "      <th>3</th>\n",
       "      <td>8000.0</td>\n",
       "    </tr>\n",
       "    <tr>\n",
       "      <th>4</th>\n",
       "      <td>5000.0</td>\n",
       "    </tr>\n",
       "  </tbody>\n",
       "</table>\n",
       "</div>"
      ],
      "text/plain": [
       "   loan_amount\n",
       "0      15000.0\n",
       "1       5000.0\n",
       "2       5000.0\n",
       "3       8000.0\n",
       "4       5000.0"
      ]
     },
     "execution_count": 59,
     "metadata": {},
     "output_type": "execute_result"
    }
   ],
   "source": [
    "y_test1=y_test1.reset_index()\n",
    "y_test2=pd.DataFrame(y_test1,columns={\"loan_amount\"})\n",
    "y_test2.head()"
   ]
  },
  {
   "cell_type": "code",
   "execution_count": 60,
   "metadata": {},
   "outputs": [
    {
     "data": {
      "text/html": [
       "<div>\n",
       "<style scoped>\n",
       "    .dataframe tbody tr th:only-of-type {\n",
       "        vertical-align: middle;\n",
       "    }\n",
       "\n",
       "    .dataframe tbody tr th {\n",
       "        vertical-align: top;\n",
       "    }\n",
       "\n",
       "    .dataframe thead th {\n",
       "        text-align: right;\n",
       "    }\n",
       "</style>\n",
       "<table border=\"1\" class=\"dataframe\">\n",
       "  <thead>\n",
       "    <tr style=\"text-align: right;\">\n",
       "      <th></th>\n",
       "      <th>Predicted_loan_amount</th>\n",
       "      <th>loan_amount</th>\n",
       "    </tr>\n",
       "  </thead>\n",
       "  <tbody>\n",
       "    <tr>\n",
       "      <th>0</th>\n",
       "      <td>8996.264570</td>\n",
       "      <td>15000.0</td>\n",
       "    </tr>\n",
       "    <tr>\n",
       "      <th>1</th>\n",
       "      <td>4536.489691</td>\n",
       "      <td>5000.0</td>\n",
       "    </tr>\n",
       "    <tr>\n",
       "      <th>2</th>\n",
       "      <td>6518.222102</td>\n",
       "      <td>5000.0</td>\n",
       "    </tr>\n",
       "    <tr>\n",
       "      <th>3</th>\n",
       "      <td>11701.428046</td>\n",
       "      <td>8000.0</td>\n",
       "    </tr>\n",
       "    <tr>\n",
       "      <th>4</th>\n",
       "      <td>6241.658728</td>\n",
       "      <td>5000.0</td>\n",
       "    </tr>\n",
       "    <tr>\n",
       "      <th>5</th>\n",
       "      <td>9254.345130</td>\n",
       "      <td>10000.0</td>\n",
       "    </tr>\n",
       "    <tr>\n",
       "      <th>6</th>\n",
       "      <td>10988.382780</td>\n",
       "      <td>9000.0</td>\n",
       "    </tr>\n",
       "    <tr>\n",
       "      <th>7</th>\n",
       "      <td>6873.604791</td>\n",
       "      <td>5000.0</td>\n",
       "    </tr>\n",
       "    <tr>\n",
       "      <th>8</th>\n",
       "      <td>6669.706280</td>\n",
       "      <td>5000.0</td>\n",
       "    </tr>\n",
       "    <tr>\n",
       "      <th>9</th>\n",
       "      <td>6601.669671</td>\n",
       "      <td>5000.0</td>\n",
       "    </tr>\n",
       "  </tbody>\n",
       "</table>\n",
       "</div>"
      ],
      "text/plain": [
       "   Predicted_loan_amount  loan_amount\n",
       "0            8996.264570      15000.0\n",
       "1            4536.489691       5000.0\n",
       "2            6518.222102       5000.0\n",
       "3           11701.428046       8000.0\n",
       "4            6241.658728       5000.0\n",
       "5            9254.345130      10000.0\n",
       "6           10988.382780       9000.0\n",
       "7            6873.604791       5000.0\n",
       "8            6669.706280       5000.0\n",
       "9            6601.669671       5000.0"
      ]
     },
     "execution_count": 60,
     "metadata": {},
     "output_type": "execute_result"
    }
   ],
   "source": [
    "lm_merged = pd.concat([y_pred_lm,y_test2],axis=1)\n",
    "lm_merged.head(10)"
   ]
  },
  {
   "cell_type": "code",
   "execution_count": 61,
   "metadata": {},
   "outputs": [
    {
     "data": {
      "text/plain": [
       "<AxesSubplot:>"
      ]
     },
     "execution_count": 61,
     "metadata": {},
     "output_type": "execute_result"
    },
    {
     "data": {
      "text/plain": [
       "<Figure size 1440x720 with 0 Axes>"
      ]
     },
     "metadata": {},
     "output_type": "display_data"
    },
    {
     "data": {
      "image/png": "[encoded data removed]",
      "text/plain": [
       "<Figure size 432x288 with 1 Axes>"
      ]
     },
     "metadata": {
      "needs_background": "light"
     },
     "output_type": "display_data"
    }
   ],
   "source": [
    "plt.figure(figsize = (20,10))\n",
    "lm_merged[['loan_amount','Predicted_loan_amount']].plot()"
   ]
  },
  {
   "cell_type": "code",
   "execution_count": 62,
   "metadata": {},
   "outputs": [
    {
     "name": "stdout",
     "output_type": "stream",
     "text": [
      "MAE: 2846.0350938065803\n",
      "MSE: 5165119035.801378\n",
      "RMSE: 71868.76258710302\n",
      "R2 Score: -56.33958051434181\n"
     ]
    }
   ],
   "source": [
    "print('MAE:', MAE(y_test, y_pred_lm))\n",
    "print('MSE:', MSE(y_test, y_pred_lm))\n",
    "print('RMSE:', np.sqrt(MSE(y_test, y_pred_lm)))\n",
    "print('R2 Score:', r2_score(y_test, y_pred_lm))"
   ]
  },
  {
   "cell_type": "markdown",
   "metadata": {},
   "source": [
    "Since, R2 score is negatice, we cannot use Linear Regression  model."
   ]
  },
  {
   "cell_type": "code",
   "execution_count": 63,
   "metadata": {},
   "outputs": [],
   "source": [
    "lm_merged['error_rate'] = (abs(lm_merged['loan_amount']-lm_merged['Predicted_loan_amount'])/lm_merged['loan_amount'])*100"
   ]
  },
  {
   "cell_type": "code",
   "execution_count": 64,
   "metadata": {},
   "outputs": [
    {
     "data": {
      "text/html": [
       "<div>\n",
       "<style scoped>\n",
       "    .dataframe tbody tr th:only-of-type {\n",
       "        vertical-align: middle;\n",
       "    }\n",
       "\n",
       "    .dataframe tbody tr th {\n",
       "        vertical-align: top;\n",
       "    }\n",
       "\n",
       "    .dataframe thead th {\n",
       "        text-align: right;\n",
       "    }\n",
       "</style>\n",
       "<table border=\"1\" class=\"dataframe\">\n",
       "  <thead>\n",
       "    <tr style=\"text-align: right;\">\n",
       "      <th></th>\n",
       "      <th>Predicted_loan_amount</th>\n",
       "      <th>loan_amount</th>\n",
       "      <th>error_rate</th>\n",
       "    </tr>\n",
       "  </thead>\n",
       "  <tbody>\n",
       "    <tr>\n",
       "      <th>0</th>\n",
       "      <td>8996.264570</td>\n",
       "      <td>15000.0</td>\n",
       "      <td>40.024903</td>\n",
       "    </tr>\n",
       "    <tr>\n",
       "      <th>1</th>\n",
       "      <td>4536.489691</td>\n",
       "      <td>5000.0</td>\n",
       "      <td>9.270206</td>\n",
       "    </tr>\n",
       "    <tr>\n",
       "      <th>2</th>\n",
       "      <td>6518.222102</td>\n",
       "      <td>5000.0</td>\n",
       "      <td>30.364442</td>\n",
       "    </tr>\n",
       "    <tr>\n",
       "      <th>3</th>\n",
       "      <td>11701.428046</td>\n",
       "      <td>8000.0</td>\n",
       "      <td>46.267851</td>\n",
       "    </tr>\n",
       "    <tr>\n",
       "      <th>4</th>\n",
       "      <td>6241.658728</td>\n",
       "      <td>5000.0</td>\n",
       "      <td>24.833175</td>\n",
       "    </tr>\n",
       "  </tbody>\n",
       "</table>\n",
       "</div>"
      ],
      "text/plain": [
       "   Predicted_loan_amount  loan_amount  error_rate\n",
       "0            8996.264570      15000.0   40.024903\n",
       "1            4536.489691       5000.0    9.270206\n",
       "2            6518.222102       5000.0   30.364442\n",
       "3           11701.428046       8000.0   46.267851\n",
       "4            6241.658728       5000.0   24.833175"
      ]
     },
     "execution_count": 64,
     "metadata": {},
     "output_type": "execute_result"
    }
   ],
   "source": [
    "lm_merged.head()"
   ]
  },
  {
   "cell_type": "code",
   "execution_count": 65,
   "metadata": {},
   "outputs": [
    {
     "data": {
      "text/plain": [
       "63.81119095274796"
      ]
     },
     "execution_count": 65,
     "metadata": {},
     "output_type": "execute_result"
    }
   ],
   "source": [
    "#mean error rate\n",
    "lm_mean_error=lm_merged.error_rate.mean()\n",
    "#calculating accuracy\n",
    "lm_mean_accuracy=100-lm_mean_error\n",
    "lm_mean_accuracy"
   ]
  },
  {
   "cell_type": "markdown",
   "metadata": {},
   "source": [
    "Accuracy rate is just 63.8%"
   ]
  },
  {
   "cell_type": "markdown",
   "metadata": {},
   "source": [
    "# Decision Tree"
   ]
  },
  {
   "cell_type": "code",
   "execution_count": 66,
   "metadata": {},
   "outputs": [],
   "source": [
    "from sklearn.tree import DecisionTreeRegressor"
   ]
  },
  {
   "cell_type": "code",
   "execution_count": 67,
   "metadata": {},
   "outputs": [
    {
     "data": {
      "text/plain": [
       "DecisionTreeRegressor()"
      ]
     },
     "execution_count": 67,
     "metadata": {},
     "output_type": "execute_result"
    }
   ],
   "source": [
    "dt=DecisionTreeRegressor(criterion='mse')\n",
    "dt.fit(X_train,y_train)"
   ]
  },
  {
   "cell_type": "code",
   "execution_count": 68,
   "metadata": {},
   "outputs": [],
   "source": [
    "y_pred_dt=dt.predict(X_test)"
   ]
  },
  {
   "cell_type": "code",
   "execution_count": 69,
   "metadata": {},
   "outputs": [
    {
     "data": {
      "text/html": [
       "<div>\n",
       "<style scoped>\n",
       "    .dataframe tbody tr th:only-of-type {\n",
       "        vertical-align: middle;\n",
       "    }\n",
       "\n",
       "    .dataframe tbody tr th {\n",
       "        vertical-align: top;\n",
       "    }\n",
       "\n",
       "    .dataframe thead th {\n",
       "        text-align: right;\n",
       "    }\n",
       "</style>\n",
       "<table border=\"1\" class=\"dataframe\">\n",
       "  <thead>\n",
       "    <tr style=\"text-align: right;\">\n",
       "      <th></th>\n",
       "      <th>Predicted_loan_amount</th>\n",
       "    </tr>\n",
       "  </thead>\n",
       "  <tbody>\n",
       "    <tr>\n",
       "      <th>0</th>\n",
       "      <td>8000.0</td>\n",
       "    </tr>\n",
       "    <tr>\n",
       "      <th>1</th>\n",
       "      <td>5000.0</td>\n",
       "    </tr>\n",
       "    <tr>\n",
       "      <th>2</th>\n",
       "      <td>5000.0</td>\n",
       "    </tr>\n",
       "    <tr>\n",
       "      <th>3</th>\n",
       "      <td>8000.0</td>\n",
       "    </tr>\n",
       "    <tr>\n",
       "      <th>4</th>\n",
       "      <td>5000.0</td>\n",
       "    </tr>\n",
       "  </tbody>\n",
       "</table>\n",
       "</div>"
      ],
      "text/plain": [
       "   Predicted_loan_amount\n",
       "0                 8000.0\n",
       "1                 5000.0\n",
       "2                 5000.0\n",
       "3                 8000.0\n",
       "4                 5000.0"
      ]
     },
     "execution_count": 69,
     "metadata": {},
     "output_type": "execute_result"
    }
   ],
   "source": [
    "y_pred_dt = pd.DataFrame(y_pred_dt ,columns={\"Predicted_loan_amount\"})\n",
    "y_pred_dt.head()"
   ]
  },
  {
   "cell_type": "code",
   "execution_count": 70,
   "metadata": {},
   "outputs": [
    {
     "data": {
      "text/html": [
       "<div>\n",
       "<style scoped>\n",
       "    .dataframe tbody tr th:only-of-type {\n",
       "        vertical-align: middle;\n",
       "    }\n",
       "\n",
       "    .dataframe tbody tr th {\n",
       "        vertical-align: top;\n",
       "    }\n",
       "\n",
       "    .dataframe thead th {\n",
       "        text-align: right;\n",
       "    }\n",
       "</style>\n",
       "<table border=\"1\" class=\"dataframe\">\n",
       "  <thead>\n",
       "    <tr style=\"text-align: right;\">\n",
       "      <th></th>\n",
       "      <th>Predicted_loan_amount</th>\n",
       "      <th>loan_amount</th>\n",
       "    </tr>\n",
       "  </thead>\n",
       "  <tbody>\n",
       "    <tr>\n",
       "      <th>0</th>\n",
       "      <td>8000.0</td>\n",
       "      <td>15000.0</td>\n",
       "    </tr>\n",
       "    <tr>\n",
       "      <th>1</th>\n",
       "      <td>5000.0</td>\n",
       "      <td>5000.0</td>\n",
       "    </tr>\n",
       "    <tr>\n",
       "      <th>2</th>\n",
       "      <td>5000.0</td>\n",
       "      <td>5000.0</td>\n",
       "    </tr>\n",
       "    <tr>\n",
       "      <th>3</th>\n",
       "      <td>8000.0</td>\n",
       "      <td>8000.0</td>\n",
       "    </tr>\n",
       "    <tr>\n",
       "      <th>4</th>\n",
       "      <td>5000.0</td>\n",
       "      <td>5000.0</td>\n",
       "    </tr>\n",
       "    <tr>\n",
       "      <th>5</th>\n",
       "      <td>10000.0</td>\n",
       "      <td>10000.0</td>\n",
       "    </tr>\n",
       "    <tr>\n",
       "      <th>6</th>\n",
       "      <td>9000.0</td>\n",
       "      <td>9000.0</td>\n",
       "    </tr>\n",
       "    <tr>\n",
       "      <th>7</th>\n",
       "      <td>5000.0</td>\n",
       "      <td>5000.0</td>\n",
       "    </tr>\n",
       "    <tr>\n",
       "      <th>8</th>\n",
       "      <td>5000.0</td>\n",
       "      <td>5000.0</td>\n",
       "    </tr>\n",
       "    <tr>\n",
       "      <th>9</th>\n",
       "      <td>5000.0</td>\n",
       "      <td>5000.0</td>\n",
       "    </tr>\n",
       "  </tbody>\n",
       "</table>\n",
       "</div>"
      ],
      "text/plain": [
       "   Predicted_loan_amount  loan_amount\n",
       "0                 8000.0      15000.0\n",
       "1                 5000.0       5000.0\n",
       "2                 5000.0       5000.0\n",
       "3                 8000.0       8000.0\n",
       "4                 5000.0       5000.0\n",
       "5                10000.0      10000.0\n",
       "6                 9000.0       9000.0\n",
       "7                 5000.0       5000.0\n",
       "8                 5000.0       5000.0\n",
       "9                 5000.0       5000.0"
      ]
     },
     "execution_count": 70,
     "metadata": {},
     "output_type": "execute_result"
    }
   ],
   "source": [
    "dt_merged = pd.concat([y_pred_dt,y_test2],axis=1)\n",
    "dt_merged.head(10)"
   ]
  },
  {
   "cell_type": "code",
   "execution_count": 71,
   "metadata": {},
   "outputs": [
    {
     "data": {
      "text/plain": [
       "<AxesSubplot:>"
      ]
     },
     "execution_count": 71,
     "metadata": {},
     "output_type": "execute_result"
    },
    {
     "data": {
      "text/plain": [
       "<Figure size 1440x720 with 0 Axes>"
      ]
     },
     "metadata": {},
     "output_type": "display_data"
    },
    {
     "data": {
      "image/png": "[encoded data removed]",
      "text/plain": [
       "<Figure size 432x288 with 1 Axes>"
      ]
     },
     "metadata": {
      "needs_background": "light"
     },
     "output_type": "display_data"
    }
   ],
   "source": [
    "plt.figure(figsize = (20,10))\n",
    "dt_merged[['loan_amount','Predicted_loan_amount']].plot()"
   ]
  },
  {
   "cell_type": "code",
   "execution_count": 72,
   "metadata": {},
   "outputs": [
    {
     "name": "stdout",
     "output_type": "stream",
     "text": [
      "MAE: 1610.517543128594\n",
      "MSE: 428554087.84065336\n",
      "RMSE: 20701.54795759615\n"
     ]
    }
   ],
   "source": [
    "print('MAE:', MAE(y_test, y_pred_dt))\n",
    "print('MSE:', MSE(y_test, y_pred_dt))\n",
    "print('RMSE:', np.sqrt(MSE(y_test, y_pred_dt)))"
   ]
  },
  {
   "cell_type": "code",
   "execution_count": 73,
   "metadata": {},
   "outputs": [],
   "source": [
    "dt_merged['error_rate'] = (abs(dt_merged['loan_amount']-dt_merged['Predicted_loan_amount'])/dt_merged['loan_amount'])*100"
   ]
  },
  {
   "cell_type": "code",
   "execution_count": 74,
   "metadata": {},
   "outputs": [
    {
     "data": {
      "text/html": [
       "<div>\n",
       "<style scoped>\n",
       "    .dataframe tbody tr th:only-of-type {\n",
       "        vertical-align: middle;\n",
       "    }\n",
       "\n",
       "    .dataframe tbody tr th {\n",
       "        vertical-align: top;\n",
       "    }\n",
       "\n",
       "    .dataframe thead th {\n",
       "        text-align: right;\n",
       "    }\n",
       "</style>\n",
       "<table border=\"1\" class=\"dataframe\">\n",
       "  <thead>\n",
       "    <tr style=\"text-align: right;\">\n",
       "      <th></th>\n",
       "      <th>Predicted_loan_amount</th>\n",
       "      <th>loan_amount</th>\n",
       "      <th>error_rate</th>\n",
       "    </tr>\n",
       "  </thead>\n",
       "  <tbody>\n",
       "    <tr>\n",
       "      <th>0</th>\n",
       "      <td>8000.0</td>\n",
       "      <td>15000.0</td>\n",
       "      <td>46.666667</td>\n",
       "    </tr>\n",
       "    <tr>\n",
       "      <th>1</th>\n",
       "      <td>5000.0</td>\n",
       "      <td>5000.0</td>\n",
       "      <td>0.000000</td>\n",
       "    </tr>\n",
       "    <tr>\n",
       "      <th>2</th>\n",
       "      <td>5000.0</td>\n",
       "      <td>5000.0</td>\n",
       "      <td>0.000000</td>\n",
       "    </tr>\n",
       "    <tr>\n",
       "      <th>3</th>\n",
       "      <td>8000.0</td>\n",
       "      <td>8000.0</td>\n",
       "      <td>0.000000</td>\n",
       "    </tr>\n",
       "    <tr>\n",
       "      <th>4</th>\n",
       "      <td>5000.0</td>\n",
       "      <td>5000.0</td>\n",
       "      <td>0.000000</td>\n",
       "    </tr>\n",
       "  </tbody>\n",
       "</table>\n",
       "</div>"
      ],
      "text/plain": [
       "   Predicted_loan_amount  loan_amount  error_rate\n",
       "0                 8000.0      15000.0   46.666667\n",
       "1                 5000.0       5000.0    0.000000\n",
       "2                 5000.0       5000.0    0.000000\n",
       "3                 8000.0       8000.0    0.000000\n",
       "4                 5000.0       5000.0    0.000000"
      ]
     },
     "execution_count": 74,
     "metadata": {},
     "output_type": "execute_result"
    }
   ],
   "source": [
    "dt_merged.head()"
   ]
  },
  {
   "cell_type": "code",
   "execution_count": 75,
   "metadata": {},
   "outputs": [
    {
     "data": {
      "text/plain": [
       "85.55854912233877"
      ]
     },
     "execution_count": 75,
     "metadata": {},
     "output_type": "execute_result"
    }
   ],
   "source": [
    "#mean error rate\n",
    "dt_mean_error=dt_merged.error_rate.mean()\n",
    "#calculating accuracy\n",
    "dt_mean_accuracy=100-dt_mean_error\n",
    "dt_mean_accuracy"
   ]
  },
  {
   "cell_type": "markdown",
   "metadata": {},
   "source": [
    "Using DT Regressor, our accuracy score becomes 86.4%"
   ]
  },
  {
   "cell_type": "markdown",
   "metadata": {},
   "source": [
    "# RANDOM FOREST REGRESSOR"
   ]
  },
  {
   "cell_type": "code",
   "execution_count": 76,
   "metadata": {},
   "outputs": [
    {
     "data": {
      "text/plain": [
       "RandomForestRegressor()"
      ]
     },
     "execution_count": 76,
     "metadata": {},
     "output_type": "execute_result"
    }
   ],
   "source": [
    "from sklearn.ensemble import RandomForestRegressor\n",
    "rf=RandomForestRegressor()\n",
    "rf.fit(X_train,y_train)"
   ]
  },
  {
   "cell_type": "code",
   "execution_count": 77,
   "metadata": {},
   "outputs": [],
   "source": [
    "y_pred_rf=rf.predict(X_test)"
   ]
  },
  {
   "cell_type": "code",
   "execution_count": 78,
   "metadata": {},
   "outputs": [
    {
     "data": {
      "text/html": [
       "<div>\n",
       "<style scoped>\n",
       "    .dataframe tbody tr th:only-of-type {\n",
       "        vertical-align: middle;\n",
       "    }\n",
       "\n",
       "    .dataframe tbody tr th {\n",
       "        vertical-align: top;\n",
       "    }\n",
       "\n",
       "    .dataframe thead th {\n",
       "        text-align: right;\n",
       "    }\n",
       "</style>\n",
       "<table border=\"1\" class=\"dataframe\">\n",
       "  <thead>\n",
       "    <tr style=\"text-align: right;\">\n",
       "      <th></th>\n",
       "      <th>Predicted_loan_amount</th>\n",
       "    </tr>\n",
       "  </thead>\n",
       "  <tbody>\n",
       "    <tr>\n",
       "      <th>0</th>\n",
       "      <td>11795.0</td>\n",
       "    </tr>\n",
       "    <tr>\n",
       "      <th>1</th>\n",
       "      <td>5000.0</td>\n",
       "    </tr>\n",
       "    <tr>\n",
       "      <th>2</th>\n",
       "      <td>6011.0</td>\n",
       "    </tr>\n",
       "    <tr>\n",
       "      <th>3</th>\n",
       "      <td>9030.0</td>\n",
       "    </tr>\n",
       "    <tr>\n",
       "      <th>4</th>\n",
       "      <td>5110.0</td>\n",
       "    </tr>\n",
       "  </tbody>\n",
       "</table>\n",
       "</div>"
      ],
      "text/plain": [
       "   Predicted_loan_amount\n",
       "0                11795.0\n",
       "1                 5000.0\n",
       "2                 6011.0\n",
       "3                 9030.0\n",
       "4                 5110.0"
      ]
     },
     "execution_count": 78,
     "metadata": {},
     "output_type": "execute_result"
    }
   ],
   "source": [
    "y_pred_rf=pd.DataFrame(y_pred_rf,columns={\"Predicted_loan_amount\"})\n",
    "y_pred_rf.head()"
   ]
  },
  {
   "cell_type": "code",
   "execution_count": 79,
   "metadata": {},
   "outputs": [
    {
     "data": {
      "text/html": [
       "<div>\n",
       "<style scoped>\n",
       "    .dataframe tbody tr th:only-of-type {\n",
       "        vertical-align: middle;\n",
       "    }\n",
       "\n",
       "    .dataframe tbody tr th {\n",
       "        vertical-align: top;\n",
       "    }\n",
       "\n",
       "    .dataframe thead th {\n",
       "        text-align: right;\n",
       "    }\n",
       "</style>\n",
       "<table border=\"1\" class=\"dataframe\">\n",
       "  <thead>\n",
       "    <tr style=\"text-align: right;\">\n",
       "      <th></th>\n",
       "      <th>Predicted_loan_amount</th>\n",
       "      <th>loan_amount</th>\n",
       "    </tr>\n",
       "  </thead>\n",
       "  <tbody>\n",
       "    <tr>\n",
       "      <th>0</th>\n",
       "      <td>11795.0</td>\n",
       "      <td>15000.0</td>\n",
       "    </tr>\n",
       "    <tr>\n",
       "      <th>1</th>\n",
       "      <td>5000.0</td>\n",
       "      <td>5000.0</td>\n",
       "    </tr>\n",
       "    <tr>\n",
       "      <th>2</th>\n",
       "      <td>6011.0</td>\n",
       "      <td>5000.0</td>\n",
       "    </tr>\n",
       "    <tr>\n",
       "      <th>3</th>\n",
       "      <td>9030.0</td>\n",
       "      <td>8000.0</td>\n",
       "    </tr>\n",
       "    <tr>\n",
       "      <th>4</th>\n",
       "      <td>5110.0</td>\n",
       "      <td>5000.0</td>\n",
       "    </tr>\n",
       "    <tr>\n",
       "      <th>5</th>\n",
       "      <td>10000.0</td>\n",
       "      <td>10000.0</td>\n",
       "    </tr>\n",
       "    <tr>\n",
       "      <th>6</th>\n",
       "      <td>10639.0</td>\n",
       "      <td>9000.0</td>\n",
       "    </tr>\n",
       "    <tr>\n",
       "      <th>7</th>\n",
       "      <td>5020.0</td>\n",
       "      <td>5000.0</td>\n",
       "    </tr>\n",
       "    <tr>\n",
       "      <th>8</th>\n",
       "      <td>4989.0</td>\n",
       "      <td>5000.0</td>\n",
       "    </tr>\n",
       "    <tr>\n",
       "      <th>9</th>\n",
       "      <td>5355.0</td>\n",
       "      <td>5000.0</td>\n",
       "    </tr>\n",
       "  </tbody>\n",
       "</table>\n",
       "</div>"
      ],
      "text/plain": [
       "   Predicted_loan_amount  loan_amount\n",
       "0                11795.0      15000.0\n",
       "1                 5000.0       5000.0\n",
       "2                 6011.0       5000.0\n",
       "3                 9030.0       8000.0\n",
       "4                 5110.0       5000.0\n",
       "5                10000.0      10000.0\n",
       "6                10639.0       9000.0\n",
       "7                 5020.0       5000.0\n",
       "8                 4989.0       5000.0\n",
       "9                 5355.0       5000.0"
      ]
     },
     "execution_count": 79,
     "metadata": {},
     "output_type": "execute_result"
    }
   ],
   "source": [
    "rf_merged = pd.concat([y_pred_rf,y_test2],axis=1)\n",
    "rf_merged.head(10)"
   ]
  },
  {
   "cell_type": "code",
   "execution_count": 80,
   "metadata": {},
   "outputs": [
    {
     "data": {
      "text/plain": [
       "<AxesSubplot:>"
      ]
     },
     "execution_count": 80,
     "metadata": {},
     "output_type": "execute_result"
    },
    {
     "data": {
      "image/png": "[encoded data removed]",
      "text/plain": [
       "<Figure size 432x288 with 1 Axes>"
      ]
     },
     "metadata": {
      "needs_background": "light"
     },
     "output_type": "display_data"
    }
   ],
   "source": [
    "rf_merged[['loan_amount','Predicted_loan_amount']].plot()"
   ]
  },
  {
   "cell_type": "code",
   "execution_count": 81,
   "metadata": {},
   "outputs": [
    {
     "name": "stdout",
     "output_type": "stream",
     "text": [
      "MAE: 1240.196849737478\n",
      "MSE: 112566757.67930661\n",
      "RMSE: 10609.748238262142\n"
     ]
    }
   ],
   "source": [
    "print('MAE:', MAE(y_test,y_pred_rf ))\n",
    "print('MSE:', MSE(y_test, y_pred_rf))\n",
    "print('RMSE:', np.sqrt(MSE(y_test, y_pred_rf)))"
   ]
  },
  {
   "cell_type": "code",
   "execution_count": 82,
   "metadata": {},
   "outputs": [],
   "source": [
    "rf_merged['error_rate']=(abs(rf_merged['loan_amount']-rf_merged['Predicted_loan_amount'])/rf_merged['loan_amount'])*100"
   ]
  },
  {
   "cell_type": "code",
   "execution_count": 83,
   "metadata": {},
   "outputs": [
    {
     "data": {
      "text/html": [
       "<div>\n",
       "<style scoped>\n",
       "    .dataframe tbody tr th:only-of-type {\n",
       "        vertical-align: middle;\n",
       "    }\n",
       "\n",
       "    .dataframe tbody tr th {\n",
       "        vertical-align: top;\n",
       "    }\n",
       "\n",
       "    .dataframe thead th {\n",
       "        text-align: right;\n",
       "    }\n",
       "</style>\n",
       "<table border=\"1\" class=\"dataframe\">\n",
       "  <thead>\n",
       "    <tr style=\"text-align: right;\">\n",
       "      <th></th>\n",
       "      <th>Predicted_loan_amount</th>\n",
       "      <th>loan_amount</th>\n",
       "      <th>error_rate</th>\n",
       "    </tr>\n",
       "  </thead>\n",
       "  <tbody>\n",
       "    <tr>\n",
       "      <th>0</th>\n",
       "      <td>11795.0</td>\n",
       "      <td>15000.0</td>\n",
       "      <td>21.366667</td>\n",
       "    </tr>\n",
       "    <tr>\n",
       "      <th>1</th>\n",
       "      <td>5000.0</td>\n",
       "      <td>5000.0</td>\n",
       "      <td>0.000000</td>\n",
       "    </tr>\n",
       "    <tr>\n",
       "      <th>2</th>\n",
       "      <td>6011.0</td>\n",
       "      <td>5000.0</td>\n",
       "      <td>20.220000</td>\n",
       "    </tr>\n",
       "    <tr>\n",
       "      <th>3</th>\n",
       "      <td>9030.0</td>\n",
       "      <td>8000.0</td>\n",
       "      <td>12.875000</td>\n",
       "    </tr>\n",
       "    <tr>\n",
       "      <th>4</th>\n",
       "      <td>5110.0</td>\n",
       "      <td>5000.0</td>\n",
       "      <td>2.200000</td>\n",
       "    </tr>\n",
       "  </tbody>\n",
       "</table>\n",
       "</div>"
      ],
      "text/plain": [
       "   Predicted_loan_amount  loan_amount  error_rate\n",
       "0                11795.0      15000.0   21.366667\n",
       "1                 5000.0       5000.0    0.000000\n",
       "2                 6011.0       5000.0   20.220000\n",
       "3                 9030.0       8000.0   12.875000\n",
       "4                 5110.0       5000.0    2.200000"
      ]
     },
     "execution_count": 83,
     "metadata": {},
     "output_type": "execute_result"
    }
   ],
   "source": [
    "rf_merged.head()"
   ]
  },
  {
   "cell_type": "code",
   "execution_count": 84,
   "metadata": {},
   "outputs": [
    {
     "data": {
      "text/plain": [
       "87.60598012607542"
      ]
     },
     "execution_count": 84,
     "metadata": {},
     "output_type": "execute_result"
    }
   ],
   "source": [
    "#mean error rate\n",
    "rf_mean_error=rf_merged.error_rate.mean()\n",
    "#calculating accuracy\n",
    "rf_mean_accuracy=100-rf_mean_error\n",
    "rf_mean_accuracy"
   ]
  },
  {
   "cell_type": "markdown",
   "metadata": {},
   "source": [
    "Using RF Regressor, our accuracy score becomes 87.2%"
   ]
  },
  {
   "cell_type": "markdown",
   "metadata": {},
   "source": [
    "# CITY\n",
    "### Since city is a categorical variable so we need to perform encoding.\n",
    "### Since it has many categories so we can take top 10 most frequent categories. "
   ]
  },
  {
   "cell_type": "code",
   "execution_count": 85,
   "metadata": {},
   "outputs": [
    {
     "data": {
      "text/html": [
       "<div>\n",
       "<style scoped>\n",
       "    .dataframe tbody tr th:only-of-type {\n",
       "        vertical-align: middle;\n",
       "    }\n",
       "\n",
       "    .dataframe tbody tr th {\n",
       "        vertical-align: top;\n",
       "    }\n",
       "\n",
       "    .dataframe thead th {\n",
       "        text-align: right;\n",
       "    }\n",
       "</style>\n",
       "<table border=\"1\" class=\"dataframe\">\n",
       "  <thead>\n",
       "    <tr style=\"text-align: right;\">\n",
       "      <th></th>\n",
       "      <th>city</th>\n",
       "    </tr>\n",
       "  </thead>\n",
       "  <tbody>\n",
       "    <tr>\n",
       "      <th>0</th>\n",
       "      <td>Dhanbad</td>\n",
       "    </tr>\n",
       "    <tr>\n",
       "      <th>1</th>\n",
       "      <td>Manjapra</td>\n",
       "    </tr>\n",
       "    <tr>\n",
       "      <th>2</th>\n",
       "      <td>Dhanbad</td>\n",
       "    </tr>\n",
       "    <tr>\n",
       "      <th>3</th>\n",
       "      <td>Pusad</td>\n",
       "    </tr>\n",
       "    <tr>\n",
       "      <th>4</th>\n",
       "      <td>Nuapada</td>\n",
       "    </tr>\n",
       "  </tbody>\n",
       "</table>\n",
       "</div>"
      ],
      "text/plain": [
       "       city\n",
       "0   Dhanbad\n",
       "1  Manjapra\n",
       "2   Dhanbad\n",
       "3     Pusad\n",
       "4   Nuapada"
      ]
     },
     "execution_count": 85,
     "metadata": {},
     "output_type": "execute_result"
    }
   ],
   "source": [
    "df_new2 = pd.DataFrame(df,columns={\"city\"})\n",
    "df_new2.head()"
   ]
  },
  {
   "cell_type": "code",
   "execution_count": 86,
   "metadata": {},
   "outputs": [],
   "source": [
    "pd.options.display.max_rows = None"
   ]
  },
  {
   "cell_type": "code",
   "execution_count": 87,
   "metadata": {},
   "outputs": [
    {
     "data": {
      "text/plain": [
       "city\n",
       "Pusad                                      5017\n",
       "Bahoriband                                 1979\n",
       "PUSAD                                      1776\n",
       "Shantipur                                  1727\n",
       "Imphal                                     1699\n",
       "Mathurapur                                 1361\n",
       "SANDESHKHALI                               1087\n",
       "Joynagar                                    993\n",
       "Gwalior                                     952\n",
       "Kozhinjampara                               897\n",
       "Muzaffarpur                                 843\n",
       "Nuapada                                     782\n",
       "Baruipur                                    730\n",
       "Pune                                        637\n",
       "Parola                                      637\n",
       "GWALIOR                                     635\n",
       "Jhabua                                      602\n",
       "Balasore                                    553\n",
       "Puri                                        546\n",
       "Sambalpur                                   496\n",
       "Santipur                                    449\n",
       "Kumardhubi                                  401\n",
       "Digras                                      391\n",
       "Palakkad                                    373\n",
       "pune                                        341\n",
       "Mysore                                      332\n",
       "Chirkunda                                   327\n",
       "KODANGAL MANDAL                             308\n",
       "Daspalla                                    297\n",
       "Wadhwan                                     261\n",
       "Bishnupur                                   239\n",
       "Bhubaneswar                                 237\n",
       "SAMBALPUR                                   231\n",
       "Niligiri                                    228\n",
       "Gocharan                                    207\n",
       "D.Barasat                                   204\n",
       "Chandanpur                                  186\n",
       "Kakching                                    171\n",
       "KOLKATA                                     165\n",
       "Nanjnagud                                   161\n",
       "Bahragoda                                   158\n",
       "Nanjangud                                   154\n",
       "Dhule                                       147\n",
       "Moirang                                     144\n",
       "Periyapatna                                 138\n",
       "NUAPADA                                     138\n",
       "Vadakkencherry                              128\n",
       "H.D. Kote                                   125\n",
       "Coimbatore                                  123\n",
       "Kolkata                                     123\n",
       "MUZAFFARPUR                                 120\n",
       "Nabadwip                                    119\n",
       "Policeline                                  116\n",
       "Vadakkanchery                               115\n",
       "Sergarh                                     111\n",
       "Noorsarai                                   110\n",
       "Thoubal                                     110\n",
       "Bankura                                     110\n",
       "vadakkencherry                              107\n",
       "Kuruda                                      107\n",
       "Nagpur                                      105\n",
       "Nirsa                                       103\n",
       "Kurnool                                     102\n",
       "Kendrapara                                  101\n",
       "Dhanbad                                     100\n",
       "MORAR                                        98\n",
       "Sandeshkhali                                 96\n",
       "Dakshin Barasat                              94\n",
       "Nilgiri                                      91\n",
       "Balanga                                      90\n",
       "K. R. Nagar                                  87\n",
       "Mugma                                        87\n",
       "Yairipok                                     86\n",
       "Kozhipara                                    84\n",
       "Seragarh                                     83\n",
       "santipur                                     82\n",
       "Saragan                                      77\n",
       "Digrus                                       77\n",
       "Shanti Pur                                   74\n",
       "Sahada                                       73\n",
       "Motiganj                                     72\n",
       "Bantaligram                                  68\n",
       "Teh - Bahoriband                             68\n",
       "Behraich                                     67\n",
       "Godfula                                      67\n",
       "SURENDRANAGAR                                67\n",
       "Yemmiganur                                   66\n",
       "Chandipur                                    66\n",
       "Chittur                                      61\n",
       "Taloda                                       60\n",
       "Godphula                                     58\n",
       "Kalna                                        56\n",
       "Baharu                                       56\n",
       "Hunsur                                       56\n",
       "Churachandpur                                55\n",
       "Biromal                                      53\n",
       "Genguti                                      52\n",
       "Koramangala                                  48\n",
       "Burdwan                                      47\n",
       "Musabani                                     46\n",
       "Hunsuru                                      45\n",
       "Chhaitana                                    44\n",
       "Imphal East                                  43\n",
       "Ranibandh                                    43\n",
       "Joharapuram                                  42\n",
       "Hyderabad                                    41\n",
       "HAZIRA                                       41\n",
       "Nimapara                                     40\n",
       "Chandel                                      40\n",
       "Khutabanbhera                                39\n",
       "Nambol                                       38\n",
       "Manjapra                                     38\n",
       "BELGAUM                                      38\n",
       "NIMAPARA                                     38\n",
       "Pipliya                                      38\n",
       "Itawa Ward                                   37\n",
       "INDORE                                       37\n",
       "Surendranagar                                37\n",
       "Kalyanpura                                   36\n",
       "Biharsharif                                  35\n",
       "Indore                                       34\n",
       "Amanara                                      34\n",
       "Saun                                         33\n",
       "Kumadhubi                                    32\n",
       "LASHKAR                                      31\n",
       "Hazaribagh                                   30\n",
       "Sonarpur                                     30\n",
       "HD Kote                                      30\n",
       "Vadakkenchery                                30\n",
       "Balasore Town                                29\n",
       "CUDDALORE                                    29\n",
       "Santaragadia                                 28\n",
       "Kodumur                                      28\n",
       "Depalpur indore                              28\n",
       "Bahoroband                                   28\n",
       "Hazaribag                                    28\n",
       "Eruthempathy                                 28\n",
       "Dhenkanal                                    27\n",
       "Govindpur                                    27\n",
       "SANDESHKHALI-1                               27\n",
       "WADHAWAN                                     27\n",
       "Bangalore                                    27\n",
       "Kalyanpur                                    26\n",
       "Periyapatna Taluk                            26\n",
       "KUCHINDA                                     25\n",
       "Dhansar                                      25\n",
       "Vasant Nagar                                 25\n",
       "Rajanapari                                   25\n",
       "pipliya                                      25\n",
       "Bhoriband                                    24\n",
       "Kumbi                                        24\n",
       "Sarabanga                                    24\n",
       "Walayar                                      24\n",
       "Johara Puram                                 23\n",
       "Bundu                                        23\n",
       "Angargadia                                   23\n",
       "T. Narsipura                                 23\n",
       "Tanwat                                       22\n",
       "Chakulia                                     22\n",
       "Nanjnagudu                                   22\n",
       "Madhukar Nagar                               22\n",
       "Potka                                        21\n",
       "indore                                       21\n",
       "Police Line                                  21\n",
       "Elavampadam                                  21\n",
       "Parvati Nagar                                21\n",
       "Nilagiri                                     20\n",
       "Jhikati                                      20\n",
       "Barwan                                       20\n",
       "Walayar Post                                 20\n",
       "Charki tongary                               20\n",
       "Khantapada                                   20\n",
       "Palodi                                       19\n",
       "Tanawat                                      19\n",
       "KUMBI                                        19\n",
       "Bochha                                       18\n",
       "Ranidurgavatti chowk                         18\n",
       "NOLKORA                                      18\n",
       "kandi                                        18\n",
       "Kendubahara                                  18\n",
       "Anand Bag                                    18\n",
       "KR Nagar                                     18\n",
       "PARMANPUR                                    17\n",
       "H.D. Kote Taluk                              17\n",
       "Pipili                                       17\n",
       "Bohriband                                    17\n",
       "Rajkanika                                    17\n",
       "Nil                                          17\n",
       "Khategaon                                    17\n",
       "Makalpur                                     17\n",
       "Srirangam                                    17\n",
       "Dasshin Barasat                              17\n",
       "Sandeshkhali-1                               17\n",
       "Satasankha                                   17\n",
       "Sunhat                                       17\n",
       "Vadakkancheri                                17\n",
       "Suelpur                                      17\n",
       "Ramchandara                                  16\n",
       "DOULATHA BAD MANDAL                          16\n",
       "Vannamada                                    16\n",
       "Ambedkar ward                                16\n",
       "Babaliya                                     16\n",
       "Boirbhadi                                    16\n",
       "Telkoi                                       16\n",
       "Ningthoukhong                                16\n",
       "Sakhigopal                                   16\n",
       "Kumbi Bazar                                  15\n",
       "Demalous Road                                15\n",
       "Gudur                                        15\n",
       "Kuliabandha                                  15\n",
       "Madhopura                                    15\n",
       "BAHRAGORA                                    15\n",
       "Tq.South Solapur                             15\n",
       "NILGIRI                                      15\n",
       "Shiv Nagar                                   15\n",
       "Orissa                                       14\n",
       "DABRA                                        14\n",
       "Mandla                                       14\n",
       "Morar                                        14\n",
       "Rani durgawati chowk                         14\n",
       "NADUVEERAPATTU                               14\n",
       "Khautbanbehera                               14\n",
       "K.R. Nagar                                   14\n",
       "SOLAPUR                                      14\n",
       "Imphal West                                  14\n",
       "Jenjara                                      13\n",
       "Terakhong                                    13\n",
       "Mysore city                                  13\n",
       "Judhistirapur                                13\n",
       "Chandrapuram                                 13\n",
       "DOULATHABAD                                  13\n",
       "Nimmaji ki kho lashker                       13\n",
       "Saraswatipur                                 13\n",
       "Shivaji Ward                                 13\n",
       "THAKURPUKUR                                  12\n",
       "Near yadaw nagar                             12\n",
       "Varanasi                                     12\n",
       "Barabati                                     12\n",
       "RAJBARI                                      12\n",
       "Bahoribadn                                   12\n",
       "Hubli                                        12\n",
       "Saligrama                                    12\n",
       "Khalna                                       12\n",
       "Bhatapada                                    12\n",
       "Chanabeda                                    12\n",
       "Gopalpur                                     12\n",
       "D. Barasat                                   12\n",
       "SHAHDOL                                      12\n",
       "Kizhakkenchery                               11\n",
       "Kumbi bazar                                  11\n",
       "Chuncharayanahundi                           11\n",
       "AINTHAPALI                                   11\n",
       "limbichincholi                               11\n",
       "Teh-Bahoriband                               11\n",
       "Mathurarpur                                  11\n",
       "Nanjangud Taluk                              11\n",
       "Nalleppilly                                  11\n",
       "Ambedkar Ward                                10\n",
       "Mayang Imphal                                10\n",
       "Jayapura                                     10\n",
       "Alathur                                      10\n",
       "Mahalaxmi Nagar                              10\n",
       "TAHKURPUKUR                                  10\n",
       "Ajodhya                                      10\n",
       "Shrirampur                                   10\n",
       "Shivaji ward                                 10\n",
       "Wadhuwan                                     10\n",
       "Nallepilly                                   10\n",
       "Valathukadu                                  10\n",
       "Dongaon                                      10\n",
       "SANDESHKHALIN                                10\n",
       "RENGALI                                      10\n",
       "Rengali                                      10\n",
       "Kannambra                                     9\n",
       "THELKOLOI                                     9\n",
       "Yavatmal                                      9\n",
       "Panchampur                                    9\n",
       "Station Road ghoda bazar                      9\n",
       "Khutbanbhera                                  9\n",
       "Niwas                                         9\n",
       "Bhagor                                        9\n",
       "Kudhani                                       9\n",
       "khategaon                                     9\n",
       "muzaffarpur                                   9\n",
       "Dakshin Barsat                                9\n",
       "Chandan Pur                                   9\n",
       "pusad                                         9\n",
       "Nagapur                                       9\n",
       "Pudad                                         9\n",
       "Jhankarpali, PS-katarbaga                     9\n",
       "Anand Nagar                                   9\n",
       "Chandradeipur                                 9\n",
       "Bihar Sharif                                  8\n",
       "SARBERIA                                      8\n",
       "Noorsaray                                     8\n",
       "Gandinagar                                    8\n",
       "Bilidoze                                      8\n",
       "TABADABAHAL                                   8\n",
       "Wabagai                                       8\n",
       "PANRUTI                                       8\n",
       "Kuju                                          8\n",
       "Cuddalore/ Cuddalore                          8\n",
       "Mahopura                                      8\n",
       "Khautbanbehera - D                            8\n",
       "Lashkar                                       8\n",
       "Krishnagiri                                   8\n",
       "Shravan Tokiz                                 8\n",
       "Champahati                                    8\n",
       "SAHADA                                        8\n",
       "Kankadahad                                    8\n",
       "Imphal-West                                   8\n",
       "Hatod ,Indore                                 8\n",
       "Pullampadam                                   7\n",
       "Village                                       7\n",
       "Chandanapur                                   7\n",
       "Taluka/Block: South Solapur                   7\n",
       "Kapileswarpur                                 7\n",
       "BALASORE                                      7\n",
       "Ltibhuan                                      7\n",
       "KINALOI                                       7\n",
       "Basupali                                      7\n",
       "Vijayraghavgarh                               7\n",
       "Balikuda Ramchandi                            7\n",
       "Gania                                         7\n",
       "Hazira gwalior                                7\n",
       "Santi Pur                                     7\n",
       "Johara puram                                  7\n",
       "Bomaloi, Ps-Katarbaga                         7\n",
       "tekanpur                                      7\n",
       "Kandi                                         7\n",
       "Gandanata                                     7\n",
       "Mukhare layout                                7\n",
       "Athagarh                                      7\n",
       "nasrullaganj                                  7\n",
       "Ghatsila                                      7\n",
       "Cuttack                                       7\n",
       "Ghourdour Chatti                              6\n",
       "Kanjikode                                     6\n",
       "Nallampalli                                   6\n",
       "Poddardih, Nirsa                              6\n",
       "Sharwan Tokijrod                              6\n",
       "Khariar Road                                  6\n",
       "CHAKULIA                                      6\n",
       "Kannod                                        6\n",
       "kannod                                        6\n",
       "Azimabad                                      6\n",
       "H.D Kote                                      6\n",
       "Mominpura                                     6\n",
       "Kamakantia                                    6\n",
       "Boramani                                      6\n",
       "Judhistrapur                                  5\n",
       "Wangjing                                      5\n",
       "kalna                                         5\n",
       "H D Kote                                      5\n",
       "Wangoi                                        5\n",
       "Maldha                                        5\n",
       "Na                                            5\n",
       "Arun Layout                                   5\n",
       "Hanuman Ward                                  5\n",
       "NUapada                                       5\n",
       "Mindal                                        5\n",
       "Mangalam                                      5\n",
       "SASAN                                         5\n",
       "Myosore                                       5\n",
       "Langmeidong                                   5\n",
       "Hazira                                        5\n",
       "Pariauna                                      5\n",
       "PUSAd                                         5\n",
       "Ajidhya                                       5\n",
       "South 24PGS                                   5\n",
       "Madhav Nagar, laxmiganj lashkar gwalior       5\n",
       "Panapana                                      5\n",
       "Rupadeipur                                    5\n",
       "Indpur                                        5\n",
       "Kande layout                                  5\n",
       "Birapurushottampur                            5\n",
       "Periyapatana Taluk                            5\n",
       "Jadugoda                                      5\n",
       "Khadse layout                                 5\n",
       "Barhi                                         5\n",
       "Shanthi nagar                                 5\n",
       "SAGANG                                        5\n",
       "PAROLA                                        5\n",
       "Tukaram bapu ward                             5\n",
       "Balubajar                                     5\n",
       "Kishanpuri                                    5\n",
       "Sambapur                                      5\n",
       "Gualigorada                                   5\n",
       "Tekanpur                                      5\n",
       "Nellikkadu                                    5\n",
       "Nellikkad                                     5\n",
       "Gandhi Ashram                                 5\n",
       "CHUCHURA                                      5\n",
       "Ganesh ward                                   5\n",
       "Darilanuapada                                 5\n",
       "Bahadarpur                                    5\n",
       "LIMDI                                         4\n",
       "Litbhuan                                      4\n",
       "Kunapada                                      4\n",
       "Gwaliar                                       4\n",
       "Mahavir Ward                                  4\n",
       "KUMBI BAZAR                                   4\n",
       "periyapatna                                   4\n",
       "Kumbi Setapur                                 4\n",
       "Jaynagar                                      4\n",
       "hazira gwalior                                4\n",
       "Chadnanpur                                    4\n",
       "Podapada                                      4\n",
       "Shimoga                                       4\n",
       "GOL PAHADIYA                                  4\n",
       "Bisnupur                                      4\n",
       "Gadachandapur                                 4\n",
       "Parsaguda                                     4\n",
       "Singjamei                                     4\n",
       "Skhali                                        4\n",
       "Ichak                                         4\n",
       "Sriramchandrapur                              4\n",
       "P.S-T1                                        4\n",
       "Niligir                                       4\n",
       "Kaidawad                                      4\n",
       "VELLAKARAI                                    4\n",
       "Ekata colony                                  4\n",
       "SUNDARY KHALI                                 4\n",
       "Tq,South Solapur                              4\n",
       "Anchumoorthy Mangalam                         4\n",
       "Unmat Nagar                                   4\n",
       "Hatkeshwar ward                               4\n",
       "Jayapura Hobli                                4\n",
       "Hullahalli                                    3\n",
       "H,D. Kote                                     3\n",
       "East first street                             3\n",
       "Jokanadua                                     3\n",
       "Khautbanbehera - B                            3\n",
       "Dangarampur                                   3\n",
       "Kozhinjamapara                                3\n",
       "ITI Balasore                                  3\n",
       "ITAGACHI                                      3\n",
       "Koshatwar Ward                                3\n",
       "Koppal                                        3\n",
       "Junani                                        3\n",
       "Goldphula                                     3\n",
       "Sirtol                                        3\n",
       "Mohapur                                       3\n",
       "Surendra Nagar                                3\n",
       "NPD                                           3\n",
       "Subhash ward                                  3\n",
       "Nalanda                                       3\n",
       "Nalua                                         3\n",
       "Naluya                                        3\n",
       "Bheriya                                       3\n",
       "Bannimantap                                   3\n",
       "Biromal - E                                   3\n",
       "Nasrullaganj                                  3\n",
       "Saraipada                                     3\n",
       "SiratolSiratol - B                            3\n",
       "Sarkarnagar                                   3\n",
       "Panvel                                        3\n",
       "Nurapada                                      3\n",
       "Shirwal                                       3\n",
       "Panruti/ Cuddalore                            3\n",
       "Bhilwadi                                      3\n",
       "Thakur                                        3\n",
       "Velanthavalam                                 3\n",
       "West first street                             3\n",
       "Biraharekrushnapur                            3\n",
       "jhabua                                        3\n",
       "Mahagao                                       3\n",
       "imphal                                        3\n",
       "Mahagaon                                      3\n",
       "Birapartappur                                 3\n",
       "Satyabadi                                     3\n",
       "Maruthamalai                                  3\n",
       "Maruthandakurichi                             3\n",
       "Mathasahi                                     3\n",
       "SAGANG BAZAR                                  2\n",
       "Sagang                                        2\n",
       "Dionmunda                                     2\n",
       "Basudeipur                                    2\n",
       "Bidu                                          2\n",
       "Rameswarnagar                                 2\n",
       "Rasalpur                                      2\n",
       "Jharkand                                      2\n",
       "Renghalo,(Rench)                              2\n",
       "Bellary                                       2\n",
       "Selvapuram                                    2\n",
       "Rani durgawathi chowk                         2\n",
       "Salempur                                      2\n",
       "Ranibanth                                     2\n",
       "Ranchi                                        2\n",
       "Ranjani                                       2\n",
       "Kahalia                                       2\n",
       "Sagang bazar                                  2\n",
       "KOLKAT                                        2\n",
       "Barunsing                                     2\n",
       "Sharavan Tokiz                                2\n",
       "surendranagar                                 2\n",
       "752102                                        2\n",
       "nanjangud Taluk                               2\n",
       "lashkar                                       2\n",
       "hatod                                         2\n",
       "bihar sharif                                  2\n",
       "bangalore                                     2\n",
       "Apila                                         2\n",
       "Genguty                                       2\n",
       "Vasant  Nagar                                 2\n",
       "Vandazhi                                      2\n",
       "Thane                                         2\n",
       "Thakurpukur                                   2\n",
       "Station Road ghoda bazan                      2\n",
       "ITHAI BAZAR                                   2\n",
       "Station Road                                  2\n",
       "Impahal                                       2\n",
       "Impahl                                        2\n",
       "Sitratol -B                                   2\n",
       "Raja ki mandi hazira gwalior                  2\n",
       "Siratol - B                                   2\n",
       "Barbati                                       2\n",
       "Ithai Bazar                                   2\n",
       "Shivnagar                                     2\n",
       "Shirsode                                      2\n",
       "Rajendra Nagar                                2\n",
       "#NAME?                                        2\n",
       "Nanjangudu                                    2\n",
       "Mathuapur                                     2\n",
       "Nilgir                                        2\n",
       "Katusale                                      2\n",
       "Manthurapur                                   2\n",
       "Maruti nager                                  2\n",
       "Noorsara                                      2\n",
       "Podatara                                      2\n",
       "Pipli                                         2\n",
       "NASRULLAGANJ                                  2\n",
       "Mahavir Nagar                                 2\n",
       "Periypatna                                    2\n",
       "Pattanaikia                                   2\n",
       "Parbatipur                                    2\n",
       "Kudia                                         2\n",
       "Chandanur                                     2\n",
       "Khatra                                        2\n",
       "Palayampudur                                  2\n",
       "Chennangalpadam                               2\n",
       "Darlinuapada                                  2\n",
       "Dianmunda                                     2\n",
       "Kymore                                        2\n",
       "Nahala                                        2\n",
       "Bira Harekrushnapur                           2\n",
       "Navin                                         2\n",
       "Birapratappur                                 2\n",
       "Rahangagorada                                 2\n",
       "Magurpani                                     2\n",
       "Lakshmi Layout                                2\n",
       "COIMBATORE                                    2\n",
       "Purahitpur                                    2\n",
       "Ltibhuan, Gop                                 2\n",
       "Damodarapur                                   1\n",
       "Dandamukundapur                               1\n",
       "Chandanppur                                   1\n",
       "Bangala                                       1\n",
       "Dalrinuapada                                  1\n",
       "Bahragora                                     1\n",
       "Baghmara                                      1\n",
       "Baliput                                       1\n",
       "Chalisibatia                                  1\n",
       "Banamalipur                                   1\n",
       "Ganganarayanpur                               1\n",
       "Bir Harekrushnapur                            1\n",
       "BTM Layout                                    1\n",
       "Anupshahr                                     1\n",
       "(KODANGAL MANDAL) NARVA                       1\n",
       "24 PARGANAS,SOUTH                             1\n",
       "Chozhiyamkkadu                                1\n",
       "Ghourpur Chatti                               1\n",
       "Amadi                                         1\n",
       "Ghordour Chatti                               1\n",
       "Chinna kameli                                 1\n",
       "Chiitur                                       1\n",
       "Charminar                                     1\n",
       "BISHALAKHINDA                                 1\n",
       "Appa rao garden                               1\n",
       "Avvaipuram                                    1\n",
       "BAHADARPUR                                    1\n",
       "Gandanata, Chakulia                           1\n",
       "Chandarapuram                                 1\n",
       "BANGALORE                                     1\n",
       "BASANTI                                       1\n",
       "Chandapur                                     1\n",
       "Gawalior                                      1\n",
       "Barahampur                                    1\n",
       "Chaiitana                                     1\n",
       "Bhimanakone                                   1\n",
       "Bheduashol                                    1\n",
       "Birmoat                                       1\n",
       "Biraramchandrapur                             1\n",
       "Durgadaspur                                   1\n",
       "Dugras                                        1\n",
       "Birapursottampur                              1\n",
       "Dudur                                         1\n",
       "Dhenkanal sadar                               1\n",
       "Dhrmapuri                                     1\n",
       "Cittur                                        1\n",
       "Bhataspada                                    1\n",
       "Dhu                                           1\n",
       "Bhoisahi                                      1\n",
       "Bhuinpada                                     1\n",
       "Bhutupada                                     1\n",
       "Bhutupara                                     1\n",
       "Dionmunda - C                                 1\n",
       "Birabalbhadrapur                              1\n",
       "Bidar                                         1\n",
       "Birabalabhadrapur                             1\n",
       "Bhatidaha                                     1\n",
       "Bishnunpur                                    1\n",
       "Bantaligam                                    1\n",
       "Buddha vihar                                  1\n",
       "Chadheigaon                                   1\n",
       "Bantalingram                                  1\n",
       "Gali No.1                                     1\n",
       "CHANNAVADEYANAPURA                            1\n",
       "Barabazar                                     1\n",
       "Dionamunda                                    1\n",
       "Gabhdeya                                      1\n",
       "GP-Bomaloi, Ps-katarbaga                      1\n",
       "GP-Bomaloi, Ps-Katarbaga                      1\n",
       "GANDANATA,CHAKULIA                            1\n",
       "Bhadapada                                     1\n",
       "Daspala                                       1\n",
       "Firdos                                        1\n",
       "Braminvas                                     1\n",
       "Elayampadam                                   1\n",
       "Bormani                                       1\n",
       "Bori                                          1\n",
       "Batagaon                                      1\n",
       "Bateswar                                      1\n",
       "Bomaloi                                       1\n",
       "Cjhirkunda                                    1\n",
       "yemmiganur                                    1\n",
       "Gopalgaon                                     1\n",
       "Sanaata                                       1\n",
       "Rani durgawati Chowk                          1\n",
       "Rani durgawati chawk                          1\n",
       "Rani durgwati chowk                           1\n",
       "Ranidurgavatthi chowk                         1\n",
       "Ranidurgavatti                                1\n",
       "SATHANKUPPAM                                  1\n",
       "SUREDRANAGAR                                  1\n",
       "SURENDRAQNAGAR                                1\n",
       "Sajanagad                                     1\n",
       "Saliya                                        1\n",
       "Sambalpur`                                    1\n",
       "Sarakarnagar                                  1\n",
       "Rani Durgawati chowk                          1\n",
       "Sarberia                                      1\n",
       "Sasanga                                       1\n",
       "Satasmikha                                    1\n",
       "Satasmkha                                     1\n",
       "Satasomkha                                    1\n",
       "Satwas                                        1\n",
       "Setapur                                       1\n",
       "Shanthinagar                                  1\n",
       "Shidlaghatta                                  1\n",
       "Sihora                                        1\n",
       "Silot Maniyari                                1\n",
       "Rani durgavatti chowk                         1\n",
       "Ramna                                         1\n",
       "Gopinath Pur                                  1\n",
       "Pulianthop                                    1\n",
       "Parasagada                                    1\n",
       "Pattanaiksahi                                 1\n",
       "Periapatna                                    1\n",
       "Periyaoatna                                   1\n",
       "Periyapatana                                  1\n",
       "Periyatana                                    1\n",
       "Perumatty                                     1\n",
       "Perur                                         1\n",
       "Plakkad                                       1\n",
       "Poddadih                                      1\n",
       "Puasd                                         1\n",
       "Pulikoottam                                   1\n",
       "Rakhamines                                    1\n",
       "Pulinkoottam                                  1\n",
       "Pun                                           1\n",
       "Pusasd                                        1\n",
       "RUPUSKUNDI                                    1\n",
       "Rahangiria                                    1\n",
       "Rahui                                         1\n",
       "Raichur                                       1\n",
       "Raidighi                                      1\n",
       "Raigorada                                     1\n",
       "Raina                                         1\n",
       "Rajiv Nagar                                   1\n",
       "Singjakmei                                    1\n",
       "Sirigida                                      1\n",
       "Sirirangam                                    1\n",
       "Yellapura                                     1\n",
       "Venkataswamy Reedy Layout                     1\n",
       "Vinaynagar                                    1\n",
       "WADHWAN                                       1\n",
       "WAHWAN                                        1\n",
       "Wadhawan                                      1\n",
       "Wadhwna                                       1\n",
       "Yadaw nagar                                   1\n",
       "Yammiganur                                    1\n",
       "Yawatmal                                      1\n",
       "Yeemiganur                                    1\n",
       "Yellappa Garden                               1\n",
       "bar                                           1\n",
       "Soro                                          1\n",
       "biromal                                       1\n",
       "depalpur                                      1\n",
       "hatod ,Indore                                 1\n",
       "kurnool                                       1\n",
       "nanjangud                                     1\n",
       "nilgiri                                       1\n",
       "noorsarai                                     1\n",
       "pipili                                        1\n",
       "sambalpur                                     1\n",
       "village                                       1\n",
       "wadhawan                                      1\n",
       "Venkatasamy Reedy Layout                      1\n",
       "Vasand Nagar                                  1\n",
       "Vandazhy                                      1\n",
       "Vadakkumchery                                 1\n",
       "Srinivasa nagar                               1\n",
       "Sriramachandrapur                             1\n",
       "Subhash Ward                                  1\n",
       "Sukundi Street                                1\n",
       "Sulatanpur                                    1\n",
       "Sultanapur                                    1\n",
       "Sunahat                                       1\n",
       "Surendhra nagar                               1\n",
       "Surendra nagar                                1\n",
       "Tal - Taloda                                  1\n",
       "Taluka/Block:South Solapur                    1\n",
       "Taluka/Block;South Solapur                    1\n",
       "Tankun                                        1\n",
       "Teh. Bahoriband                               1\n",
       "Thadhanayakan Patti                           1\n",
       "Thadhanayakkan Post                           1\n",
       "Thakun                                        1\n",
       "Thuvakudi                                     1\n",
       "Town                                          1\n",
       "Unmat nagar                                   1\n",
       "VANAMADEVI                                    1\n",
       "VHJHJ                                         1\n",
       "Vadakanchery                                  1\n",
       "Panjampur                                     1\n",
       "Palayam pudur                                 1\n",
       "Paduvarahalli,                                1\n",
       "Karmarpata                                    1\n",
       "Jorda                                         1\n",
       "Juranhhapra                                   1\n",
       "K.Belthru                                     1\n",
       "K.R. Nagar Taluk                              1\n",
       "KODANGAL                                      1\n",
       "Kalale                                        1\n",
       "Kamakanta                                     1\n",
       "Kanakanadua                                   1\n",
       "Kanchikodi                                    1\n",
       "Kandhi Kuppam Poast                           1\n",
       "Kansa                                         1\n",
       "Kartikapara                                   1\n",
       "Koshalwar Ward                                1\n",
       "Kashimpur                                     1\n",
       "Kasiasasan                                    1\n",
       "Katarbaga                                     1\n",
       "Kendreapara                                   1\n",
       "Kendubahar                                    1\n",
       "Khariar Road- NAC                             1\n",
       "Khategoan                                     1\n",
       "Khudani                                       1\n",
       "Khunti                                        1\n",
       "Khurda                                        1\n",
       "Kodangal                                      1\n",
       "Joharan Puram                                 1\n",
       "Jhbua                                         1\n",
       "Jalgaon                                       1\n",
       "Jahara Puram                                  1\n",
       "Gp-Bomaloi, Ps-Katarbaga                      1\n",
       "Gudeepahad                                    1\n",
       "Guptipara No  1                               1\n",
       "Gwailor                                       1\n",
       "HD Koe                                        1\n",
       "HD kote                                       1\n",
       "Haripur                                       1\n",
       "Hnsur Taluk                                   1\n",
       "Hosuru                                        1\n",
       "Hullhalli                                     1\n",
       "Hunugund                                      1\n",
       "Hunuman ward                                  1\n",
       "Impahal East                                  1\n",
       "Impha West                                    1\n",
       "Imphal west                                   1\n",
       "Itawa ward                                    1\n",
       "Ithai bazar                                   1\n",
       "Itibhan, Chhaitana                            1\n",
       "Itibhuan                                      1\n",
       "Itibhuan, Chhaitana                           1\n",
       "Itibhuan,Chhaitana                            1\n",
       "Jaddugora                                     1\n",
       "Jadugora                                      1\n",
       "Koramangala Village                           1\n",
       "Koshawar Ward                                 1\n",
       "Paddadih                                      1\n",
       "Nanjanagud                                    1\n",
       "Moirangb                                      1\n",
       "Momjnpura                                     1\n",
       "Munidih                                       1\n",
       "Musti, Block: South Solapur                   1\n",
       "Myosore city                                  1\n",
       "NABADWIP                                      1\n",
       "NEAR WADHAN CITY                              1\n",
       "Naduveerapattu                                1\n",
       "Naduveerapattu/Cuddalore                      1\n",
       "Nagar                                         1\n",
       "Nanajangud                                    1\n",
       "Napada                                        1\n",
       "Koshinjampara                                 1\n",
       "Nasrillaganj                                  1\n",
       "Nasrullganj                                   1\n",
       "Naudikera                                     1\n",
       "Navalbuba ward                                1\n",
       "Navin Pusad                                   1\n",
       "Near Kamala hospital                          1\n",
       "Near Tawas                                    1\n",
       "Nuasomeswarpur                                1\n",
       "Osmanabad                                     1\n",
       "PO CHAKULIA                                   1\n",
       "Paanjamparambil                               1\n",
       "Moirang bazar                                 1\n",
       "Metgalli                                      1\n",
       "Mathura pur                                   1\n",
       "Markandeswar Sahi                             1\n",
       "Koudumur                                      1\n",
       "Kozinjampara                                  1\n",
       "Krishangiri                                   1\n",
       "Krisnagiri                                    1\n",
       "Kudumur                                       1\n",
       "Kumbi  bazar                                  1\n",
       "Kunanpada                                     1\n",
       "Kustagi                                       1\n",
       "LAIDA                                         1\n",
       "Lakshmi layout                                1\n",
       "Lakshmi sree layout                           1\n",
       "Latur                                         1\n",
       "Lingasagur                                    1\n",
       "Ltibhuna                                      1\n",
       "MINAKHAN                                      1\n",
       "yasvant sagar                                 1\n",
       "Madhupur                                      1\n",
       "Madhupura                                     1\n",
       "Magurpani - A                                 1\n",
       "Mahalingeshwar layout                         1\n",
       "Mahapur                                       1\n",
       "Maithon                                       1\n",
       "Mangoan                                       1\n",
       "Madhukar nagar                                1\n",
       "Name: city, dtype: int64"
      ]
     },
     "execution_count": 87,
     "metadata": {},
     "output_type": "execute_result"
    }
   ],
   "source": [
    "city_group_value = df.groupby('city')['city'].count()\n",
    "city_sorted = city_group_value.sort_values(ascending = False)\n",
    "city_sorted"
   ]
  },
  {
   "cell_type": "code",
   "execution_count": 88,
   "metadata": {},
   "outputs": [
    {
     "data": {
      "text/plain": [
       "city\n",
       "Pusad            5017\n",
       "Bahoriband       1979\n",
       "PUSAD            1776\n",
       "Shantipur        1727\n",
       "Imphal           1699\n",
       "Mathurapur       1361\n",
       "SANDESHKHALI     1087\n",
       "Joynagar          993\n",
       "Gwalior           952\n",
       "Kozhinjampara     897\n",
       "Name: city, dtype: int64"
      ]
     },
     "execution_count": 88,
     "metadata": {},
     "output_type": "execute_result"
    }
   ],
   "source": [
    "city_top_10 = city_sorted[0:10]\n",
    "city_top_10"
   ]
  },
  {
   "cell_type": "code",
   "execution_count": 89,
   "metadata": {},
   "outputs": [
    {
     "data": {
      "text/plain": [
       "['Pusad',\n",
       " 'Bahoriband',\n",
       " 'PUSAD',\n",
       " 'Shantipur',\n",
       " 'Imphal',\n",
       " 'Mathurapur',\n",
       " 'SANDESHKHALI',\n",
       " 'Joynagar',\n",
       " 'Gwalior',\n",
       " 'Kozhinjampara']"
      ]
     },
     "execution_count": 89,
     "metadata": {},
     "output_type": "execute_result"
    }
   ],
   "source": [
    "cities_10= df_new2['city'].value_counts().sort_values(ascending=False).head(10).index\n",
    "cities_10=list(cities_10)\n",
    "cities_10"
   ]
  },
  {
   "cell_type": "code",
   "execution_count": 90,
   "metadata": {},
   "outputs": [
    {
     "data": {
      "text/html": [
       "<div>\n",
       "<style scoped>\n",
       "    .dataframe tbody tr th:only-of-type {\n",
       "        vertical-align: middle;\n",
       "    }\n",
       "\n",
       "    .dataframe tbody tr th {\n",
       "        vertical-align: top;\n",
       "    }\n",
       "\n",
       "    .dataframe thead th {\n",
       "        text-align: right;\n",
       "    }\n",
       "</style>\n",
       "<table border=\"1\" class=\"dataframe\">\n",
       "  <thead>\n",
       "    <tr style=\"text-align: right;\">\n",
       "      <th></th>\n",
       "      <th>citycityy</th>\n",
       "      <th>Pusadcityy</th>\n",
       "      <th>Bahoribandcityy</th>\n",
       "      <th>PUSADcityy</th>\n",
       "      <th>Shantipurcityy</th>\n",
       "      <th>Imphalcityy</th>\n",
       "      <th>Mathurapurcityy</th>\n",
       "      <th>SANDESHKHALIcityy</th>\n",
       "      <th>Joynagarcityy</th>\n",
       "      <th>Gwaliorcityy</th>\n",
       "      <th>Kozhinjamparacityy</th>\n",
       "    </tr>\n",
       "  </thead>\n",
       "  <tbody>\n",
       "    <tr>\n",
       "      <th>0</th>\n",
       "      <td>Dhanbad</td>\n",
       "      <td>0</td>\n",
       "      <td>0</td>\n",
       "      <td>0</td>\n",
       "      <td>0</td>\n",
       "      <td>0</td>\n",
       "      <td>0</td>\n",
       "      <td>0</td>\n",
       "      <td>0</td>\n",
       "      <td>0</td>\n",
       "      <td>0</td>\n",
       "    </tr>\n",
       "    <tr>\n",
       "      <th>1</th>\n",
       "      <td>Manjapra</td>\n",
       "      <td>0</td>\n",
       "      <td>0</td>\n",
       "      <td>0</td>\n",
       "      <td>0</td>\n",
       "      <td>0</td>\n",
       "      <td>0</td>\n",
       "      <td>0</td>\n",
       "      <td>0</td>\n",
       "      <td>0</td>\n",
       "      <td>0</td>\n",
       "    </tr>\n",
       "    <tr>\n",
       "      <th>2</th>\n",
       "      <td>Dhanbad</td>\n",
       "      <td>0</td>\n",
       "      <td>0</td>\n",
       "      <td>0</td>\n",
       "      <td>0</td>\n",
       "      <td>0</td>\n",
       "      <td>0</td>\n",
       "      <td>0</td>\n",
       "      <td>0</td>\n",
       "      <td>0</td>\n",
       "      <td>0</td>\n",
       "    </tr>\n",
       "    <tr>\n",
       "      <th>3</th>\n",
       "      <td>Pusad</td>\n",
       "      <td>1</td>\n",
       "      <td>0</td>\n",
       "      <td>0</td>\n",
       "      <td>0</td>\n",
       "      <td>0</td>\n",
       "      <td>0</td>\n",
       "      <td>0</td>\n",
       "      <td>0</td>\n",
       "      <td>0</td>\n",
       "      <td>0</td>\n",
       "    </tr>\n",
       "    <tr>\n",
       "      <th>4</th>\n",
       "      <td>Nuapada</td>\n",
       "      <td>0</td>\n",
       "      <td>0</td>\n",
       "      <td>0</td>\n",
       "      <td>0</td>\n",
       "      <td>0</td>\n",
       "      <td>0</td>\n",
       "      <td>0</td>\n",
       "      <td>0</td>\n",
       "      <td>0</td>\n",
       "      <td>0</td>\n",
       "    </tr>\n",
       "  </tbody>\n",
       "</table>\n",
       "</div>"
      ],
      "text/plain": [
       "  citycityy  Pusadcityy  Bahoribandcityy  PUSADcityy  Shantipurcityy  \\\n",
       "0   Dhanbad           0                0           0               0   \n",
       "1  Manjapra           0                0           0               0   \n",
       "2   Dhanbad           0                0           0               0   \n",
       "3     Pusad           1                0           0               0   \n",
       "4   Nuapada           0                0           0               0   \n",
       "\n",
       "   Imphalcityy  Mathurapurcityy  SANDESHKHALIcityy  Joynagarcityy  \\\n",
       "0            0                0                  0              0   \n",
       "1            0                0                  0              0   \n",
       "2            0                0                  0              0   \n",
       "3            0                0                  0              0   \n",
       "4            0                0                  0              0   \n",
       "\n",
       "   Gwaliorcityy  Kozhinjamparacityy  \n",
       "0             0                   0  \n",
       "1             0                   0  \n",
       "2             0                   0  \n",
       "3             0                   0  \n",
       "4             0                   0  "
      ]
     },
     "execution_count": 90,
     "metadata": {},
     "output_type": "execute_result"
    }
   ],
   "source": [
    "for categories in cities_10:\n",
    "    df_new2[categories]=np.where(df_new2['city']==categories,1,0)\n",
    "df_new2.head()\n",
    "df_new3 = df_new2.add_suffix('cityy')\n",
    "df_new3.head()"
   ]
  },
  {
   "cell_type": "code",
   "execution_count": 91,
   "metadata": {},
   "outputs": [],
   "source": [
    "df_4 = df_new3.drop(['citycityy'], axis =1)"
   ]
  },
  {
   "cell_type": "code",
   "execution_count": 92,
   "metadata": {},
   "outputs": [
    {
     "data": {
      "text/html": [
       "<div>\n",
       "<style scoped>\n",
       "    .dataframe tbody tr th:only-of-type {\n",
       "        vertical-align: middle;\n",
       "    }\n",
       "\n",
       "    .dataframe tbody tr th {\n",
       "        vertical-align: top;\n",
       "    }\n",
       "\n",
       "    .dataframe thead th {\n",
       "        text-align: right;\n",
       "    }\n",
       "</style>\n",
       "<table border=\"1\" class=\"dataframe\">\n",
       "  <thead>\n",
       "    <tr style=\"text-align: right;\">\n",
       "      <th></th>\n",
       "      <th>Pusadcityy</th>\n",
       "      <th>Bahoribandcityy</th>\n",
       "      <th>PUSADcityy</th>\n",
       "      <th>Shantipurcityy</th>\n",
       "      <th>Imphalcityy</th>\n",
       "      <th>Mathurapurcityy</th>\n",
       "      <th>SANDESHKHALIcityy</th>\n",
       "      <th>Joynagarcityy</th>\n",
       "      <th>Gwaliorcityy</th>\n",
       "      <th>Kozhinjamparacityy</th>\n",
       "    </tr>\n",
       "  </thead>\n",
       "  <tbody>\n",
       "    <tr>\n",
       "      <th>0</th>\n",
       "      <td>0</td>\n",
       "      <td>0</td>\n",
       "      <td>0</td>\n",
       "      <td>0</td>\n",
       "      <td>0</td>\n",
       "      <td>0</td>\n",
       "      <td>0</td>\n",
       "      <td>0</td>\n",
       "      <td>0</td>\n",
       "      <td>0</td>\n",
       "    </tr>\n",
       "    <tr>\n",
       "      <th>1</th>\n",
       "      <td>0</td>\n",
       "      <td>0</td>\n",
       "      <td>0</td>\n",
       "      <td>0</td>\n",
       "      <td>0</td>\n",
       "      <td>0</td>\n",
       "      <td>0</td>\n",
       "      <td>0</td>\n",
       "      <td>0</td>\n",
       "      <td>0</td>\n",
       "    </tr>\n",
       "    <tr>\n",
       "      <th>2</th>\n",
       "      <td>0</td>\n",
       "      <td>0</td>\n",
       "      <td>0</td>\n",
       "      <td>0</td>\n",
       "      <td>0</td>\n",
       "      <td>0</td>\n",
       "      <td>0</td>\n",
       "      <td>0</td>\n",
       "      <td>0</td>\n",
       "      <td>0</td>\n",
       "    </tr>\n",
       "    <tr>\n",
       "      <th>3</th>\n",
       "      <td>1</td>\n",
       "      <td>0</td>\n",
       "      <td>0</td>\n",
       "      <td>0</td>\n",
       "      <td>0</td>\n",
       "      <td>0</td>\n",
       "      <td>0</td>\n",
       "      <td>0</td>\n",
       "      <td>0</td>\n",
       "      <td>0</td>\n",
       "    </tr>\n",
       "    <tr>\n",
       "      <th>4</th>\n",
       "      <td>0</td>\n",
       "      <td>0</td>\n",
       "      <td>0</td>\n",
       "      <td>0</td>\n",
       "      <td>0</td>\n",
       "      <td>0</td>\n",
       "      <td>0</td>\n",
       "      <td>0</td>\n",
       "      <td>0</td>\n",
       "      <td>0</td>\n",
       "    </tr>\n",
       "  </tbody>\n",
       "</table>\n",
       "</div>"
      ],
      "text/plain": [
       "   Pusadcityy  Bahoribandcityy  PUSADcityy  Shantipurcityy  Imphalcityy  \\\n",
       "0           0                0           0               0            0   \n",
       "1           0                0           0               0            0   \n",
       "2           0                0           0               0            0   \n",
       "3           1                0           0               0            0   \n",
       "4           0                0           0               0            0   \n",
       "\n",
       "   Mathurapurcityy  SANDESHKHALIcityy  Joynagarcityy  Gwaliorcityy  \\\n",
       "0                0                  0              0             0   \n",
       "1                0                  0              0             0   \n",
       "2                0                  0              0             0   \n",
       "3                0                  0              0             0   \n",
       "4                0                  0              0             0   \n",
       "\n",
       "   Kozhinjamparacityy  \n",
       "0                   0  \n",
       "1                   0  \n",
       "2                   0  \n",
       "3                   0  \n",
       "4                   0  "
      ]
     },
     "execution_count": 92,
     "metadata": {},
     "output_type": "execute_result"
    }
   ],
   "source": [
    "df_4.head()"
   ]
  },
  {
   "cell_type": "code",
   "execution_count": 93,
   "metadata": {},
   "outputs": [
    {
     "data": {
      "text/html": [
       "<div>\n",
       "<style scoped>\n",
       "    .dataframe tbody tr th:only-of-type {\n",
       "        vertical-align: middle;\n",
       "    }\n",
       "\n",
       "    .dataframe tbody tr th {\n",
       "        vertical-align: top;\n",
       "    }\n",
       "\n",
       "    .dataframe thead th {\n",
       "        text-align: right;\n",
       "    }\n",
       "</style>\n",
       "<table border=\"1\" class=\"dataframe\">\n",
       "  <thead>\n",
       "    <tr style=\"text-align: right;\">\n",
       "      <th></th>\n",
       "      <th>type_of_house_T1</th>\n",
       "      <th>type_of_house_T2</th>\n",
       "      <th>sex_M</th>\n",
       "      <th>secondary_business_YES</th>\n",
       "      <th>old_dependents</th>\n",
       "      <th>loan_tenure</th>\n",
       "      <th>young_dependents</th>\n",
       "      <th>annual_income</th>\n",
       "      <th>age</th>\n",
       "      <th>loan_installments</th>\n",
       "      <th>occupants_count</th>\n",
       "      <th>house_area</th>\n",
       "      <th>Id</th>\n",
       "      <th>home_ownership</th>\n",
       "      <th>monthly_expenses</th>\n",
       "      <th>Pusadcityy</th>\n",
       "      <th>Bahoribandcityy</th>\n",
       "      <th>PUSADcityy</th>\n",
       "      <th>Shantipurcityy</th>\n",
       "      <th>Imphalcityy</th>\n",
       "      <th>Mathurapurcityy</th>\n",
       "      <th>SANDESHKHALIcityy</th>\n",
       "      <th>Joynagarcityy</th>\n",
       "      <th>Gwaliorcityy</th>\n",
       "      <th>Kozhinjamparacityy</th>\n",
       "    </tr>\n",
       "  </thead>\n",
       "  <tbody>\n",
       "    <tr>\n",
       "      <th>0</th>\n",
       "      <td>0</td>\n",
       "      <td>0</td>\n",
       "      <td>0</td>\n",
       "      <td>1</td>\n",
       "      <td>0</td>\n",
       "      <td>12</td>\n",
       "      <td>2</td>\n",
       "      <td>36000.0</td>\n",
       "      <td>22</td>\n",
       "      <td>12</td>\n",
       "      <td>4</td>\n",
       "      <td>70.0</td>\n",
       "      <td>1</td>\n",
       "      <td>1.0</td>\n",
       "      <td>5000.0</td>\n",
       "      <td>0</td>\n",
       "      <td>0</td>\n",
       "      <td>0</td>\n",
       "      <td>0</td>\n",
       "      <td>0</td>\n",
       "      <td>0</td>\n",
       "      <td>0</td>\n",
       "      <td>0</td>\n",
       "      <td>0</td>\n",
       "      <td>0</td>\n",
       "    </tr>\n",
       "    <tr>\n",
       "      <th>1</th>\n",
       "      <td>1</td>\n",
       "      <td>0</td>\n",
       "      <td>0</td>\n",
       "      <td>0</td>\n",
       "      <td>1</td>\n",
       "      <td>12</td>\n",
       "      <td>1</td>\n",
       "      <td>94000.0</td>\n",
       "      <td>21</td>\n",
       "      <td>50</td>\n",
       "      <td>4</td>\n",
       "      <td>80.0</td>\n",
       "      <td>2</td>\n",
       "      <td>1.0</td>\n",
       "      <td>3600.0</td>\n",
       "      <td>0</td>\n",
       "      <td>0</td>\n",
       "      <td>0</td>\n",
       "      <td>0</td>\n",
       "      <td>0</td>\n",
       "      <td>0</td>\n",
       "      <td>0</td>\n",
       "      <td>0</td>\n",
       "      <td>0</td>\n",
       "      <td>0</td>\n",
       "    </tr>\n",
       "    <tr>\n",
       "      <th>2</th>\n",
       "      <td>1</td>\n",
       "      <td>0</td>\n",
       "      <td>1</td>\n",
       "      <td>1</td>\n",
       "      <td>0</td>\n",
       "      <td>12</td>\n",
       "      <td>2</td>\n",
       "      <td>48000.0</td>\n",
       "      <td>24</td>\n",
       "      <td>12</td>\n",
       "      <td>4</td>\n",
       "      <td>50.0</td>\n",
       "      <td>3</td>\n",
       "      <td>1.0</td>\n",
       "      <td>4000.0</td>\n",
       "      <td>0</td>\n",
       "      <td>0</td>\n",
       "      <td>0</td>\n",
       "      <td>0</td>\n",
       "      <td>0</td>\n",
       "      <td>0</td>\n",
       "      <td>0</td>\n",
       "      <td>0</td>\n",
       "      <td>0</td>\n",
       "      <td>0</td>\n",
       "    </tr>\n",
       "    <tr>\n",
       "      <th>3</th>\n",
       "      <td>1</td>\n",
       "      <td>0</td>\n",
       "      <td>0</td>\n",
       "      <td>0</td>\n",
       "      <td>0</td>\n",
       "      <td>12</td>\n",
       "      <td>2</td>\n",
       "      <td>7000.0</td>\n",
       "      <td>26</td>\n",
       "      <td>50</td>\n",
       "      <td>5</td>\n",
       "      <td>50.0</td>\n",
       "      <td>4</td>\n",
       "      <td>1.0</td>\n",
       "      <td>5000.0</td>\n",
       "      <td>1</td>\n",
       "      <td>0</td>\n",
       "      <td>0</td>\n",
       "      <td>0</td>\n",
       "      <td>0</td>\n",
       "      <td>0</td>\n",
       "      <td>0</td>\n",
       "      <td>0</td>\n",
       "      <td>0</td>\n",
       "      <td>0</td>\n",
       "    </tr>\n",
       "    <tr>\n",
       "      <th>4</th>\n",
       "      <td>1</td>\n",
       "      <td>0</td>\n",
       "      <td>0</td>\n",
       "      <td>1</td>\n",
       "      <td>0</td>\n",
       "      <td>12</td>\n",
       "      <td>0</td>\n",
       "      <td>36000.0</td>\n",
       "      <td>23</td>\n",
       "      <td>12</td>\n",
       "      <td>1</td>\n",
       "      <td>112.0</td>\n",
       "      <td>5</td>\n",
       "      <td>1.0</td>\n",
       "      <td>3500.0</td>\n",
       "      <td>0</td>\n",
       "      <td>0</td>\n",
       "      <td>0</td>\n",
       "      <td>0</td>\n",
       "      <td>0</td>\n",
       "      <td>0</td>\n",
       "      <td>0</td>\n",
       "      <td>0</td>\n",
       "      <td>0</td>\n",
       "      <td>0</td>\n",
       "    </tr>\n",
       "  </tbody>\n",
       "</table>\n",
       "</div>"
      ],
      "text/plain": [
       "   type_of_house_T1  type_of_house_T2  sex_M  secondary_business_YES  \\\n",
       "0                 0                 0      0                       1   \n",
       "1                 1                 0      0                       0   \n",
       "2                 1                 0      1                       1   \n",
       "3                 1                 0      0                       0   \n",
       "4                 1                 0      0                       1   \n",
       "\n",
       "   old_dependents  loan_tenure  young_dependents  annual_income  age  \\\n",
       "0               0           12                 2        36000.0   22   \n",
       "1               1           12                 1        94000.0   21   \n",
       "2               0           12                 2        48000.0   24   \n",
       "3               0           12                 2         7000.0   26   \n",
       "4               0           12                 0        36000.0   23   \n",
       "\n",
       "   loan_installments  occupants_count  house_area  Id  home_ownership  \\\n",
       "0                 12                4        70.0   1             1.0   \n",
       "1                 50                4        80.0   2             1.0   \n",
       "2                 12                4        50.0   3             1.0   \n",
       "3                 50                5        50.0   4             1.0   \n",
       "4                 12                1       112.0   5             1.0   \n",
       "\n",
       "   monthly_expenses  Pusadcityy  Bahoribandcityy  PUSADcityy  Shantipurcityy  \\\n",
       "0            5000.0           0                0           0               0   \n",
       "1            3600.0           0                0           0               0   \n",
       "2            4000.0           0                0           0               0   \n",
       "3            5000.0           1                0           0               0   \n",
       "4            3500.0           0                0           0               0   \n",
       "\n",
       "   Imphalcityy  Mathurapurcityy  SANDESHKHALIcityy  Joynagarcityy  \\\n",
       "0            0                0                  0              0   \n",
       "1            0                0                  0              0   \n",
       "2            0                0                  0              0   \n",
       "3            0                0                  0              0   \n",
       "4            0                0                  0              0   \n",
       "\n",
       "   Gwaliorcityy  Kozhinjamparacityy  \n",
       "0             0                   0  \n",
       "1             0                   0  \n",
       "2             0                   0  \n",
       "3             0                   0  \n",
       "4             0                   0  "
      ]
     },
     "execution_count": 93,
     "metadata": {},
     "output_type": "execute_result"
    }
   ],
   "source": [
    "X12=pd.concat([X, df_4],axis=1)\n",
    "X12.head()"
   ]
  },
  {
   "cell_type": "code",
   "execution_count": 94,
   "metadata": {},
   "outputs": [],
   "source": [
    "from sklearn.model_selection import train_test_split\n",
    "SEED = 1\n",
    "X1_train, X1_test, y_train, y_test = train_test_split(X12, y, test_size=0.3, random_state= SEED)"
   ]
  },
  {
   "cell_type": "markdown",
   "metadata": {},
   "source": [
    "# LINEAR REGRESSION"
   ]
  },
  {
   "cell_type": "code",
   "execution_count": 95,
   "metadata": {},
   "outputs": [
    {
     "data": {
      "text/plain": [
       "LinearRegression()"
      ]
     },
     "execution_count": 95,
     "metadata": {},
     "output_type": "execute_result"
    }
   ],
   "source": [
    "lm1=LinearRegression()\n",
    "lm1.fit(X1_train,y_train)"
   ]
  },
  {
   "cell_type": "code",
   "execution_count": 96,
   "metadata": {},
   "outputs": [],
   "source": [
    "y_pred_lm1=lm1.predict(X1_test)"
   ]
  },
  {
   "cell_type": "code",
   "execution_count": 97,
   "metadata": {},
   "outputs": [
    {
     "data": {
      "text/html": [
       "<div>\n",
       "<style scoped>\n",
       "    .dataframe tbody tr th:only-of-type {\n",
       "        vertical-align: middle;\n",
       "    }\n",
       "\n",
       "    .dataframe tbody tr th {\n",
       "        vertical-align: top;\n",
       "    }\n",
       "\n",
       "    .dataframe thead th {\n",
       "        text-align: right;\n",
       "    }\n",
       "</style>\n",
       "<table border=\"1\" class=\"dataframe\">\n",
       "  <thead>\n",
       "    <tr style=\"text-align: right;\">\n",
       "      <th></th>\n",
       "      <th>Predicted_loan_amount</th>\n",
       "    </tr>\n",
       "  </thead>\n",
       "  <tbody>\n",
       "    <tr>\n",
       "      <th>0</th>\n",
       "      <td>8982.711719</td>\n",
       "    </tr>\n",
       "    <tr>\n",
       "      <th>1</th>\n",
       "      <td>4659.880069</td>\n",
       "    </tr>\n",
       "    <tr>\n",
       "      <th>2</th>\n",
       "      <td>6087.508815</td>\n",
       "    </tr>\n",
       "    <tr>\n",
       "      <th>3</th>\n",
       "      <td>12074.520470</td>\n",
       "    </tr>\n",
       "    <tr>\n",
       "      <th>4</th>\n",
       "      <td>5956.253456</td>\n",
       "    </tr>\n",
       "  </tbody>\n",
       "</table>\n",
       "</div>"
      ],
      "text/plain": [
       "   Predicted_loan_amount\n",
       "0            8982.711719\n",
       "1            4659.880069\n",
       "2            6087.508815\n",
       "3           12074.520470\n",
       "4            5956.253456"
      ]
     },
     "execution_count": 97,
     "metadata": {},
     "output_type": "execute_result"
    }
   ],
   "source": [
    "y_pred_lm1 = pd.DataFrame(y_pred_lm1,columns={\"Predicted_loan_amount\"})\n",
    "y_pred_lm1.head()"
   ]
  },
  {
   "cell_type": "code",
   "execution_count": 98,
   "metadata": {},
   "outputs": [
    {
     "data": {
      "text/html": [
       "<div>\n",
       "<style scoped>\n",
       "    .dataframe tbody tr th:only-of-type {\n",
       "        vertical-align: middle;\n",
       "    }\n",
       "\n",
       "    .dataframe tbody tr th {\n",
       "        vertical-align: top;\n",
       "    }\n",
       "\n",
       "    .dataframe thead th {\n",
       "        text-align: right;\n",
       "    }\n",
       "</style>\n",
       "<table border=\"1\" class=\"dataframe\">\n",
       "  <thead>\n",
       "    <tr style=\"text-align: right;\">\n",
       "      <th></th>\n",
       "      <th>Predicted_loan_amount</th>\n",
       "      <th>loan_amount</th>\n",
       "    </tr>\n",
       "  </thead>\n",
       "  <tbody>\n",
       "    <tr>\n",
       "      <th>0</th>\n",
       "      <td>8982.711719</td>\n",
       "      <td>15000.0</td>\n",
       "    </tr>\n",
       "    <tr>\n",
       "      <th>1</th>\n",
       "      <td>4659.880069</td>\n",
       "      <td>5000.0</td>\n",
       "    </tr>\n",
       "    <tr>\n",
       "      <th>2</th>\n",
       "      <td>6087.508815</td>\n",
       "      <td>5000.0</td>\n",
       "    </tr>\n",
       "    <tr>\n",
       "      <th>3</th>\n",
       "      <td>12074.520470</td>\n",
       "      <td>8000.0</td>\n",
       "    </tr>\n",
       "    <tr>\n",
       "      <th>4</th>\n",
       "      <td>5956.253456</td>\n",
       "      <td>5000.0</td>\n",
       "    </tr>\n",
       "    <tr>\n",
       "      <th>5</th>\n",
       "      <td>9495.901828</td>\n",
       "      <td>10000.0</td>\n",
       "    </tr>\n",
       "    <tr>\n",
       "      <th>6</th>\n",
       "      <td>11559.930099</td>\n",
       "      <td>9000.0</td>\n",
       "    </tr>\n",
       "    <tr>\n",
       "      <th>7</th>\n",
       "      <td>7672.460050</td>\n",
       "      <td>5000.0</td>\n",
       "    </tr>\n",
       "    <tr>\n",
       "      <th>8</th>\n",
       "      <td>8447.233260</td>\n",
       "      <td>5000.0</td>\n",
       "    </tr>\n",
       "    <tr>\n",
       "      <th>9</th>\n",
       "      <td>7653.351710</td>\n",
       "      <td>5000.0</td>\n",
       "    </tr>\n",
       "  </tbody>\n",
       "</table>\n",
       "</div>"
      ],
      "text/plain": [
       "   Predicted_loan_amount  loan_amount\n",
       "0            8982.711719      15000.0\n",
       "1            4659.880069       5000.0\n",
       "2            6087.508815       5000.0\n",
       "3           12074.520470       8000.0\n",
       "4            5956.253456       5000.0\n",
       "5            9495.901828      10000.0\n",
       "6           11559.930099       9000.0\n",
       "7            7672.460050       5000.0\n",
       "8            8447.233260       5000.0\n",
       "9            7653.351710       5000.0"
      ]
     },
     "execution_count": 98,
     "metadata": {},
     "output_type": "execute_result"
    }
   ],
   "source": [
    "lm_merged1 = pd.concat([y_pred_lm1,y_test2],axis=1)\n",
    "lm_merged1.head(10)"
   ]
  },
  {
   "cell_type": "code",
   "execution_count": 99,
   "metadata": {},
   "outputs": [
    {
     "data": {
      "text/plain": [
       "<AxesSubplot:>"
      ]
     },
     "execution_count": 99,
     "metadata": {},
     "output_type": "execute_result"
    },
    {
     "data": {
      "text/plain": [
       "<Figure size 1440x720 with 0 Axes>"
      ]
     },
     "metadata": {},
     "output_type": "display_data"
    },
    {
     "data": {
      "image/png": "[encoded data removed]",
      "text/plain": [
       "<Figure size 432x288 with 1 Axes>"
      ]
     },
     "metadata": {
      "needs_background": "light"
     },
     "output_type": "display_data"
    }
   ],
   "source": [
    "plt.figure(figsize = (20,10))\n",
    "lm_merged1[['loan_amount','Predicted_loan_amount']].plot()"
   ]
  },
  {
   "cell_type": "code",
   "execution_count": 100,
   "metadata": {},
   "outputs": [
    {
     "name": "stdout",
     "output_type": "stream",
     "text": [
      "MAE: 2538.600808246302\n",
      "MSE: 2367839201.168455\n",
      "RMSE: 48660.4480165201\n",
      "R2 Score: -25.28611375252619\n"
     ]
    }
   ],
   "source": [
    "print('MAE:', MAE(y_test, y_pred_lm1))\n",
    "print('MSE:', MSE(y_test, y_pred_lm1))\n",
    "print('RMSE:', np.sqrt(MSE(y_test, y_pred_lm1)))\n",
    "print('R2 Score:', r2_score(y_test, y_pred_lm1))"
   ]
  },
  {
   "cell_type": "markdown",
   "metadata": {},
   "source": [
    "Since, R2 Score is negative, we must not use this model."
   ]
  },
  {
   "cell_type": "code",
   "execution_count": 101,
   "metadata": {},
   "outputs": [],
   "source": [
    "lm_merged1['error_rate'] = (abs(lm_merged1['loan_amount']-lm_merged1['Predicted_loan_amount'])/lm_merged1['loan_amount'])*100"
   ]
  },
  {
   "cell_type": "code",
   "execution_count": 102,
   "metadata": {},
   "outputs": [
    {
     "data": {
      "text/html": [
       "<div>\n",
       "<style scoped>\n",
       "    .dataframe tbody tr th:only-of-type {\n",
       "        vertical-align: middle;\n",
       "    }\n",
       "\n",
       "    .dataframe tbody tr th {\n",
       "        vertical-align: top;\n",
       "    }\n",
       "\n",
       "    .dataframe thead th {\n",
       "        text-align: right;\n",
       "    }\n",
       "</style>\n",
       "<table border=\"1\" class=\"dataframe\">\n",
       "  <thead>\n",
       "    <tr style=\"text-align: right;\">\n",
       "      <th></th>\n",
       "      <th>Predicted_loan_amount</th>\n",
       "      <th>loan_amount</th>\n",
       "      <th>error_rate</th>\n",
       "    </tr>\n",
       "  </thead>\n",
       "  <tbody>\n",
       "    <tr>\n",
       "      <th>0</th>\n",
       "      <td>8982.711719</td>\n",
       "      <td>15000.0</td>\n",
       "      <td>40.115255</td>\n",
       "    </tr>\n",
       "    <tr>\n",
       "      <th>1</th>\n",
       "      <td>4659.880069</td>\n",
       "      <td>5000.0</td>\n",
       "      <td>6.802399</td>\n",
       "    </tr>\n",
       "    <tr>\n",
       "      <th>2</th>\n",
       "      <td>6087.508815</td>\n",
       "      <td>5000.0</td>\n",
       "      <td>21.750176</td>\n",
       "    </tr>\n",
       "    <tr>\n",
       "      <th>3</th>\n",
       "      <td>12074.520470</td>\n",
       "      <td>8000.0</td>\n",
       "      <td>50.931506</td>\n",
       "    </tr>\n",
       "    <tr>\n",
       "      <th>4</th>\n",
       "      <td>5956.253456</td>\n",
       "      <td>5000.0</td>\n",
       "      <td>19.125069</td>\n",
       "    </tr>\n",
       "  </tbody>\n",
       "</table>\n",
       "</div>"
      ],
      "text/plain": [
       "   Predicted_loan_amount  loan_amount  error_rate\n",
       "0            8982.711719      15000.0   40.115255\n",
       "1            4659.880069       5000.0    6.802399\n",
       "2            6087.508815       5000.0   21.750176\n",
       "3           12074.520470       8000.0   50.931506\n",
       "4            5956.253456       5000.0   19.125069"
      ]
     },
     "execution_count": 102,
     "metadata": {},
     "output_type": "execute_result"
    }
   ],
   "source": [
    "lm_merged1.head()"
   ]
  },
  {
   "cell_type": "code",
   "execution_count": 160,
   "metadata": {},
   "outputs": [
    {
     "data": {
      "text/plain": [
       "67.63883396976973"
      ]
     },
     "execution_count": 160,
     "metadata": {},
     "output_type": "execute_result"
    }
   ],
   "source": [
    "#mean error rate\n",
    "lm_mean_error1=lm_merged1.error_rate.mean()\n",
    "#calculating accuracy\n",
    "lm_mean_accuracy1=100-lm_mean_error1\n",
    "lm_mean_accuracy1"
   ]
  },
  {
   "cell_type": "markdown",
   "metadata": {},
   "source": [
    "Using Linear Regression, we get 67.6% accuracy rate."
   ]
  },
  {
   "cell_type": "markdown",
   "metadata": {},
   "source": [
    "# Decision Tree Regressor"
   ]
  },
  {
   "cell_type": "code",
   "execution_count": 104,
   "metadata": {},
   "outputs": [
    {
     "data": {
      "text/plain": [
       "DecisionTreeRegressor()"
      ]
     },
     "execution_count": 104,
     "metadata": {},
     "output_type": "execute_result"
    }
   ],
   "source": [
    "dt1=DecisionTreeRegressor()\n",
    "dt1.fit(X1_train,y_train)"
   ]
  },
  {
   "cell_type": "code",
   "execution_count": 105,
   "metadata": {},
   "outputs": [],
   "source": [
    "y_pred_dt1=dt1.predict(X1_test)"
   ]
  },
  {
   "cell_type": "code",
   "execution_count": 106,
   "metadata": {},
   "outputs": [
    {
     "data": {
      "text/html": [
       "<div>\n",
       "<style scoped>\n",
       "    .dataframe tbody tr th:only-of-type {\n",
       "        vertical-align: middle;\n",
       "    }\n",
       "\n",
       "    .dataframe tbody tr th {\n",
       "        vertical-align: top;\n",
       "    }\n",
       "\n",
       "    .dataframe thead th {\n",
       "        text-align: right;\n",
       "    }\n",
       "</style>\n",
       "<table border=\"1\" class=\"dataframe\">\n",
       "  <thead>\n",
       "    <tr style=\"text-align: right;\">\n",
       "      <th></th>\n",
       "      <th>Predicted_loan_amount</th>\n",
       "    </tr>\n",
       "  </thead>\n",
       "  <tbody>\n",
       "    <tr>\n",
       "      <th>0</th>\n",
       "      <td>15000.0</td>\n",
       "    </tr>\n",
       "    <tr>\n",
       "      <th>1</th>\n",
       "      <td>5000.0</td>\n",
       "    </tr>\n",
       "    <tr>\n",
       "      <th>2</th>\n",
       "      <td>5000.0</td>\n",
       "    </tr>\n",
       "    <tr>\n",
       "      <th>3</th>\n",
       "      <td>10000.0</td>\n",
       "    </tr>\n",
       "    <tr>\n",
       "      <th>4</th>\n",
       "      <td>5000.0</td>\n",
       "    </tr>\n",
       "  </tbody>\n",
       "</table>\n",
       "</div>"
      ],
      "text/plain": [
       "   Predicted_loan_amount\n",
       "0                15000.0\n",
       "1                 5000.0\n",
       "2                 5000.0\n",
       "3                10000.0\n",
       "4                 5000.0"
      ]
     },
     "execution_count": 106,
     "metadata": {},
     "output_type": "execute_result"
    }
   ],
   "source": [
    "y_pred_dt1 = pd.DataFrame(y_pred_dt1,columns={\"Predicted_loan_amount\"})\n",
    "y_pred_dt1.head()"
   ]
  },
  {
   "cell_type": "code",
   "execution_count": 107,
   "metadata": {},
   "outputs": [
    {
     "data": {
      "text/html": [
       "<div>\n",
       "<style scoped>\n",
       "    .dataframe tbody tr th:only-of-type {\n",
       "        vertical-align: middle;\n",
       "    }\n",
       "\n",
       "    .dataframe tbody tr th {\n",
       "        vertical-align: top;\n",
       "    }\n",
       "\n",
       "    .dataframe thead th {\n",
       "        text-align: right;\n",
       "    }\n",
       "</style>\n",
       "<table border=\"1\" class=\"dataframe\">\n",
       "  <thead>\n",
       "    <tr style=\"text-align: right;\">\n",
       "      <th></th>\n",
       "      <th>Predicted_loan_amount</th>\n",
       "      <th>loan_amount</th>\n",
       "    </tr>\n",
       "  </thead>\n",
       "  <tbody>\n",
       "    <tr>\n",
       "      <th>0</th>\n",
       "      <td>15000.0</td>\n",
       "      <td>15000.0</td>\n",
       "    </tr>\n",
       "    <tr>\n",
       "      <th>1</th>\n",
       "      <td>5000.0</td>\n",
       "      <td>5000.0</td>\n",
       "    </tr>\n",
       "    <tr>\n",
       "      <th>2</th>\n",
       "      <td>5000.0</td>\n",
       "      <td>5000.0</td>\n",
       "    </tr>\n",
       "    <tr>\n",
       "      <th>3</th>\n",
       "      <td>10000.0</td>\n",
       "      <td>8000.0</td>\n",
       "    </tr>\n",
       "    <tr>\n",
       "      <th>4</th>\n",
       "      <td>5000.0</td>\n",
       "      <td>5000.0</td>\n",
       "    </tr>\n",
       "    <tr>\n",
       "      <th>5</th>\n",
       "      <td>10000.0</td>\n",
       "      <td>10000.0</td>\n",
       "    </tr>\n",
       "    <tr>\n",
       "      <th>6</th>\n",
       "      <td>6000.0</td>\n",
       "      <td>9000.0</td>\n",
       "    </tr>\n",
       "    <tr>\n",
       "      <th>7</th>\n",
       "      <td>5000.0</td>\n",
       "      <td>5000.0</td>\n",
       "    </tr>\n",
       "    <tr>\n",
       "      <th>8</th>\n",
       "      <td>5000.0</td>\n",
       "      <td>5000.0</td>\n",
       "    </tr>\n",
       "    <tr>\n",
       "      <th>9</th>\n",
       "      <td>5000.0</td>\n",
       "      <td>5000.0</td>\n",
       "    </tr>\n",
       "  </tbody>\n",
       "</table>\n",
       "</div>"
      ],
      "text/plain": [
       "   Predicted_loan_amount  loan_amount\n",
       "0                15000.0      15000.0\n",
       "1                 5000.0       5000.0\n",
       "2                 5000.0       5000.0\n",
       "3                10000.0       8000.0\n",
       "4                 5000.0       5000.0\n",
       "5                10000.0      10000.0\n",
       "6                 6000.0       9000.0\n",
       "7                 5000.0       5000.0\n",
       "8                 5000.0       5000.0\n",
       "9                 5000.0       5000.0"
      ]
     },
     "execution_count": 107,
     "metadata": {},
     "output_type": "execute_result"
    }
   ],
   "source": [
    "dt_merged1 = pd.concat([y_pred_dt1,y_test2],axis=1)\n",
    "dt_merged1.head(10)"
   ]
  },
  {
   "cell_type": "code",
   "execution_count": 108,
   "metadata": {},
   "outputs": [
    {
     "data": {
      "text/plain": [
       "<AxesSubplot:>"
      ]
     },
     "execution_count": 108,
     "metadata": {},
     "output_type": "execute_result"
    },
    {
     "data": {
      "text/plain": [
       "<Figure size 1440x720 with 0 Axes>"
      ]
     },
     "metadata": {},
     "output_type": "display_data"
    },
    {
     "data": {
      "image/png": "[encoded data removed]",
      "text/plain": [
       "<Figure size 432x288 with 1 Axes>"
      ]
     },
     "metadata": {
      "needs_background": "light"
     },
     "output_type": "display_data"
    }
   ],
   "source": [
    "plt.figure(figsize = (20,10))\n",
    "dt_merged1[['loan_amount','Predicted_loan_amount']].plot()"
   ]
  },
  {
   "cell_type": "code",
   "execution_count": 109,
   "metadata": {},
   "outputs": [
    {
     "name": "stdout",
     "output_type": "stream",
     "text": [
      "MAE: 1180.0316693057755\n",
      "MSE: 259327532.29435787\n",
      "RMSE: 16103.649657588738\n"
     ]
    }
   ],
   "source": [
    "print('MAE:', MAE(y_test, y_pred_dt1))\n",
    "print('MSE:', MSE(y_test, y_pred_dt1))\n",
    "print('RMSE:', np.sqrt(MSE(y_test, y_pred_dt1)))"
   ]
  },
  {
   "cell_type": "code",
   "execution_count": 110,
   "metadata": {},
   "outputs": [],
   "source": [
    "dt_merged1['error_rate'] = (abs(dt_merged1['loan_amount']-dt_merged1['Predicted_loan_amount'])/dt_merged1['loan_amount'])*100"
   ]
  },
  {
   "cell_type": "code",
   "execution_count": 111,
   "metadata": {},
   "outputs": [
    {
     "data": {
      "text/html": [
       "<div>\n",
       "<style scoped>\n",
       "    .dataframe tbody tr th:only-of-type {\n",
       "        vertical-align: middle;\n",
       "    }\n",
       "\n",
       "    .dataframe tbody tr th {\n",
       "        vertical-align: top;\n",
       "    }\n",
       "\n",
       "    .dataframe thead th {\n",
       "        text-align: right;\n",
       "    }\n",
       "</style>\n",
       "<table border=\"1\" class=\"dataframe\">\n",
       "  <thead>\n",
       "    <tr style=\"text-align: right;\">\n",
       "      <th></th>\n",
       "      <th>Predicted_loan_amount</th>\n",
       "      <th>loan_amount</th>\n",
       "      <th>error_rate</th>\n",
       "    </tr>\n",
       "  </thead>\n",
       "  <tbody>\n",
       "    <tr>\n",
       "      <th>0</th>\n",
       "      <td>15000.0</td>\n",
       "      <td>15000.0</td>\n",
       "      <td>0.0</td>\n",
       "    </tr>\n",
       "    <tr>\n",
       "      <th>1</th>\n",
       "      <td>5000.0</td>\n",
       "      <td>5000.0</td>\n",
       "      <td>0.0</td>\n",
       "    </tr>\n",
       "    <tr>\n",
       "      <th>2</th>\n",
       "      <td>5000.0</td>\n",
       "      <td>5000.0</td>\n",
       "      <td>0.0</td>\n",
       "    </tr>\n",
       "    <tr>\n",
       "      <th>3</th>\n",
       "      <td>10000.0</td>\n",
       "      <td>8000.0</td>\n",
       "      <td>25.0</td>\n",
       "    </tr>\n",
       "    <tr>\n",
       "      <th>4</th>\n",
       "      <td>5000.0</td>\n",
       "      <td>5000.0</td>\n",
       "      <td>0.0</td>\n",
       "    </tr>\n",
       "  </tbody>\n",
       "</table>\n",
       "</div>"
      ],
      "text/plain": [
       "   Predicted_loan_amount  loan_amount  error_rate\n",
       "0                15000.0      15000.0         0.0\n",
       "1                 5000.0       5000.0         0.0\n",
       "2                 5000.0       5000.0         0.0\n",
       "3                10000.0       8000.0        25.0\n",
       "4                 5000.0       5000.0         0.0"
      ]
     },
     "execution_count": 111,
     "metadata": {},
     "output_type": "execute_result"
    }
   ],
   "source": [
    "dt_merged1.head()"
   ]
  },
  {
   "cell_type": "code",
   "execution_count": 179,
   "metadata": {},
   "outputs": [
    {
     "data": {
      "text/plain": [
       "89.13823273563767"
      ]
     },
     "execution_count": 179,
     "metadata": {},
     "output_type": "execute_result"
    }
   ],
   "source": [
    "#mean error rate\n",
    "dt_mean_error1=dt_merged1.error_rate.mean()\n",
    "#calculating accuracy\n",
    "dt_mean_accuracy1=100-dt_mean_error1\n",
    "dt_mean_accuracy1"
   ]
  },
  {
   "cell_type": "markdown",
   "metadata": {},
   "source": [
    "Using DT Regressor, we get 89.1% accuracy rate."
   ]
  },
  {
   "cell_type": "markdown",
   "metadata": {},
   "source": [
    "# Random Forest Regressor"
   ]
  },
  {
   "cell_type": "code",
   "execution_count": 113,
   "metadata": {},
   "outputs": [
    {
     "data": {
      "text/plain": [
       "RandomForestRegressor()"
      ]
     },
     "execution_count": 113,
     "metadata": {},
     "output_type": "execute_result"
    }
   ],
   "source": [
    "rf1=RandomForestRegressor()\n",
    "rf1.fit(X1_train,y_train)"
   ]
  },
  {
   "cell_type": "code",
   "execution_count": 114,
   "metadata": {},
   "outputs": [],
   "source": [
    "y_pred_rf1=rf1.predict(X1_test)"
   ]
  },
  {
   "cell_type": "code",
   "execution_count": 115,
   "metadata": {},
   "outputs": [
    {
     "data": {
      "text/html": [
       "<div>\n",
       "<style scoped>\n",
       "    .dataframe tbody tr th:only-of-type {\n",
       "        vertical-align: middle;\n",
       "    }\n",
       "\n",
       "    .dataframe tbody tr th {\n",
       "        vertical-align: top;\n",
       "    }\n",
       "\n",
       "    .dataframe thead th {\n",
       "        text-align: right;\n",
       "    }\n",
       "</style>\n",
       "<table border=\"1\" class=\"dataframe\">\n",
       "  <thead>\n",
       "    <tr style=\"text-align: right;\">\n",
       "      <th></th>\n",
       "      <th>Predicted_loan_amount</th>\n",
       "    </tr>\n",
       "  </thead>\n",
       "  <tbody>\n",
       "    <tr>\n",
       "      <th>0</th>\n",
       "      <td>11310.0</td>\n",
       "    </tr>\n",
       "    <tr>\n",
       "      <th>1</th>\n",
       "      <td>5000.0</td>\n",
       "    </tr>\n",
       "    <tr>\n",
       "      <th>2</th>\n",
       "      <td>5157.0</td>\n",
       "    </tr>\n",
       "    <tr>\n",
       "      <th>3</th>\n",
       "      <td>8460.0</td>\n",
       "    </tr>\n",
       "    <tr>\n",
       "      <th>4</th>\n",
       "      <td>5100.0</td>\n",
       "    </tr>\n",
       "  </tbody>\n",
       "</table>\n",
       "</div>"
      ],
      "text/plain": [
       "   Predicted_loan_amount\n",
       "0                11310.0\n",
       "1                 5000.0\n",
       "2                 5157.0\n",
       "3                 8460.0\n",
       "4                 5100.0"
      ]
     },
     "execution_count": 115,
     "metadata": {},
     "output_type": "execute_result"
    }
   ],
   "source": [
    "y_pred_rf1 = pd.DataFrame(y_pred_rf1,columns={\"Predicted_loan_amount\"})\n",
    "y_pred_rf1.head()"
   ]
  },
  {
   "cell_type": "code",
   "execution_count": 116,
   "metadata": {},
   "outputs": [
    {
     "data": {
      "text/html": [
       "<div>\n",
       "<style scoped>\n",
       "    .dataframe tbody tr th:only-of-type {\n",
       "        vertical-align: middle;\n",
       "    }\n",
       "\n",
       "    .dataframe tbody tr th {\n",
       "        vertical-align: top;\n",
       "    }\n",
       "\n",
       "    .dataframe thead th {\n",
       "        text-align: right;\n",
       "    }\n",
       "</style>\n",
       "<table border=\"1\" class=\"dataframe\">\n",
       "  <thead>\n",
       "    <tr style=\"text-align: right;\">\n",
       "      <th></th>\n",
       "      <th>Predicted_loan_amount</th>\n",
       "      <th>loan_amount</th>\n",
       "    </tr>\n",
       "  </thead>\n",
       "  <tbody>\n",
       "    <tr>\n",
       "      <th>0</th>\n",
       "      <td>11310.0</td>\n",
       "      <td>15000.0</td>\n",
       "    </tr>\n",
       "    <tr>\n",
       "      <th>1</th>\n",
       "      <td>5000.0</td>\n",
       "      <td>5000.0</td>\n",
       "    </tr>\n",
       "    <tr>\n",
       "      <th>2</th>\n",
       "      <td>5157.0</td>\n",
       "      <td>5000.0</td>\n",
       "    </tr>\n",
       "    <tr>\n",
       "      <th>3</th>\n",
       "      <td>8460.0</td>\n",
       "      <td>8000.0</td>\n",
       "    </tr>\n",
       "    <tr>\n",
       "      <th>4</th>\n",
       "      <td>5100.0</td>\n",
       "      <td>5000.0</td>\n",
       "    </tr>\n",
       "    <tr>\n",
       "      <th>5</th>\n",
       "      <td>10000.0</td>\n",
       "      <td>10000.0</td>\n",
       "    </tr>\n",
       "    <tr>\n",
       "      <th>6</th>\n",
       "      <td>10420.0</td>\n",
       "      <td>9000.0</td>\n",
       "    </tr>\n",
       "    <tr>\n",
       "      <th>7</th>\n",
       "      <td>5000.0</td>\n",
       "      <td>5000.0</td>\n",
       "    </tr>\n",
       "    <tr>\n",
       "      <th>8</th>\n",
       "      <td>5105.0</td>\n",
       "      <td>5000.0</td>\n",
       "    </tr>\n",
       "    <tr>\n",
       "      <th>9</th>\n",
       "      <td>5600.0</td>\n",
       "      <td>5000.0</td>\n",
       "    </tr>\n",
       "  </tbody>\n",
       "</table>\n",
       "</div>"
      ],
      "text/plain": [
       "   Predicted_loan_amount  loan_amount\n",
       "0                11310.0      15000.0\n",
       "1                 5000.0       5000.0\n",
       "2                 5157.0       5000.0\n",
       "3                 8460.0       8000.0\n",
       "4                 5100.0       5000.0\n",
       "5                10000.0      10000.0\n",
       "6                10420.0       9000.0\n",
       "7                 5000.0       5000.0\n",
       "8                 5105.0       5000.0\n",
       "9                 5600.0       5000.0"
      ]
     },
     "execution_count": 116,
     "metadata": {},
     "output_type": "execute_result"
    }
   ],
   "source": [
    "rf_merged1 = pd.concat([y_pred_rf1,y_test2],axis=1)\n",
    "rf_merged1.head(10)"
   ]
  },
  {
   "cell_type": "code",
   "execution_count": 117,
   "metadata": {},
   "outputs": [
    {
     "data": {
      "text/plain": [
       "<AxesSubplot:>"
      ]
     },
     "execution_count": 117,
     "metadata": {},
     "output_type": "execute_result"
    },
    {
     "data": {
      "text/plain": [
       "<Figure size 1440x720 with 0 Axes>"
      ]
     },
     "metadata": {},
     "output_type": "display_data"
    },
    {
     "data": {
      "image/png": "[encoded data removed]",
      "text/plain": [
       "<Figure size 432x288 with 1 Axes>"
      ]
     },
     "metadata": {
      "needs_background": "light"
     },
     "output_type": "display_data"
    }
   ],
   "source": [
    "plt.figure(figsize = (20,10))\n",
    "rf_merged1[['loan_amount','Predicted_loan_amount']].plot()"
   ]
  },
  {
   "cell_type": "code",
   "execution_count": 118,
   "metadata": {},
   "outputs": [
    {
     "name": "stdout",
     "output_type": "stream",
     "text": [
      "MAE: 1158.426368864072\n",
      "MSE: 119088068.47170597\n",
      "RMSE: 10912.747979849346\n"
     ]
    }
   ],
   "source": [
    "print('MAE:', MAE(y_test, y_pred_rf1))\n",
    "print('MSE:', MSE(y_test, y_pred_rf1))\n",
    "print('RMSE:', np.sqrt(MSE(y_test, y_pred_rf1)))"
   ]
  },
  {
   "cell_type": "code",
   "execution_count": 119,
   "metadata": {},
   "outputs": [],
   "source": [
    "rf_merged1['error_rate'] = (abs(rf_merged1['loan_amount']-rf_merged1['Predicted_loan_amount'])/rf_merged1['loan_amount'])*100"
   ]
  },
  {
   "cell_type": "code",
   "execution_count": 120,
   "metadata": {},
   "outputs": [
    {
     "data": {
      "text/html": [
       "<div>\n",
       "<style scoped>\n",
       "    .dataframe tbody tr th:only-of-type {\n",
       "        vertical-align: middle;\n",
       "    }\n",
       "\n",
       "    .dataframe tbody tr th {\n",
       "        vertical-align: top;\n",
       "    }\n",
       "\n",
       "    .dataframe thead th {\n",
       "        text-align: right;\n",
       "    }\n",
       "</style>\n",
       "<table border=\"1\" class=\"dataframe\">\n",
       "  <thead>\n",
       "    <tr style=\"text-align: right;\">\n",
       "      <th></th>\n",
       "      <th>Predicted_loan_amount</th>\n",
       "      <th>loan_amount</th>\n",
       "      <th>error_rate</th>\n",
       "    </tr>\n",
       "  </thead>\n",
       "  <tbody>\n",
       "    <tr>\n",
       "      <th>0</th>\n",
       "      <td>11310.0</td>\n",
       "      <td>15000.0</td>\n",
       "      <td>24.60</td>\n",
       "    </tr>\n",
       "    <tr>\n",
       "      <th>1</th>\n",
       "      <td>5000.0</td>\n",
       "      <td>5000.0</td>\n",
       "      <td>0.00</td>\n",
       "    </tr>\n",
       "    <tr>\n",
       "      <th>2</th>\n",
       "      <td>5157.0</td>\n",
       "      <td>5000.0</td>\n",
       "      <td>3.14</td>\n",
       "    </tr>\n",
       "    <tr>\n",
       "      <th>3</th>\n",
       "      <td>8460.0</td>\n",
       "      <td>8000.0</td>\n",
       "      <td>5.75</td>\n",
       "    </tr>\n",
       "    <tr>\n",
       "      <th>4</th>\n",
       "      <td>5100.0</td>\n",
       "      <td>5000.0</td>\n",
       "      <td>2.00</td>\n",
       "    </tr>\n",
       "  </tbody>\n",
       "</table>\n",
       "</div>"
      ],
      "text/plain": [
       "   Predicted_loan_amount  loan_amount  error_rate\n",
       "0                11310.0      15000.0       24.60\n",
       "1                 5000.0       5000.0        0.00\n",
       "2                 5157.0       5000.0        3.14\n",
       "3                 8460.0       8000.0        5.75\n",
       "4                 5100.0       5000.0        2.00"
      ]
     },
     "execution_count": 120,
     "metadata": {},
     "output_type": "execute_result"
    }
   ],
   "source": [
    "rf_merged1.head()"
   ]
  },
  {
   "cell_type": "code",
   "execution_count": 194,
   "metadata": {},
   "outputs": [
    {
     "data": {
      "text/plain": [
       "88.79232415260337"
      ]
     },
     "execution_count": 194,
     "metadata": {},
     "output_type": "execute_result"
    }
   ],
   "source": [
    "#mean error rate\n",
    "rf_mean_error1=rf_merged1.error_rate.mean()\n",
    "#calculating accuracy\n",
    "rf_mean_accuracy1=100-rf_mean_error1\n",
    "rf_mean_accuracy1"
   ]
  },
  {
   "cell_type": "markdown",
   "metadata": {},
   "source": [
    "Using RF regressor, we get 88.79% accuracy rate."
   ]
  },
  {
   "cell_type": "markdown",
   "metadata": {},
   "source": [
    "# Loan Purpose\n",
    "### Since loan purpose is a categorical variable so we need to perform encoding.\n",
    "### Since it has many categories so we can take top 10 most frequent categories."
   ]
  },
  {
   "cell_type": "code",
   "execution_count": 128,
   "metadata": {},
   "outputs": [
    {
     "data": {
      "text/html": [
       "<div>\n",
       "<style scoped>\n",
       "    .dataframe tbody tr th:only-of-type {\n",
       "        vertical-align: middle;\n",
       "    }\n",
       "\n",
       "    .dataframe tbody tr th {\n",
       "        vertical-align: top;\n",
       "    }\n",
       "\n",
       "    .dataframe thead th {\n",
       "        text-align: right;\n",
       "    }\n",
       "</style>\n",
       "<table border=\"1\" class=\"dataframe\">\n",
       "  <thead>\n",
       "    <tr style=\"text-align: right;\">\n",
       "      <th></th>\n",
       "      <th>loan_purpose</th>\n",
       "    </tr>\n",
       "  </thead>\n",
       "  <tbody>\n",
       "    <tr>\n",
       "      <th>0</th>\n",
       "      <td>Apparels</td>\n",
       "    </tr>\n",
       "    <tr>\n",
       "      <th>1</th>\n",
       "      <td>Apparels</td>\n",
       "    </tr>\n",
       "    <tr>\n",
       "      <th>2</th>\n",
       "      <td>Beauty Salon</td>\n",
       "    </tr>\n",
       "    <tr>\n",
       "      <th>3</th>\n",
       "      <td>Apparels</td>\n",
       "    </tr>\n",
       "    <tr>\n",
       "      <th>4</th>\n",
       "      <td>Retail Store</td>\n",
       "    </tr>\n",
       "  </tbody>\n",
       "</table>\n",
       "</div>"
      ],
      "text/plain": [
       "   loan_purpose\n",
       "0      Apparels\n",
       "1      Apparels\n",
       "2  Beauty Salon\n",
       "3      Apparels\n",
       "4  Retail Store"
      ]
     },
     "execution_count": 128,
     "metadata": {},
     "output_type": "execute_result"
    }
   ],
   "source": [
    "df_neww6 = pd.DataFrame(df,columns={\"loan_purpose\"})\n",
    "df_neww6.head()"
   ]
  },
  {
   "cell_type": "code",
   "execution_count": 129,
   "metadata": {},
   "outputs": [
    {
     "data": {
      "text/plain": [
       "loan_purpose\n",
       "Apparels                           7090\n",
       "Agro Based Businesses              4728\n",
       "Animal husbandry                   4421\n",
       "Meat Businesses                    4300\n",
       "Handicrafts                        4230\n",
       "Farming/ Agriculture               3284\n",
       "Education Loan                     2100\n",
       "Retail Store                       1962\n",
       "Eateries                           1831\n",
       "Business Services - II              854\n",
       "Tobacco Related Activities          852\n",
       "Construction Related Activities     661\n",
       "Retail Sale                         614\n",
       "Artifical Jewellry Selling          556\n",
       "Carpentery work                     299\n",
       "Food Items                          285\n",
       "Business Services - I               276\n",
       "Transportation Services             245\n",
       "Flower Business                     238\n",
       "Beauty Salon                        204\n",
       "Repair Services                     192\n",
       "Laundry Services                    162\n",
       "Agarbatti Business                  107\n",
       "Utensil Selling                     104\n",
       "Sanitation                          101\n",
       "Recycling/ Waste Management         100\n",
       "Others                               62\n",
       "Vocational Loans                     40\n",
       "Jewellry Shop                        30\n",
       "Training                             23\n",
       "Miscellaneous                        19\n",
       "Cyber Caf_                            7\n",
       "Tent Services                         6\n",
       "Cable TV Services                     5\n",
       "Professional                          3\n",
       "Tuition Centre                        3\n",
       "Manufacturing                         1\n",
       "Name: loan_purpose, dtype: int64"
      ]
     },
     "execution_count": 129,
     "metadata": {},
     "output_type": "execute_result"
    }
   ],
   "source": [
    "loan_group_value = df.groupby('loan_purpose')['loan_purpose'].count()\n",
    "loan_sorted = loan_group_value.sort_values(ascending = False)\n",
    "loan_sorted"
   ]
  },
  {
   "cell_type": "code",
   "execution_count": 130,
   "metadata": {},
   "outputs": [
    {
     "data": {
      "text/plain": [
       "loan_purpose\n",
       "Apparels                  7090\n",
       "Agro Based Businesses     4728\n",
       "Animal husbandry          4421\n",
       "Meat Businesses           4300\n",
       "Handicrafts               4230\n",
       "Farming/ Agriculture      3284\n",
       "Education Loan            2100\n",
       "Retail Store              1962\n",
       "Eateries                  1831\n",
       "Business Services - II     854\n",
       "Name: loan_purpose, dtype: int64"
      ]
     },
     "execution_count": 130,
     "metadata": {},
     "output_type": "execute_result"
    }
   ],
   "source": [
    "loan_top_10 = loan_sorted[0:10]\n",
    "loan_top_10"
   ]
  },
  {
   "cell_type": "code",
   "execution_count": 131,
   "metadata": {},
   "outputs": [
    {
     "data": {
      "text/plain": [
       "['Apparels',\n",
       " 'Agro Based Businesses',\n",
       " 'Animal husbandry',\n",
       " 'Meat Businesses',\n",
       " 'Handicrafts',\n",
       " 'Farming/ Agriculture',\n",
       " 'Education Loan',\n",
       " 'Retail Store',\n",
       " 'Eateries',\n",
       " 'Business Services - II']"
      ]
     },
     "execution_count": 131,
     "metadata": {},
     "output_type": "execute_result"
    }
   ],
   "source": [
    "loans_10= df_neww6['loan_purpose'].value_counts().sort_values(ascending=False).head(10).index\n",
    "loanss_10=list(loans_10)\n",
    "loanss_10"
   ]
  },
  {
   "cell_type": "code",
   "execution_count": 135,
   "metadata": {},
   "outputs": [
    {
     "data": {
      "text/html": [
       "<div>\n",
       "<style scoped>\n",
       "    .dataframe tbody tr th:only-of-type {\n",
       "        vertical-align: middle;\n",
       "    }\n",
       "\n",
       "    .dataframe tbody tr th {\n",
       "        vertical-align: top;\n",
       "    }\n",
       "\n",
       "    .dataframe thead th {\n",
       "        text-align: right;\n",
       "    }\n",
       "</style>\n",
       "<table border=\"1\" class=\"dataframe\">\n",
       "  <thead>\n",
       "    <tr style=\"text-align: right;\">\n",
       "      <th></th>\n",
       "      <th>loan_purpose</th>\n",
       "      <th>Apparels</th>\n",
       "      <th>Agro Based Businesses</th>\n",
       "      <th>Animal husbandry</th>\n",
       "      <th>Meat Businesses</th>\n",
       "      <th>Handicrafts</th>\n",
       "      <th>Farming/ Agriculture</th>\n",
       "      <th>Education Loan</th>\n",
       "      <th>Retail Store</th>\n",
       "      <th>Eateries</th>\n",
       "      <th>Business Services - II</th>\n",
       "    </tr>\n",
       "  </thead>\n",
       "  <tbody>\n",
       "    <tr>\n",
       "      <th>0</th>\n",
       "      <td>Apparels</td>\n",
       "      <td>1</td>\n",
       "      <td>0</td>\n",
       "      <td>0</td>\n",
       "      <td>0</td>\n",
       "      <td>0</td>\n",
       "      <td>0</td>\n",
       "      <td>0</td>\n",
       "      <td>0</td>\n",
       "      <td>0</td>\n",
       "      <td>0</td>\n",
       "    </tr>\n",
       "    <tr>\n",
       "      <th>1</th>\n",
       "      <td>Apparels</td>\n",
       "      <td>1</td>\n",
       "      <td>0</td>\n",
       "      <td>0</td>\n",
       "      <td>0</td>\n",
       "      <td>0</td>\n",
       "      <td>0</td>\n",
       "      <td>0</td>\n",
       "      <td>0</td>\n",
       "      <td>0</td>\n",
       "      <td>0</td>\n",
       "    </tr>\n",
       "    <tr>\n",
       "      <th>2</th>\n",
       "      <td>Beauty Salon</td>\n",
       "      <td>0</td>\n",
       "      <td>0</td>\n",
       "      <td>0</td>\n",
       "      <td>0</td>\n",
       "      <td>0</td>\n",
       "      <td>0</td>\n",
       "      <td>0</td>\n",
       "      <td>0</td>\n",
       "      <td>0</td>\n",
       "      <td>0</td>\n",
       "    </tr>\n",
       "    <tr>\n",
       "      <th>3</th>\n",
       "      <td>Apparels</td>\n",
       "      <td>1</td>\n",
       "      <td>0</td>\n",
       "      <td>0</td>\n",
       "      <td>0</td>\n",
       "      <td>0</td>\n",
       "      <td>0</td>\n",
       "      <td>0</td>\n",
       "      <td>0</td>\n",
       "      <td>0</td>\n",
       "      <td>0</td>\n",
       "    </tr>\n",
       "    <tr>\n",
       "      <th>4</th>\n",
       "      <td>Retail Store</td>\n",
       "      <td>0</td>\n",
       "      <td>0</td>\n",
       "      <td>0</td>\n",
       "      <td>0</td>\n",
       "      <td>0</td>\n",
       "      <td>0</td>\n",
       "      <td>0</td>\n",
       "      <td>1</td>\n",
       "      <td>0</td>\n",
       "      <td>0</td>\n",
       "    </tr>\n",
       "  </tbody>\n",
       "</table>\n",
       "</div>"
      ],
      "text/plain": [
       "   loan_purpose  Apparels  Agro Based Businesses  Animal husbandry  \\\n",
       "0      Apparels         1                      0                 0   \n",
       "1      Apparels         1                      0                 0   \n",
       "2  Beauty Salon         0                      0                 0   \n",
       "3      Apparels         1                      0                 0   \n",
       "4  Retail Store         0                      0                 0   \n",
       "\n",
       "   Meat Businesses  Handicrafts  Farming/ Agriculture  Education Loan  \\\n",
       "0                0            0                     0               0   \n",
       "1                0            0                     0               0   \n",
       "2                0            0                     0               0   \n",
       "3                0            0                     0               0   \n",
       "4                0            0                     0               0   \n",
       "\n",
       "   Retail Store  Eateries  Business Services - II  \n",
       "0             0         0                       0  \n",
       "1             0         0                       0  \n",
       "2             0         0                       0  \n",
       "3             0         0                       0  \n",
       "4             1         0                       0  "
      ]
     },
     "execution_count": 135,
     "metadata": {},
     "output_type": "execute_result"
    }
   ],
   "source": [
    "for categories in loanss_10:\n",
    "    df_neww6[categories]=np.where(df_neww6['loan_purpose']==categories,1,0)\n",
    "df_neww6.head()\n"
   ]
  },
  {
   "cell_type": "code",
   "execution_count": 136,
   "metadata": {},
   "outputs": [
    {
     "data": {
      "text/html": [
       "<div>\n",
       "<style scoped>\n",
       "    .dataframe tbody tr th:only-of-type {\n",
       "        vertical-align: middle;\n",
       "    }\n",
       "\n",
       "    .dataframe tbody tr th {\n",
       "        vertical-align: top;\n",
       "    }\n",
       "\n",
       "    .dataframe thead th {\n",
       "        text-align: right;\n",
       "    }\n",
       "</style>\n",
       "<table border=\"1\" class=\"dataframe\">\n",
       "  <thead>\n",
       "    <tr style=\"text-align: right;\">\n",
       "      <th></th>\n",
       "      <th>loan_purposeloann</th>\n",
       "      <th>Apparelsloann</th>\n",
       "      <th>Agro Based Businessesloann</th>\n",
       "      <th>Animal husbandryloann</th>\n",
       "      <th>Meat Businessesloann</th>\n",
       "      <th>Handicraftsloann</th>\n",
       "      <th>Farming/ Agricultureloann</th>\n",
       "      <th>Education Loanloann</th>\n",
       "      <th>Retail Storeloann</th>\n",
       "      <th>Eateriesloann</th>\n",
       "      <th>Business Services - IIloann</th>\n",
       "    </tr>\n",
       "  </thead>\n",
       "  <tbody>\n",
       "    <tr>\n",
       "      <th>0</th>\n",
       "      <td>Apparels</td>\n",
       "      <td>1</td>\n",
       "      <td>0</td>\n",
       "      <td>0</td>\n",
       "      <td>0</td>\n",
       "      <td>0</td>\n",
       "      <td>0</td>\n",
       "      <td>0</td>\n",
       "      <td>0</td>\n",
       "      <td>0</td>\n",
       "      <td>0</td>\n",
       "    </tr>\n",
       "    <tr>\n",
       "      <th>1</th>\n",
       "      <td>Apparels</td>\n",
       "      <td>1</td>\n",
       "      <td>0</td>\n",
       "      <td>0</td>\n",
       "      <td>0</td>\n",
       "      <td>0</td>\n",
       "      <td>0</td>\n",
       "      <td>0</td>\n",
       "      <td>0</td>\n",
       "      <td>0</td>\n",
       "      <td>0</td>\n",
       "    </tr>\n",
       "    <tr>\n",
       "      <th>2</th>\n",
       "      <td>Beauty Salon</td>\n",
       "      <td>0</td>\n",
       "      <td>0</td>\n",
       "      <td>0</td>\n",
       "      <td>0</td>\n",
       "      <td>0</td>\n",
       "      <td>0</td>\n",
       "      <td>0</td>\n",
       "      <td>0</td>\n",
       "      <td>0</td>\n",
       "      <td>0</td>\n",
       "    </tr>\n",
       "    <tr>\n",
       "      <th>3</th>\n",
       "      <td>Apparels</td>\n",
       "      <td>1</td>\n",
       "      <td>0</td>\n",
       "      <td>0</td>\n",
       "      <td>0</td>\n",
       "      <td>0</td>\n",
       "      <td>0</td>\n",
       "      <td>0</td>\n",
       "      <td>0</td>\n",
       "      <td>0</td>\n",
       "      <td>0</td>\n",
       "    </tr>\n",
       "    <tr>\n",
       "      <th>4</th>\n",
       "      <td>Retail Store</td>\n",
       "      <td>0</td>\n",
       "      <td>0</td>\n",
       "      <td>0</td>\n",
       "      <td>0</td>\n",
       "      <td>0</td>\n",
       "      <td>0</td>\n",
       "      <td>0</td>\n",
       "      <td>1</td>\n",
       "      <td>0</td>\n",
       "      <td>0</td>\n",
       "    </tr>\n",
       "  </tbody>\n",
       "</table>\n",
       "</div>"
      ],
      "text/plain": [
       "  loan_purposeloann  Apparelsloann  Agro Based Businessesloann  \\\n",
       "0          Apparels              1                           0   \n",
       "1          Apparels              1                           0   \n",
       "2      Beauty Salon              0                           0   \n",
       "3          Apparels              1                           0   \n",
       "4      Retail Store              0                           0   \n",
       "\n",
       "   Animal husbandryloann  Meat Businessesloann  Handicraftsloann  \\\n",
       "0                      0                     0                 0   \n",
       "1                      0                     0                 0   \n",
       "2                      0                     0                 0   \n",
       "3                      0                     0                 0   \n",
       "4                      0                     0                 0   \n",
       "\n",
       "   Farming/ Agricultureloann  Education Loanloann  Retail Storeloann  \\\n",
       "0                          0                    0                  0   \n",
       "1                          0                    0                  0   \n",
       "2                          0                    0                  0   \n",
       "3                          0                    0                  0   \n",
       "4                          0                    0                  1   \n",
       "\n",
       "   Eateriesloann  Business Services - IIloann  \n",
       "0              0                            0  \n",
       "1              0                            0  \n",
       "2              0                            0  \n",
       "3              0                            0  \n",
       "4              0                            0  "
      ]
     },
     "execution_count": 136,
     "metadata": {},
     "output_type": "execute_result"
    }
   ],
   "source": [
    "df_loan_1 = df_neww6.add_suffix('loann')\n",
    "df_loan_1.head()"
   ]
  },
  {
   "cell_type": "code",
   "execution_count": 139,
   "metadata": {},
   "outputs": [],
   "source": [
    "df_loan_new = df_loan_1.drop(['loan_purposeloann'], axis =1)"
   ]
  },
  {
   "cell_type": "code",
   "execution_count": 140,
   "metadata": {},
   "outputs": [
    {
     "data": {
      "text/html": [
       "<div>\n",
       "<style scoped>\n",
       "    .dataframe tbody tr th:only-of-type {\n",
       "        vertical-align: middle;\n",
       "    }\n",
       "\n",
       "    .dataframe tbody tr th {\n",
       "        vertical-align: top;\n",
       "    }\n",
       "\n",
       "    .dataframe thead th {\n",
       "        text-align: right;\n",
       "    }\n",
       "</style>\n",
       "<table border=\"1\" class=\"dataframe\">\n",
       "  <thead>\n",
       "    <tr style=\"text-align: right;\">\n",
       "      <th></th>\n",
       "      <th>Apparelsloann</th>\n",
       "      <th>Agro Based Businessesloann</th>\n",
       "      <th>Animal husbandryloann</th>\n",
       "      <th>Meat Businessesloann</th>\n",
       "      <th>Handicraftsloann</th>\n",
       "      <th>Farming/ Agricultureloann</th>\n",
       "      <th>Education Loanloann</th>\n",
       "      <th>Retail Storeloann</th>\n",
       "      <th>Eateriesloann</th>\n",
       "      <th>Business Services - IIloann</th>\n",
       "    </tr>\n",
       "  </thead>\n",
       "  <tbody>\n",
       "    <tr>\n",
       "      <th>0</th>\n",
       "      <td>1</td>\n",
       "      <td>0</td>\n",
       "      <td>0</td>\n",
       "      <td>0</td>\n",
       "      <td>0</td>\n",
       "      <td>0</td>\n",
       "      <td>0</td>\n",
       "      <td>0</td>\n",
       "      <td>0</td>\n",
       "      <td>0</td>\n",
       "    </tr>\n",
       "    <tr>\n",
       "      <th>1</th>\n",
       "      <td>1</td>\n",
       "      <td>0</td>\n",
       "      <td>0</td>\n",
       "      <td>0</td>\n",
       "      <td>0</td>\n",
       "      <td>0</td>\n",
       "      <td>0</td>\n",
       "      <td>0</td>\n",
       "      <td>0</td>\n",
       "      <td>0</td>\n",
       "    </tr>\n",
       "    <tr>\n",
       "      <th>2</th>\n",
       "      <td>0</td>\n",
       "      <td>0</td>\n",
       "      <td>0</td>\n",
       "      <td>0</td>\n",
       "      <td>0</td>\n",
       "      <td>0</td>\n",
       "      <td>0</td>\n",
       "      <td>0</td>\n",
       "      <td>0</td>\n",
       "      <td>0</td>\n",
       "    </tr>\n",
       "    <tr>\n",
       "      <th>3</th>\n",
       "      <td>1</td>\n",
       "      <td>0</td>\n",
       "      <td>0</td>\n",
       "      <td>0</td>\n",
       "      <td>0</td>\n",
       "      <td>0</td>\n",
       "      <td>0</td>\n",
       "      <td>0</td>\n",
       "      <td>0</td>\n",
       "      <td>0</td>\n",
       "    </tr>\n",
       "    <tr>\n",
       "      <th>4</th>\n",
       "      <td>0</td>\n",
       "      <td>0</td>\n",
       "      <td>0</td>\n",
       "      <td>0</td>\n",
       "      <td>0</td>\n",
       "      <td>0</td>\n",
       "      <td>0</td>\n",
       "      <td>1</td>\n",
       "      <td>0</td>\n",
       "      <td>0</td>\n",
       "    </tr>\n",
       "  </tbody>\n",
       "</table>\n",
       "</div>"
      ],
      "text/plain": [
       "   Apparelsloann  Agro Based Businessesloann  Animal husbandryloann  \\\n",
       "0              1                           0                      0   \n",
       "1              1                           0                      0   \n",
       "2              0                           0                      0   \n",
       "3              1                           0                      0   \n",
       "4              0                           0                      0   \n",
       "\n",
       "   Meat Businessesloann  Handicraftsloann  Farming/ Agricultureloann  \\\n",
       "0                     0                 0                          0   \n",
       "1                     0                 0                          0   \n",
       "2                     0                 0                          0   \n",
       "3                     0                 0                          0   \n",
       "4                     0                 0                          0   \n",
       "\n",
       "   Education Loanloann  Retail Storeloann  Eateriesloann  \\\n",
       "0                    0                  0              0   \n",
       "1                    0                  0              0   \n",
       "2                    0                  0              0   \n",
       "3                    0                  0              0   \n",
       "4                    0                  1              0   \n",
       "\n",
       "   Business Services - IIloann  \n",
       "0                            0  \n",
       "1                            0  \n",
       "2                            0  \n",
       "3                            0  \n",
       "4                            0  "
      ]
     },
     "execution_count": 140,
     "metadata": {},
     "output_type": "execute_result"
    }
   ],
   "source": [
    "df_loan_new.head()"
   ]
  },
  {
   "cell_type": "code",
   "execution_count": 141,
   "metadata": {},
   "outputs": [
    {
     "data": {
      "text/html": [
       "<div>\n",
       "<style scoped>\n",
       "    .dataframe tbody tr th:only-of-type {\n",
       "        vertical-align: middle;\n",
       "    }\n",
       "\n",
       "    .dataframe tbody tr th {\n",
       "        vertical-align: top;\n",
       "    }\n",
       "\n",
       "    .dataframe thead th {\n",
       "        text-align: right;\n",
       "    }\n",
       "</style>\n",
       "<table border=\"1\" class=\"dataframe\">\n",
       "  <thead>\n",
       "    <tr style=\"text-align: right;\">\n",
       "      <th></th>\n",
       "      <th>type_of_house_T1</th>\n",
       "      <th>type_of_house_T2</th>\n",
       "      <th>sex_M</th>\n",
       "      <th>secondary_business_YES</th>\n",
       "      <th>old_dependents</th>\n",
       "      <th>loan_tenure</th>\n",
       "      <th>young_dependents</th>\n",
       "      <th>annual_income</th>\n",
       "      <th>age</th>\n",
       "      <th>loan_installments</th>\n",
       "      <th>occupants_count</th>\n",
       "      <th>house_area</th>\n",
       "      <th>Id</th>\n",
       "      <th>home_ownership</th>\n",
       "      <th>monthly_expenses</th>\n",
       "      <th>Apparelsloann</th>\n",
       "      <th>Agro Based Businessesloann</th>\n",
       "      <th>Animal husbandryloann</th>\n",
       "      <th>Meat Businessesloann</th>\n",
       "      <th>Handicraftsloann</th>\n",
       "      <th>Farming/ Agricultureloann</th>\n",
       "      <th>Education Loanloann</th>\n",
       "      <th>Retail Storeloann</th>\n",
       "      <th>Eateriesloann</th>\n",
       "      <th>Business Services - IIloann</th>\n",
       "    </tr>\n",
       "  </thead>\n",
       "  <tbody>\n",
       "    <tr>\n",
       "      <th>0</th>\n",
       "      <td>0</td>\n",
       "      <td>0</td>\n",
       "      <td>0</td>\n",
       "      <td>1</td>\n",
       "      <td>0</td>\n",
       "      <td>12</td>\n",
       "      <td>2</td>\n",
       "      <td>36000.0</td>\n",
       "      <td>22</td>\n",
       "      <td>12</td>\n",
       "      <td>4</td>\n",
       "      <td>70.0</td>\n",
       "      <td>1</td>\n",
       "      <td>1.0</td>\n",
       "      <td>5000.0</td>\n",
       "      <td>1</td>\n",
       "      <td>0</td>\n",
       "      <td>0</td>\n",
       "      <td>0</td>\n",
       "      <td>0</td>\n",
       "      <td>0</td>\n",
       "      <td>0</td>\n",
       "      <td>0</td>\n",
       "      <td>0</td>\n",
       "      <td>0</td>\n",
       "    </tr>\n",
       "    <tr>\n",
       "      <th>1</th>\n",
       "      <td>1</td>\n",
       "      <td>0</td>\n",
       "      <td>0</td>\n",
       "      <td>0</td>\n",
       "      <td>1</td>\n",
       "      <td>12</td>\n",
       "      <td>1</td>\n",
       "      <td>94000.0</td>\n",
       "      <td>21</td>\n",
       "      <td>50</td>\n",
       "      <td>4</td>\n",
       "      <td>80.0</td>\n",
       "      <td>2</td>\n",
       "      <td>1.0</td>\n",
       "      <td>3600.0</td>\n",
       "      <td>1</td>\n",
       "      <td>0</td>\n",
       "      <td>0</td>\n",
       "      <td>0</td>\n",
       "      <td>0</td>\n",
       "      <td>0</td>\n",
       "      <td>0</td>\n",
       "      <td>0</td>\n",
       "      <td>0</td>\n",
       "      <td>0</td>\n",
       "    </tr>\n",
       "    <tr>\n",
       "      <th>2</th>\n",
       "      <td>1</td>\n",
       "      <td>0</td>\n",
       "      <td>1</td>\n",
       "      <td>1</td>\n",
       "      <td>0</td>\n",
       "      <td>12</td>\n",
       "      <td>2</td>\n",
       "      <td>48000.0</td>\n",
       "      <td>24</td>\n",
       "      <td>12</td>\n",
       "      <td>4</td>\n",
       "      <td>50.0</td>\n",
       "      <td>3</td>\n",
       "      <td>1.0</td>\n",
       "      <td>4000.0</td>\n",
       "      <td>0</td>\n",
       "      <td>0</td>\n",
       "      <td>0</td>\n",
       "      <td>0</td>\n",
       "      <td>0</td>\n",
       "      <td>0</td>\n",
       "      <td>0</td>\n",
       "      <td>0</td>\n",
       "      <td>0</td>\n",
       "      <td>0</td>\n",
       "    </tr>\n",
       "    <tr>\n",
       "      <th>3</th>\n",
       "      <td>1</td>\n",
       "      <td>0</td>\n",
       "      <td>0</td>\n",
       "      <td>0</td>\n",
       "      <td>0</td>\n",
       "      <td>12</td>\n",
       "      <td>2</td>\n",
       "      <td>7000.0</td>\n",
       "      <td>26</td>\n",
       "      <td>50</td>\n",
       "      <td>5</td>\n",
       "      <td>50.0</td>\n",
       "      <td>4</td>\n",
       "      <td>1.0</td>\n",
       "      <td>5000.0</td>\n",
       "      <td>1</td>\n",
       "      <td>0</td>\n",
       "      <td>0</td>\n",
       "      <td>0</td>\n",
       "      <td>0</td>\n",
       "      <td>0</td>\n",
       "      <td>0</td>\n",
       "      <td>0</td>\n",
       "      <td>0</td>\n",
       "      <td>0</td>\n",
       "    </tr>\n",
       "    <tr>\n",
       "      <th>4</th>\n",
       "      <td>1</td>\n",
       "      <td>0</td>\n",
       "      <td>0</td>\n",
       "      <td>1</td>\n",
       "      <td>0</td>\n",
       "      <td>12</td>\n",
       "      <td>0</td>\n",
       "      <td>36000.0</td>\n",
       "      <td>23</td>\n",
       "      <td>12</td>\n",
       "      <td>1</td>\n",
       "      <td>112.0</td>\n",
       "      <td>5</td>\n",
       "      <td>1.0</td>\n",
       "      <td>3500.0</td>\n",
       "      <td>0</td>\n",
       "      <td>0</td>\n",
       "      <td>0</td>\n",
       "      <td>0</td>\n",
       "      <td>0</td>\n",
       "      <td>0</td>\n",
       "      <td>0</td>\n",
       "      <td>1</td>\n",
       "      <td>0</td>\n",
       "      <td>0</td>\n",
       "    </tr>\n",
       "  </tbody>\n",
       "</table>\n",
       "</div>"
      ],
      "text/plain": [
       "   type_of_house_T1  type_of_house_T2  sex_M  secondary_business_YES  \\\n",
       "0                 0                 0      0                       1   \n",
       "1                 1                 0      0                       0   \n",
       "2                 1                 0      1                       1   \n",
       "3                 1                 0      0                       0   \n",
       "4                 1                 0      0                       1   \n",
       "\n",
       "   old_dependents  loan_tenure  young_dependents  annual_income  age  \\\n",
       "0               0           12                 2        36000.0   22   \n",
       "1               1           12                 1        94000.0   21   \n",
       "2               0           12                 2        48000.0   24   \n",
       "3               0           12                 2         7000.0   26   \n",
       "4               0           12                 0        36000.0   23   \n",
       "\n",
       "   loan_installments  occupants_count  house_area  Id  home_ownership  \\\n",
       "0                 12                4        70.0   1             1.0   \n",
       "1                 50                4        80.0   2             1.0   \n",
       "2                 12                4        50.0   3             1.0   \n",
       "3                 50                5        50.0   4             1.0   \n",
       "4                 12                1       112.0   5             1.0   \n",
       "\n",
       "   monthly_expenses  Apparelsloann  Agro Based Businessesloann  \\\n",
       "0            5000.0              1                           0   \n",
       "1            3600.0              1                           0   \n",
       "2            4000.0              0                           0   \n",
       "3            5000.0              1                           0   \n",
       "4            3500.0              0                           0   \n",
       "\n",
       "   Animal husbandryloann  Meat Businessesloann  Handicraftsloann  \\\n",
       "0                      0                     0                 0   \n",
       "1                      0                     0                 0   \n",
       "2                      0                     0                 0   \n",
       "3                      0                     0                 0   \n",
       "4                      0                     0                 0   \n",
       "\n",
       "   Farming/ Agricultureloann  Education Loanloann  Retail Storeloann  \\\n",
       "0                          0                    0                  0   \n",
       "1                          0                    0                  0   \n",
       "2                          0                    0                  0   \n",
       "3                          0                    0                  0   \n",
       "4                          0                    0                  1   \n",
       "\n",
       "   Eateriesloann  Business Services - IIloann  \n",
       "0              0                            0  \n",
       "1              0                            0  \n",
       "2              0                            0  \n",
       "3              0                            0  \n",
       "4              0                            0  "
      ]
     },
     "execution_count": 141,
     "metadata": {},
     "output_type": "execute_result"
    }
   ],
   "source": [
    "X121=pd.concat([X, df_loan_new],axis=1)\n",
    "X121.head()"
   ]
  },
  {
   "cell_type": "code",
   "execution_count": 142,
   "metadata": {},
   "outputs": [],
   "source": [
    "from sklearn.model_selection import train_test_split\n",
    "SEED = 1\n",
    "X4_train, X4_test, y_train, y_test = train_test_split(X121, y, test_size=0.3, random_state= SEED)"
   ]
  },
  {
   "cell_type": "markdown",
   "metadata": {},
   "source": [
    "# LINEAR REGRESSION"
   ]
  },
  {
   "cell_type": "code",
   "execution_count": 144,
   "metadata": {},
   "outputs": [
    {
     "data": {
      "text/plain": [
       "LinearRegression()"
      ]
     },
     "execution_count": 144,
     "metadata": {},
     "output_type": "execute_result"
    }
   ],
   "source": [
    "lm4=LinearRegression()\n",
    "lm4.fit(X4_train,y_train)"
   ]
  },
  {
   "cell_type": "code",
   "execution_count": 146,
   "metadata": {},
   "outputs": [],
   "source": [
    "y_pred_lm4=lm4.predict(X4_test)"
   ]
  },
  {
   "cell_type": "code",
   "execution_count": 148,
   "metadata": {},
   "outputs": [
    {
     "data": {
      "text/html": [
       "<div>\n",
       "<style scoped>\n",
       "    .dataframe tbody tr th:only-of-type {\n",
       "        vertical-align: middle;\n",
       "    }\n",
       "\n",
       "    .dataframe tbody tr th {\n",
       "        vertical-align: top;\n",
       "    }\n",
       "\n",
       "    .dataframe thead th {\n",
       "        text-align: right;\n",
       "    }\n",
       "</style>\n",
       "<table border=\"1\" class=\"dataframe\">\n",
       "  <thead>\n",
       "    <tr style=\"text-align: right;\">\n",
       "      <th></th>\n",
       "      <th>Predicted_loan_amount</th>\n",
       "    </tr>\n",
       "  </thead>\n",
       "  <tbody>\n",
       "    <tr>\n",
       "      <th>0</th>\n",
       "      <td>8996.838000</td>\n",
       "    </tr>\n",
       "    <tr>\n",
       "      <th>1</th>\n",
       "      <td>4419.574694</td>\n",
       "    </tr>\n",
       "    <tr>\n",
       "      <th>2</th>\n",
       "      <td>6470.409259</td>\n",
       "    </tr>\n",
       "    <tr>\n",
       "      <th>3</th>\n",
       "      <td>11691.351941</td>\n",
       "    </tr>\n",
       "    <tr>\n",
       "      <th>4</th>\n",
       "      <td>6560.952298</td>\n",
       "    </tr>\n",
       "  </tbody>\n",
       "</table>\n",
       "</div>"
      ],
      "text/plain": [
       "   Predicted_loan_amount\n",
       "0            8996.838000\n",
       "1            4419.574694\n",
       "2            6470.409259\n",
       "3           11691.351941\n",
       "4            6560.952298"
      ]
     },
     "execution_count": 148,
     "metadata": {},
     "output_type": "execute_result"
    }
   ],
   "source": [
    "y_pred_lm4 = pd.DataFrame(y_pred_lm4,columns={\"Predicted_loan_amount\"})\n",
    "y_pred_lm4.head()"
   ]
  },
  {
   "cell_type": "code",
   "execution_count": 150,
   "metadata": {},
   "outputs": [
    {
     "data": {
      "text/html": [
       "<div>\n",
       "<style scoped>\n",
       "    .dataframe tbody tr th:only-of-type {\n",
       "        vertical-align: middle;\n",
       "    }\n",
       "\n",
       "    .dataframe tbody tr th {\n",
       "        vertical-align: top;\n",
       "    }\n",
       "\n",
       "    .dataframe thead th {\n",
       "        text-align: right;\n",
       "    }\n",
       "</style>\n",
       "<table border=\"1\" class=\"dataframe\">\n",
       "  <thead>\n",
       "    <tr style=\"text-align: right;\">\n",
       "      <th></th>\n",
       "      <th>Predicted_loan_amount</th>\n",
       "      <th>loan_amount</th>\n",
       "    </tr>\n",
       "  </thead>\n",
       "  <tbody>\n",
       "    <tr>\n",
       "      <th>0</th>\n",
       "      <td>8996.838000</td>\n",
       "      <td>15000.0</td>\n",
       "    </tr>\n",
       "    <tr>\n",
       "      <th>1</th>\n",
       "      <td>4419.574694</td>\n",
       "      <td>5000.0</td>\n",
       "    </tr>\n",
       "    <tr>\n",
       "      <th>2</th>\n",
       "      <td>6470.409259</td>\n",
       "      <td>5000.0</td>\n",
       "    </tr>\n",
       "    <tr>\n",
       "      <th>3</th>\n",
       "      <td>11691.351941</td>\n",
       "      <td>8000.0</td>\n",
       "    </tr>\n",
       "    <tr>\n",
       "      <th>4</th>\n",
       "      <td>6560.952298</td>\n",
       "      <td>5000.0</td>\n",
       "    </tr>\n",
       "    <tr>\n",
       "      <th>5</th>\n",
       "      <td>9515.919670</td>\n",
       "      <td>10000.0</td>\n",
       "    </tr>\n",
       "    <tr>\n",
       "      <th>6</th>\n",
       "      <td>10605.792418</td>\n",
       "      <td>9000.0</td>\n",
       "    </tr>\n",
       "    <tr>\n",
       "      <th>7</th>\n",
       "      <td>6859.744911</td>\n",
       "      <td>5000.0</td>\n",
       "    </tr>\n",
       "    <tr>\n",
       "      <th>8</th>\n",
       "      <td>6743.826381</td>\n",
       "      <td>5000.0</td>\n",
       "    </tr>\n",
       "    <tr>\n",
       "      <th>9</th>\n",
       "      <td>6413.711887</td>\n",
       "      <td>5000.0</td>\n",
       "    </tr>\n",
       "  </tbody>\n",
       "</table>\n",
       "</div>"
      ],
      "text/plain": [
       "   Predicted_loan_amount  loan_amount\n",
       "0            8996.838000      15000.0\n",
       "1            4419.574694       5000.0\n",
       "2            6470.409259       5000.0\n",
       "3           11691.351941       8000.0\n",
       "4            6560.952298       5000.0\n",
       "5            9515.919670      10000.0\n",
       "6           10605.792418       9000.0\n",
       "7            6859.744911       5000.0\n",
       "8            6743.826381       5000.0\n",
       "9            6413.711887       5000.0"
      ]
     },
     "execution_count": 150,
     "metadata": {},
     "output_type": "execute_result"
    }
   ],
   "source": [
    "lm_merged4 = pd.concat([y_pred_lm4,y_test2],axis=1)\n",
    "lm_merged4.head(10)"
   ]
  },
  {
   "cell_type": "code",
   "execution_count": 152,
   "metadata": {},
   "outputs": [
    {
     "data": {
      "text/plain": [
       "<AxesSubplot:>"
      ]
     },
     "execution_count": 152,
     "metadata": {},
     "output_type": "execute_result"
    },
    {
     "data": {
      "text/plain": [
       "<Figure size 1440x720 with 0 Axes>"
      ]
     },
     "metadata": {},
     "output_type": "display_data"
    },
    {
     "data": {
      "image/png": "[encoded data removed]",
      "text/plain": [
       "<Figure size 432x288 with 1 Axes>"
      ]
     },
     "metadata": {
      "needs_background": "light"
     },
     "output_type": "display_data"
    }
   ],
   "source": [
    "plt.figure(figsize = (20,10))\n",
    "lm_merged4[['loan_amount','Predicted_loan_amount']].plot()"
   ]
  },
  {
   "cell_type": "code",
   "execution_count": 154,
   "metadata": {},
   "outputs": [
    {
     "name": "stdout",
     "output_type": "stream",
     "text": [
      "MAE: 2675.1744727999862\n",
      "MSE: 2727517920.375749\n",
      "RMSE: 52225.644279182896\n",
      "R2 Score: -29.27901822119971\n"
     ]
    }
   ],
   "source": [
    "print('MAE:', MAE(y_test, y_pred_lm4))\n",
    "print('MSE:', MSE(y_test, y_pred_lm4))\n",
    "print('RMSE:', np.sqrt(MSE(y_test, y_pred_lm4)))\n",
    "print('R2 Score:', r2_score(y_test, y_pred_lm4))"
   ]
  },
  {
   "cell_type": "code",
   "execution_count": 156,
   "metadata": {},
   "outputs": [],
   "source": [
    "lm_merged4['error_rate'] = (abs(lm_merged4['loan_amount']-lm_merged4['Predicted_loan_amount'])/lm_merged4['loan_amount'])*100"
   ]
  },
  {
   "cell_type": "code",
   "execution_count": 158,
   "metadata": {},
   "outputs": [
    {
     "data": {
      "text/html": [
       "<div>\n",
       "<style scoped>\n",
       "    .dataframe tbody tr th:only-of-type {\n",
       "        vertical-align: middle;\n",
       "    }\n",
       "\n",
       "    .dataframe tbody tr th {\n",
       "        vertical-align: top;\n",
       "    }\n",
       "\n",
       "    .dataframe thead th {\n",
       "        text-align: right;\n",
       "    }\n",
       "</style>\n",
       "<table border=\"1\" class=\"dataframe\">\n",
       "  <thead>\n",
       "    <tr style=\"text-align: right;\">\n",
       "      <th></th>\n",
       "      <th>Predicted_loan_amount</th>\n",
       "      <th>loan_amount</th>\n",
       "      <th>error_rate</th>\n",
       "    </tr>\n",
       "  </thead>\n",
       "  <tbody>\n",
       "    <tr>\n",
       "      <th>0</th>\n",
       "      <td>8996.838000</td>\n",
       "      <td>15000.0</td>\n",
       "      <td>40.021080</td>\n",
       "    </tr>\n",
       "    <tr>\n",
       "      <th>1</th>\n",
       "      <td>4419.574694</td>\n",
       "      <td>5000.0</td>\n",
       "      <td>11.608506</td>\n",
       "    </tr>\n",
       "    <tr>\n",
       "      <th>2</th>\n",
       "      <td>6470.409259</td>\n",
       "      <td>5000.0</td>\n",
       "      <td>29.408185</td>\n",
       "    </tr>\n",
       "    <tr>\n",
       "      <th>3</th>\n",
       "      <td>11691.351941</td>\n",
       "      <td>8000.0</td>\n",
       "      <td>46.141899</td>\n",
       "    </tr>\n",
       "    <tr>\n",
       "      <th>4</th>\n",
       "      <td>6560.952298</td>\n",
       "      <td>5000.0</td>\n",
       "      <td>31.219046</td>\n",
       "    </tr>\n",
       "  </tbody>\n",
       "</table>\n",
       "</div>"
      ],
      "text/plain": [
       "   Predicted_loan_amount  loan_amount  error_rate\n",
       "0            8996.838000      15000.0   40.021080\n",
       "1            4419.574694       5000.0   11.608506\n",
       "2            6470.409259       5000.0   29.408185\n",
       "3           11691.351941       8000.0   46.141899\n",
       "4            6560.952298       5000.0   31.219046"
      ]
     },
     "execution_count": 158,
     "metadata": {},
     "output_type": "execute_result"
    }
   ],
   "source": [
    "lm_merged4.head()"
   ]
  },
  {
   "cell_type": "code",
   "execution_count": 159,
   "metadata": {},
   "outputs": [
    {
     "data": {
      "text/plain": [
       "65.89933115318003"
      ]
     },
     "execution_count": 159,
     "metadata": {},
     "output_type": "execute_result"
    }
   ],
   "source": [
    "#mean error rate\n",
    "lm_mean_error4=lm_merged4.error_rate.mean()\n",
    "#calculating accuracy\n",
    "lm_mean_accuracy4=100-lm_mean_error4\n",
    "lm_mean_accuracy4"
   ]
  },
  {
   "cell_type": "markdown",
   "metadata": {},
   "source": [
    "Using LR, we get 65.8% accuracy"
   ]
  },
  {
   "cell_type": "markdown",
   "metadata": {},
   "source": [
    "# DECISION TREE REGRESSOR"
   ]
  },
  {
   "cell_type": "code",
   "execution_count": 162,
   "metadata": {},
   "outputs": [
    {
     "data": {
      "text/plain": [
       "DecisionTreeRegressor()"
      ]
     },
     "execution_count": 162,
     "metadata": {},
     "output_type": "execute_result"
    }
   ],
   "source": [
    "dt4=DecisionTreeRegressor()\n",
    "dt4.fit(X4_train,y_train)"
   ]
  },
  {
   "cell_type": "code",
   "execution_count": 164,
   "metadata": {},
   "outputs": [],
   "source": [
    "y_pred_dt4=dt4.predict(X4_test)"
   ]
  },
  {
   "cell_type": "code",
   "execution_count": 166,
   "metadata": {},
   "outputs": [
    {
     "data": {
      "text/html": [
       "<div>\n",
       "<style scoped>\n",
       "    .dataframe tbody tr th:only-of-type {\n",
       "        vertical-align: middle;\n",
       "    }\n",
       "\n",
       "    .dataframe tbody tr th {\n",
       "        vertical-align: top;\n",
       "    }\n",
       "\n",
       "    .dataframe thead th {\n",
       "        text-align: right;\n",
       "    }\n",
       "</style>\n",
       "<table border=\"1\" class=\"dataframe\">\n",
       "  <thead>\n",
       "    <tr style=\"text-align: right;\">\n",
       "      <th></th>\n",
       "      <th>Predicted_loan_amount</th>\n",
       "    </tr>\n",
       "  </thead>\n",
       "  <tbody>\n",
       "    <tr>\n",
       "      <th>0</th>\n",
       "      <td>15000.0</td>\n",
       "    </tr>\n",
       "    <tr>\n",
       "      <th>1</th>\n",
       "      <td>5000.0</td>\n",
       "    </tr>\n",
       "    <tr>\n",
       "      <th>2</th>\n",
       "      <td>5000.0</td>\n",
       "    </tr>\n",
       "    <tr>\n",
       "      <th>3</th>\n",
       "      <td>10000.0</td>\n",
       "    </tr>\n",
       "    <tr>\n",
       "      <th>4</th>\n",
       "      <td>5000.0</td>\n",
       "    </tr>\n",
       "  </tbody>\n",
       "</table>\n",
       "</div>"
      ],
      "text/plain": [
       "   Predicted_loan_amount\n",
       "0                15000.0\n",
       "1                 5000.0\n",
       "2                 5000.0\n",
       "3                10000.0\n",
       "4                 5000.0"
      ]
     },
     "execution_count": 166,
     "metadata": {},
     "output_type": "execute_result"
    }
   ],
   "source": [
    "y_pred_dt4 = pd.DataFrame(y_pred_dt4,columns={\"Predicted_loan_amount\"})\n",
    "y_pred_dt4.head()"
   ]
  },
  {
   "cell_type": "code",
   "execution_count": 168,
   "metadata": {},
   "outputs": [
    {
     "data": {
      "text/html": [
       "<div>\n",
       "<style scoped>\n",
       "    .dataframe tbody tr th:only-of-type {\n",
       "        vertical-align: middle;\n",
       "    }\n",
       "\n",
       "    .dataframe tbody tr th {\n",
       "        vertical-align: top;\n",
       "    }\n",
       "\n",
       "    .dataframe thead th {\n",
       "        text-align: right;\n",
       "    }\n",
       "</style>\n",
       "<table border=\"1\" class=\"dataframe\">\n",
       "  <thead>\n",
       "    <tr style=\"text-align: right;\">\n",
       "      <th></th>\n",
       "      <th>Predicted_loan_amount</th>\n",
       "      <th>loan_amount</th>\n",
       "    </tr>\n",
       "  </thead>\n",
       "  <tbody>\n",
       "    <tr>\n",
       "      <th>0</th>\n",
       "      <td>15000.0</td>\n",
       "      <td>15000.0</td>\n",
       "    </tr>\n",
       "    <tr>\n",
       "      <th>1</th>\n",
       "      <td>5000.0</td>\n",
       "      <td>5000.0</td>\n",
       "    </tr>\n",
       "    <tr>\n",
       "      <th>2</th>\n",
       "      <td>5000.0</td>\n",
       "      <td>5000.0</td>\n",
       "    </tr>\n",
       "    <tr>\n",
       "      <th>3</th>\n",
       "      <td>10000.0</td>\n",
       "      <td>8000.0</td>\n",
       "    </tr>\n",
       "    <tr>\n",
       "      <th>4</th>\n",
       "      <td>5000.0</td>\n",
       "      <td>5000.0</td>\n",
       "    </tr>\n",
       "    <tr>\n",
       "      <th>5</th>\n",
       "      <td>10000.0</td>\n",
       "      <td>10000.0</td>\n",
       "    </tr>\n",
       "    <tr>\n",
       "      <th>6</th>\n",
       "      <td>9000.0</td>\n",
       "      <td>9000.0</td>\n",
       "    </tr>\n",
       "    <tr>\n",
       "      <th>7</th>\n",
       "      <td>5000.0</td>\n",
       "      <td>5000.0</td>\n",
       "    </tr>\n",
       "    <tr>\n",
       "      <th>8</th>\n",
       "      <td>5000.0</td>\n",
       "      <td>5000.0</td>\n",
       "    </tr>\n",
       "    <tr>\n",
       "      <th>9</th>\n",
       "      <td>5000.0</td>\n",
       "      <td>5000.0</td>\n",
       "    </tr>\n",
       "  </tbody>\n",
       "</table>\n",
       "</div>"
      ],
      "text/plain": [
       "   Predicted_loan_amount  loan_amount\n",
       "0                15000.0      15000.0\n",
       "1                 5000.0       5000.0\n",
       "2                 5000.0       5000.0\n",
       "3                10000.0       8000.0\n",
       "4                 5000.0       5000.0\n",
       "5                10000.0      10000.0\n",
       "6                 9000.0       9000.0\n",
       "7                 5000.0       5000.0\n",
       "8                 5000.0       5000.0\n",
       "9                 5000.0       5000.0"
      ]
     },
     "execution_count": 168,
     "metadata": {},
     "output_type": "execute_result"
    }
   ],
   "source": [
    "dt_merged4 = pd.concat([y_pred_dt4,y_test2],axis=1)\n",
    "dt_merged4.head(10)"
   ]
  },
  {
   "cell_type": "code",
   "execution_count": 170,
   "metadata": {},
   "outputs": [
    {
     "data": {
      "text/plain": [
       "<AxesSubplot:>"
      ]
     },
     "execution_count": 170,
     "metadata": {},
     "output_type": "execute_result"
    },
    {
     "data": {
      "text/plain": [
       "<Figure size 1440x720 with 0 Axes>"
      ]
     },
     "metadata": {},
     "output_type": "display_data"
    },
    {
     "data": {
      "image/png": "[encoded data removed]",
      "text/plain": [
       "<Figure size 432x288 with 1 Axes>"
      ]
     },
     "metadata": {
      "needs_background": "light"
     },
     "output_type": "display_data"
    }
   ],
   "source": [
    "plt.figure(figsize = (20,10))\n",
    "dt_merged4[['loan_amount','Predicted_loan_amount']].plot()"
   ]
  },
  {
   "cell_type": "code",
   "execution_count": 172,
   "metadata": {},
   "outputs": [
    {
     "name": "stdout",
     "output_type": "stream",
     "text": [
      "MAE: 1315.4346195516293\n",
      "MSE: 281055328.7773981\n",
      "RMSE: 16764.704852081293\n"
     ]
    }
   ],
   "source": [
    "print('MAE:', MAE(y_test, y_pred_dt4))\n",
    "print('MSE:', MSE(y_test, y_pred_dt4))\n",
    "print('RMSE:', np.sqrt(MSE(y_test, y_pred_dt4)))"
   ]
  },
  {
   "cell_type": "code",
   "execution_count": 174,
   "metadata": {},
   "outputs": [],
   "source": [
    "dt_merged4['error_rate'] = (abs(dt_merged4['loan_amount']-dt_merged4['Predicted_loan_amount'])/dt_merged4['loan_amount'])*100"
   ]
  },
  {
   "cell_type": "code",
   "execution_count": 176,
   "metadata": {},
   "outputs": [
    {
     "data": {
      "text/html": [
       "<div>\n",
       "<style scoped>\n",
       "    .dataframe tbody tr th:only-of-type {\n",
       "        vertical-align: middle;\n",
       "    }\n",
       "\n",
       "    .dataframe tbody tr th {\n",
       "        vertical-align: top;\n",
       "    }\n",
       "\n",
       "    .dataframe thead th {\n",
       "        text-align: right;\n",
       "    }\n",
       "</style>\n",
       "<table border=\"1\" class=\"dataframe\">\n",
       "  <thead>\n",
       "    <tr style=\"text-align: right;\">\n",
       "      <th></th>\n",
       "      <th>Predicted_loan_amount</th>\n",
       "      <th>loan_amount</th>\n",
       "      <th>error_rate</th>\n",
       "    </tr>\n",
       "  </thead>\n",
       "  <tbody>\n",
       "    <tr>\n",
       "      <th>0</th>\n",
       "      <td>15000.0</td>\n",
       "      <td>15000.0</td>\n",
       "      <td>0.0</td>\n",
       "    </tr>\n",
       "    <tr>\n",
       "      <th>1</th>\n",
       "      <td>5000.0</td>\n",
       "      <td>5000.0</td>\n",
       "      <td>0.0</td>\n",
       "    </tr>\n",
       "    <tr>\n",
       "      <th>2</th>\n",
       "      <td>5000.0</td>\n",
       "      <td>5000.0</td>\n",
       "      <td>0.0</td>\n",
       "    </tr>\n",
       "    <tr>\n",
       "      <th>3</th>\n",
       "      <td>10000.0</td>\n",
       "      <td>8000.0</td>\n",
       "      <td>25.0</td>\n",
       "    </tr>\n",
       "    <tr>\n",
       "      <th>4</th>\n",
       "      <td>5000.0</td>\n",
       "      <td>5000.0</td>\n",
       "      <td>0.0</td>\n",
       "    </tr>\n",
       "  </tbody>\n",
       "</table>\n",
       "</div>"
      ],
      "text/plain": [
       "   Predicted_loan_amount  loan_amount  error_rate\n",
       "0                15000.0      15000.0         0.0\n",
       "1                 5000.0       5000.0         0.0\n",
       "2                 5000.0       5000.0         0.0\n",
       "3                10000.0       8000.0        25.0\n",
       "4                 5000.0       5000.0         0.0"
      ]
     },
     "execution_count": 176,
     "metadata": {},
     "output_type": "execute_result"
    }
   ],
   "source": [
    "dt_merged4.head()"
   ]
  },
  {
   "cell_type": "code",
   "execution_count": 180,
   "metadata": {},
   "outputs": [
    {
     "data": {
      "text/plain": [
       "88.06041829755065"
      ]
     },
     "execution_count": 180,
     "metadata": {},
     "output_type": "execute_result"
    }
   ],
   "source": [
    "#mean error rate\n",
    "dt_mean_error4=dt_merged4.error_rate.mean()\n",
    "#calculating accuracy\n",
    "dt_mean_accuracy4=100-dt_mean_error4\n",
    "dt_mean_accuracy4"
   ]
  },
  {
   "cell_type": "markdown",
   "metadata": {},
   "source": [
    "Using DT Regressor, we get 88% accuracy."
   ]
  },
  {
   "cell_type": "markdown",
   "metadata": {},
   "source": [
    "# RANDOM FOREST REGRESSOR"
   ]
  },
  {
   "cell_type": "code",
   "execution_count": 182,
   "metadata": {},
   "outputs": [
    {
     "data": {
      "text/plain": [
       "RandomForestRegressor()"
      ]
     },
     "execution_count": 182,
     "metadata": {},
     "output_type": "execute_result"
    }
   ],
   "source": [
    "rf4=RandomForestRegressor()\n",
    "rf4.fit(X4_train,y_train)"
   ]
  },
  {
   "cell_type": "code",
   "execution_count": 184,
   "metadata": {},
   "outputs": [],
   "source": [
    "y_pred_rf4=rf4.predict(X4_test)"
   ]
  },
  {
   "cell_type": "code",
   "execution_count": 185,
   "metadata": {},
   "outputs": [
    {
     "data": {
      "text/html": [
       "<div>\n",
       "<style scoped>\n",
       "    .dataframe tbody tr th:only-of-type {\n",
       "        vertical-align: middle;\n",
       "    }\n",
       "\n",
       "    .dataframe tbody tr th {\n",
       "        vertical-align: top;\n",
       "    }\n",
       "\n",
       "    .dataframe thead th {\n",
       "        text-align: right;\n",
       "    }\n",
       "</style>\n",
       "<table border=\"1\" class=\"dataframe\">\n",
       "  <thead>\n",
       "    <tr style=\"text-align: right;\">\n",
       "      <th></th>\n",
       "      <th>Predicted_loan_amount</th>\n",
       "    </tr>\n",
       "  </thead>\n",
       "  <tbody>\n",
       "    <tr>\n",
       "      <th>0</th>\n",
       "      <td>71549.0</td>\n",
       "    </tr>\n",
       "    <tr>\n",
       "      <th>1</th>\n",
       "      <td>5000.0</td>\n",
       "    </tr>\n",
       "    <tr>\n",
       "      <th>2</th>\n",
       "      <td>5320.0</td>\n",
       "    </tr>\n",
       "    <tr>\n",
       "      <th>3</th>\n",
       "      <td>8170.0</td>\n",
       "    </tr>\n",
       "    <tr>\n",
       "      <th>4</th>\n",
       "      <td>5175.0</td>\n",
       "    </tr>\n",
       "  </tbody>\n",
       "</table>\n",
       "</div>"
      ],
      "text/plain": [
       "   Predicted_loan_amount\n",
       "0                71549.0\n",
       "1                 5000.0\n",
       "2                 5320.0\n",
       "3                 8170.0\n",
       "4                 5175.0"
      ]
     },
     "execution_count": 185,
     "metadata": {},
     "output_type": "execute_result"
    }
   ],
   "source": [
    "y_pred_rf4 = pd.DataFrame(y_pred_rf4,columns={\"Predicted_loan_amount\"})\n",
    "y_pred_rf4.head()"
   ]
  },
  {
   "cell_type": "code",
   "execution_count": 186,
   "metadata": {},
   "outputs": [
    {
     "data": {
      "text/html": [
       "<div>\n",
       "<style scoped>\n",
       "    .dataframe tbody tr th:only-of-type {\n",
       "        vertical-align: middle;\n",
       "    }\n",
       "\n",
       "    .dataframe tbody tr th {\n",
       "        vertical-align: top;\n",
       "    }\n",
       "\n",
       "    .dataframe thead th {\n",
       "        text-align: right;\n",
       "    }\n",
       "</style>\n",
       "<table border=\"1\" class=\"dataframe\">\n",
       "  <thead>\n",
       "    <tr style=\"text-align: right;\">\n",
       "      <th></th>\n",
       "      <th>Predicted_loan_amount</th>\n",
       "      <th>loan_amount</th>\n",
       "    </tr>\n",
       "  </thead>\n",
       "  <tbody>\n",
       "    <tr>\n",
       "      <th>0</th>\n",
       "      <td>71549.0</td>\n",
       "      <td>15000.0</td>\n",
       "    </tr>\n",
       "    <tr>\n",
       "      <th>1</th>\n",
       "      <td>5000.0</td>\n",
       "      <td>5000.0</td>\n",
       "    </tr>\n",
       "    <tr>\n",
       "      <th>2</th>\n",
       "      <td>5320.0</td>\n",
       "      <td>5000.0</td>\n",
       "    </tr>\n",
       "    <tr>\n",
       "      <th>3</th>\n",
       "      <td>8170.0</td>\n",
       "      <td>8000.0</td>\n",
       "    </tr>\n",
       "    <tr>\n",
       "      <th>4</th>\n",
       "      <td>5175.0</td>\n",
       "      <td>5000.0</td>\n",
       "    </tr>\n",
       "    <tr>\n",
       "      <th>5</th>\n",
       "      <td>10000.0</td>\n",
       "      <td>10000.0</td>\n",
       "    </tr>\n",
       "    <tr>\n",
       "      <th>6</th>\n",
       "      <td>10810.0</td>\n",
       "      <td>9000.0</td>\n",
       "    </tr>\n",
       "    <tr>\n",
       "      <th>7</th>\n",
       "      <td>5020.0</td>\n",
       "      <td>5000.0</td>\n",
       "    </tr>\n",
       "    <tr>\n",
       "      <th>8</th>\n",
       "      <td>4980.0</td>\n",
       "      <td>5000.0</td>\n",
       "    </tr>\n",
       "    <tr>\n",
       "      <th>9</th>\n",
       "      <td>5175.0</td>\n",
       "      <td>5000.0</td>\n",
       "    </tr>\n",
       "  </tbody>\n",
       "</table>\n",
       "</div>"
      ],
      "text/plain": [
       "   Predicted_loan_amount  loan_amount\n",
       "0                71549.0      15000.0\n",
       "1                 5000.0       5000.0\n",
       "2                 5320.0       5000.0\n",
       "3                 8170.0       8000.0\n",
       "4                 5175.0       5000.0\n",
       "5                10000.0      10000.0\n",
       "6                10810.0       9000.0\n",
       "7                 5020.0       5000.0\n",
       "8                 4980.0       5000.0\n",
       "9                 5175.0       5000.0"
      ]
     },
     "execution_count": 186,
     "metadata": {},
     "output_type": "execute_result"
    }
   ],
   "source": [
    "rf_merged4 = pd.concat([y_pred_rf4,y_test2],axis=1)\n",
    "rf_merged4.head(10)"
   ]
  },
  {
   "cell_type": "code",
   "execution_count": 187,
   "metadata": {},
   "outputs": [
    {
     "data": {
      "text/plain": [
       "<AxesSubplot:>"
      ]
     },
     "execution_count": 187,
     "metadata": {},
     "output_type": "execute_result"
    },
    {
     "data": {
      "text/plain": [
       "<Figure size 1440x720 with 0 Axes>"
      ]
     },
     "metadata": {},
     "output_type": "display_data"
    },
    {
     "data": {
      "image/png": "[encoded data removed]",
      "text/plain": [
       "<Figure size 432x288 with 1 Axes>"
      ]
     },
     "metadata": {
      "needs_background": "light"
     },
     "output_type": "display_data"
    }
   ],
   "source": [
    "plt.figure(figsize = (20,10))\n",
    "rf_merged4[['loan_amount','Predicted_loan_amount']].plot()"
   ]
  },
  {
   "cell_type": "code",
   "execution_count": 189,
   "metadata": {},
   "outputs": [
    {
     "name": "stdout",
     "output_type": "stream",
     "text": [
      "MAE: 1260.7715642970247\n",
      "MSE: 116715168.32936078\n",
      "RMSE: 10803.479454757193\n"
     ]
    }
   ],
   "source": [
    "print('MAE:', MAE(y_test, y_pred_rf4))\n",
    "print('MSE:', MSE(y_test, y_pred_rf4))\n",
    "print('RMSE:', np.sqrt(MSE(y_test, y_pred_rf4)))"
   ]
  },
  {
   "cell_type": "code",
   "execution_count": 191,
   "metadata": {},
   "outputs": [],
   "source": [
    "rf_merged4['error_rate'] = (abs(rf_merged4['loan_amount']-rf_merged4['Predicted_loan_amount'])/rf_merged4['loan_amount'])*100"
   ]
  },
  {
   "cell_type": "code",
   "execution_count": 193,
   "metadata": {},
   "outputs": [
    {
     "data": {
      "text/html": [
       "<div>\n",
       "<style scoped>\n",
       "    .dataframe tbody tr th:only-of-type {\n",
       "        vertical-align: middle;\n",
       "    }\n",
       "\n",
       "    .dataframe tbody tr th {\n",
       "        vertical-align: top;\n",
       "    }\n",
       "\n",
       "    .dataframe thead th {\n",
       "        text-align: right;\n",
       "    }\n",
       "</style>\n",
       "<table border=\"1\" class=\"dataframe\">\n",
       "  <thead>\n",
       "    <tr style=\"text-align: right;\">\n",
       "      <th></th>\n",
       "      <th>Predicted_loan_amount</th>\n",
       "      <th>loan_amount</th>\n",
       "      <th>error_rate</th>\n",
       "    </tr>\n",
       "  </thead>\n",
       "  <tbody>\n",
       "    <tr>\n",
       "      <th>0</th>\n",
       "      <td>71549.0</td>\n",
       "      <td>15000.0</td>\n",
       "      <td>376.993333</td>\n",
       "    </tr>\n",
       "    <tr>\n",
       "      <th>1</th>\n",
       "      <td>5000.0</td>\n",
       "      <td>5000.0</td>\n",
       "      <td>0.000000</td>\n",
       "    </tr>\n",
       "    <tr>\n",
       "      <th>2</th>\n",
       "      <td>5320.0</td>\n",
       "      <td>5000.0</td>\n",
       "      <td>6.400000</td>\n",
       "    </tr>\n",
       "    <tr>\n",
       "      <th>3</th>\n",
       "      <td>8170.0</td>\n",
       "      <td>8000.0</td>\n",
       "      <td>2.125000</td>\n",
       "    </tr>\n",
       "    <tr>\n",
       "      <th>4</th>\n",
       "      <td>5175.0</td>\n",
       "      <td>5000.0</td>\n",
       "      <td>3.500000</td>\n",
       "    </tr>\n",
       "  </tbody>\n",
       "</table>\n",
       "</div>"
      ],
      "text/plain": [
       "   Predicted_loan_amount  loan_amount  error_rate\n",
       "0                71549.0      15000.0  376.993333\n",
       "1                 5000.0       5000.0    0.000000\n",
       "2                 5320.0       5000.0    6.400000\n",
       "3                 8170.0       8000.0    2.125000\n",
       "4                 5175.0       5000.0    3.500000"
      ]
     },
     "execution_count": 193,
     "metadata": {},
     "output_type": "execute_result"
    }
   ],
   "source": [
    "rf_merged4.head()"
   ]
  },
  {
   "cell_type": "code",
   "execution_count": 195,
   "metadata": {},
   "outputs": [
    {
     "data": {
      "text/plain": [
       "87.3946930932068"
      ]
     },
     "execution_count": 195,
     "metadata": {},
     "output_type": "execute_result"
    }
   ],
   "source": [
    "#mean error rate\n",
    "rf_mean_error4=rf_merged4.error_rate.mean()\n",
    "#calculating accuracy\n",
    "rf_mean_accuracy4=100-rf_mean_error4\n",
    "rf_mean_accuracy4"
   ]
  }
 ],
 "metadata": {
  "kernelspec": {
   "display_name": "Python 3",
   "language": "python",
   "name": "python3"
  },
  "language_info": {
   "codemirror_mode": {
    "name": "ipython",
    "version": 3
   },
   "file_extension": ".py",
   "mimetype": "text/x-python",
   "name": "python",
   "nbconvert_exporter": "python",
   "pygments_lexer": "ipython3",
   "version": "3.8.5"
  }
 },
 "nbformat": 4,
 "nbformat_minor": 4
}
